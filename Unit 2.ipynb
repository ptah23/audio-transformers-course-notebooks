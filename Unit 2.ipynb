{
 "cells": [
  {
   "cell_type": "code",
   "execution_count": 1,
   "id": "7dd49263-610d-4d32-87a3-4dbd9b31e2ac",
   "metadata": {},
   "outputs": [
    {
     "name": "stdout",
     "output_type": "stream",
     "text": [
      "Collecting soundfile\n",
      "  Downloading soundfile-0.12.1-py2.py3-none-manylinux_2_31_x86_64.whl (1.2 MB)\n",
      "\u001b[2K     \u001b[90m━━━━━━━━━━━━━━━━━━━━━━━━━━━━━━━━━━━━━━━━\u001b[0m \u001b[32m1.2/1.2 MB\u001b[0m \u001b[31m27.1 MB/s\u001b[0m eta \u001b[36m0:00:00\u001b[0ma \u001b[36m0:00:01\u001b[0m\n",
      "\u001b[?25hRequirement already satisfied: cffi>=1.0 in /usr/local/lib/python3.8/dist-packages (from soundfile) (1.15.1)\n",
      "Requirement already satisfied: pycparser in /usr/local/lib/python3.8/dist-packages (from cffi>=1.0->soundfile) (2.21)\n",
      "Installing collected packages: soundfile\n",
      "Successfully installed soundfile-0.12.1\n",
      "\u001b[33mWARNING: Running pip as the 'root' user can result in broken permissions and conflicting behaviour with the system package manager. It is recommended to use a virtual environment instead: https://pip.pypa.io/warnings/venv\u001b[0m\u001b[33m\n",
      "\u001b[0mCollecting librosa\n",
      "  Downloading librosa-0.10.0.post2-py3-none-any.whl (253 kB)\n",
      "\u001b[2K     \u001b[90m━━━━━━━━━━━━━━━━━━━━━━━━━━━━━━━━━━━━━━\u001b[0m \u001b[32m253.0/253.0 kB\u001b[0m \u001b[31m13.7 MB/s\u001b[0m eta \u001b[36m0:00:00\u001b[0m\n",
      "\u001b[?25hCollecting audioread>=2.1.9 (from librosa)\n",
      "  Downloading audioread-3.0.0.tar.gz (377 kB)\n",
      "\u001b[2K     \u001b[90m━━━━━━━━━━━━━━━━━━━━━━━━━━━━━━━━━━━━━━\u001b[0m \u001b[32m377.0/377.0 kB\u001b[0m \u001b[31m69.8 MB/s\u001b[0m eta \u001b[36m0:00:00\u001b[0m\n",
      "\u001b[?25h  Preparing metadata (setup.py) ... \u001b[?25ldone\n",
      "\u001b[?25hCollecting numpy!=1.22.0,!=1.22.1,!=1.22.2,>=1.20.3 (from librosa)\n",
      "  Downloading numpy-1.24.4-cp38-cp38-manylinux_2_17_x86_64.manylinux2014_x86_64.whl (17.3 MB)\n",
      "\u001b[2K     \u001b[90m━━━━━━━━━━━━━━━━━━━━━━━━━━━━━━━━━━━━━━━━\u001b[0m \u001b[32m17.3/17.3 MB\u001b[0m \u001b[31m75.4 MB/s\u001b[0m eta \u001b[36m0:00:00\u001b[0ma \u001b[36m0:00:01\u001b[0m\n",
      "\u001b[?25hCollecting scipy>=1.2.0 (from librosa)\n",
      "  Downloading scipy-1.10.1-cp38-cp38-manylinux_2_17_x86_64.manylinux2014_x86_64.whl (34.5 MB)\n",
      "\u001b[2K     \u001b[90m━━━━━━━━━━━━━━━━━━━━━━━━━━━━━━━━━━━━━━━━\u001b[0m \u001b[32m34.5/34.5 MB\u001b[0m \u001b[31m73.1 MB/s\u001b[0m eta \u001b[36m0:00:00\u001b[0m00:01\u001b[0m00:01\u001b[0m\n",
      "\u001b[?25hCollecting scikit-learn>=0.20.0 (from librosa)\n",
      "  Downloading scikit_learn-1.3.0-cp38-cp38-manylinux_2_17_x86_64.manylinux2014_x86_64.whl (11.1 MB)\n",
      "\u001b[2K     \u001b[90m━━━━━━━━━━━━━━━━━━━━━━━━━━━━━━━━━━━━━━━━\u001b[0m \u001b[32m11.1/11.1 MB\u001b[0m \u001b[31m96.9 MB/s\u001b[0m eta \u001b[36m0:00:00\u001b[0m00:01\u001b[0m00:01\u001b[0m\n",
      "\u001b[?25hCollecting joblib>=0.14 (from librosa)\n",
      "  Downloading joblib-1.3.1-py3-none-any.whl (301 kB)\n",
      "\u001b[2K     \u001b[90m━━━━━━━━━━━━━━━━━━━━━━━━━━━━━━━━━━━━━\u001b[0m \u001b[32m302.0/302.0 kB\u001b[0m \u001b[31m113.0 MB/s\u001b[0m eta \u001b[36m0:00:00\u001b[0m\n",
      "\u001b[?25hRequirement already satisfied: decorator>=4.3.0 in /usr/local/lib/python3.8/dist-packages (from librosa) (5.1.1)\n",
      "Collecting numba>=0.51.0 (from librosa)\n",
      "  Downloading numba-0.57.1-cp38-cp38-manylinux2014_x86_64.manylinux_2_17_x86_64.whl (3.6 MB)\n",
      "\u001b[2K     \u001b[90m━━━━━━━━━━━━━━━━━━━━━━━━━━━━━━━━━━━━━━━━\u001b[0m \u001b[32m3.6/3.6 MB\u001b[0m \u001b[31m97.6 MB/s\u001b[0m eta \u001b[36m0:00:00\u001b[0m:00:01\u001b[0m\n",
      "\u001b[?25hRequirement already satisfied: soundfile>=0.12.1 in /usr/local/lib/python3.8/dist-packages (from librosa) (0.12.1)\n",
      "Collecting pooch<1.7,>=1.0 (from librosa)\n",
      "  Downloading pooch-1.6.0-py3-none-any.whl (56 kB)\n",
      "\u001b[2K     \u001b[90m━━━━━━━━━━━━━━━━━━━━━━━━━━━━━━━━━━━━━━━━\u001b[0m \u001b[32m56.3/56.3 kB\u001b[0m \u001b[31m31.8 MB/s\u001b[0m eta \u001b[36m0:00:00\u001b[0m\n",
      "\u001b[?25hCollecting soxr>=0.3.2 (from librosa)\n",
      "  Downloading soxr-0.3.5-cp38-cp38-manylinux_2_17_x86_64.manylinux2014_x86_64.whl (1.3 MB)\n",
      "\u001b[2K     \u001b[90m━━━━━━━━━━━━━━━━━━━━━━━━━━━━━━━━━━━━━━━━\u001b[0m \u001b[32m1.3/1.3 MB\u001b[0m \u001b[31m94.8 MB/s\u001b[0m eta \u001b[36m0:00:00\u001b[0m\n",
      "\u001b[?25hRequirement already satisfied: typing-extensions>=4.1.1 in /usr/local/lib/python3.8/dist-packages (from librosa) (4.6.2)\n",
      "Collecting lazy-loader>=0.1 (from librosa)\n",
      "  Downloading lazy_loader-0.3-py3-none-any.whl (9.1 kB)\n",
      "Collecting msgpack>=1.0 (from librosa)\n",
      "  Downloading msgpack-1.0.5-cp38-cp38-manylinux_2_17_x86_64.manylinux2014_x86_64.whl (322 kB)\n",
      "\u001b[2K     \u001b[90m━━━━━━━━━━━━━━━━━━━━━━━━━━━━━━━━━━━━━\u001b[0m \u001b[32m322.4/322.4 kB\u001b[0m \u001b[31m110.2 MB/s\u001b[0m eta \u001b[36m0:00:00\u001b[0m\n",
      "\u001b[?25hCollecting llvmlite<0.41,>=0.40.0dev0 (from numba>=0.51.0->librosa)\n",
      "  Downloading llvmlite-0.40.1-cp38-cp38-manylinux_2_17_x86_64.manylinux2014_x86_64.whl (42.1 MB)\n",
      "\u001b[2K     \u001b[90m━━━━━━━━━━━━━━━━━━━━━━━━━━━━━━━━━━━━━━━━\u001b[0m \u001b[32m42.1/42.1 MB\u001b[0m \u001b[31m68.8 MB/s\u001b[0m eta \u001b[36m0:00:00\u001b[0m00:01\u001b[0m00:01\u001b[0m\n",
      "\u001b[?25hRequirement already satisfied: importlib-metadata in /usr/local/lib/python3.8/dist-packages (from numba>=0.51.0->librosa) (6.6.0)\n",
      "Collecting appdirs>=1.3.0 (from pooch<1.7,>=1.0->librosa)\n",
      "  Downloading appdirs-1.4.4-py2.py3-none-any.whl (9.6 kB)\n",
      "Requirement already satisfied: packaging>=20.0 in /usr/local/lib/python3.8/dist-packages (from pooch<1.7,>=1.0->librosa) (23.1)\n",
      "Requirement already satisfied: requests>=2.19.0 in /usr/local/lib/python3.8/dist-packages (from pooch<1.7,>=1.0->librosa) (2.31.0)\n",
      "Collecting threadpoolctl>=2.0.0 (from scikit-learn>=0.20.0->librosa)\n",
      "  Downloading threadpoolctl-3.1.0-py3-none-any.whl (14 kB)\n",
      "Requirement already satisfied: cffi>=1.0 in /usr/local/lib/python3.8/dist-packages (from soundfile>=0.12.1->librosa) (1.15.1)\n",
      "Requirement already satisfied: pycparser in /usr/local/lib/python3.8/dist-packages (from cffi>=1.0->soundfile>=0.12.1->librosa) (2.21)\n",
      "Requirement already satisfied: charset-normalizer<4,>=2 in /usr/local/lib/python3.8/dist-packages (from requests>=2.19.0->pooch<1.7,>=1.0->librosa) (3.1.0)\n",
      "Requirement already satisfied: idna<4,>=2.5 in /usr/lib/python3/dist-packages (from requests>=2.19.0->pooch<1.7,>=1.0->librosa) (2.8)\n",
      "Requirement already satisfied: urllib3<3,>=1.21.1 in /usr/lib/python3/dist-packages (from requests>=2.19.0->pooch<1.7,>=1.0->librosa) (1.25.8)\n",
      "Requirement already satisfied: certifi>=2017.4.17 in /usr/lib/python3/dist-packages (from requests>=2.19.0->pooch<1.7,>=1.0->librosa) (2019.11.28)\n",
      "Requirement already satisfied: zipp>=0.5 in /usr/local/lib/python3.8/dist-packages (from importlib-metadata->numba>=0.51.0->librosa) (3.15.0)\n",
      "Building wheels for collected packages: audioread\n",
      "  Building wheel for audioread (setup.py) ... \u001b[?25ldone\n",
      "\u001b[?25h  Created wheel for audioread: filename=audioread-3.0.0-py3-none-any.whl size=23702 sha256=336388b75f34c44e3e61b803016a1fbb2ed5631edcf99940f6b6f49f2d8358b7\n",
      "  Stored in directory: /root/.cache/pip/wheels/0a/ed/be/49df2538fca496690a024a4374455584d65c2afd6fc3d6e9c7\n",
      "Successfully built audioread\n",
      "Installing collected packages: msgpack, appdirs, threadpoolctl, numpy, llvmlite, lazy-loader, joblib, audioread, soxr, scipy, pooch, numba, scikit-learn, librosa\n",
      "Successfully installed appdirs-1.4.4 audioread-3.0.0 joblib-1.3.1 lazy-loader-0.3 librosa-0.10.0.post2 llvmlite-0.40.1 msgpack-1.0.5 numba-0.57.1 numpy-1.24.4 pooch-1.6.0 scikit-learn-1.3.0 scipy-1.10.1 soxr-0.3.5 threadpoolctl-3.1.0\n",
      "\u001b[33mWARNING: Running pip as the 'root' user can result in broken permissions and conflicting behaviour with the system package manager. It is recommended to use a virtual environment instead: https://pip.pypa.io/warnings/venv\u001b[0m\u001b[33m\n",
      "\u001b[0m"
     ]
    }
   ],
   "source": [
    "!pip install soundfile\n",
    "!pip install librosa"
   ]
  },
  {
   "cell_type": "code",
   "execution_count": 2,
   "id": "836bfdb8-de71-4ead-bfa5-261f6f42e1c8",
   "metadata": {},
   "outputs": [
    {
     "name": "stdout",
     "output_type": "stream",
     "text": [
      "Collecting matplotlib\n",
      "  Downloading matplotlib-3.7.1-cp38-cp38-manylinux_2_12_x86_64.manylinux2010_x86_64.whl (9.2 MB)\n",
      "\u001b[2K     \u001b[90m━━━━━━━━━━━━━━━━━━━━━━━━━━━━━━━━━━━━━━━━\u001b[0m \u001b[32m9.2/9.2 MB\u001b[0m \u001b[31m68.7 MB/s\u001b[0m eta \u001b[36m0:00:00\u001b[0ma \u001b[36m0:00:01\u001b[0m\n",
      "\u001b[?25hCollecting contourpy>=1.0.1 (from matplotlib)\n",
      "  Downloading contourpy-1.1.0-cp38-cp38-manylinux_2_17_x86_64.manylinux2014_x86_64.whl (300 kB)\n",
      "\u001b[2K     \u001b[90m━━━━━━━━━━━━━━━━━━━━━━━━━━━━━━━━━━━━━\u001b[0m \u001b[32m300.4/300.4 kB\u001b[0m \u001b[31m118.2 MB/s\u001b[0m eta \u001b[36m0:00:00\u001b[0m\n",
      "\u001b[?25hCollecting cycler>=0.10 (from matplotlib)\n",
      "  Downloading cycler-0.11.0-py3-none-any.whl (6.4 kB)\n",
      "Collecting fonttools>=4.22.0 (from matplotlib)\n",
      "  Downloading fonttools-4.40.0-cp38-cp38-manylinux_2_17_x86_64.manylinux2014_x86_64.whl (4.4 MB)\n",
      "\u001b[2K     \u001b[90m━━━━━━━━━━━━━━━━━━━━━━━━━━━━━━━━━━━━━━━━\u001b[0m \u001b[32m4.4/4.4 MB\u001b[0m \u001b[31m88.5 MB/s\u001b[0m eta \u001b[36m0:00:00\u001b[0mta \u001b[36m0:00:01\u001b[0m\n",
      "\u001b[?25hCollecting kiwisolver>=1.0.1 (from matplotlib)\n",
      "  Downloading kiwisolver-1.4.4-cp38-cp38-manylinux_2_5_x86_64.manylinux1_x86_64.whl (1.2 MB)\n",
      "\u001b[2K     \u001b[90m━━━━━━━━━━━━━━━━━━━━━━━━━━━━━━━━━━━━━━━━\u001b[0m \u001b[32m1.2/1.2 MB\u001b[0m \u001b[31m91.0 MB/s\u001b[0m eta \u001b[36m0:00:00\u001b[0m\n",
      "\u001b[?25hRequirement already satisfied: numpy>=1.20 in /usr/local/lib/python3.8/dist-packages (from matplotlib) (1.24.4)\n",
      "Requirement already satisfied: packaging>=20.0 in /usr/local/lib/python3.8/dist-packages (from matplotlib) (23.1)\n",
      "Collecting pillow>=6.2.0 (from matplotlib)\n",
      "  Downloading Pillow-9.5.0-cp38-cp38-manylinux_2_28_x86_64.whl (3.4 MB)\n",
      "\u001b[2K     \u001b[90m━━━━━━━━━━━━━━━━━━━━━━━━━━━━━━━━━━━━━━━━\u001b[0m \u001b[32m3.4/3.4 MB\u001b[0m \u001b[31m64.1 MB/s\u001b[0m eta \u001b[36m0:00:00\u001b[0mta \u001b[36m0:00:01\u001b[0m\n",
      "\u001b[?25hCollecting pyparsing>=2.3.1 (from matplotlib)\n",
      "  Downloading pyparsing-3.1.0-py3-none-any.whl (102 kB)\n",
      "\u001b[2K     \u001b[90m━━━━━━━━━━━━━━━━━━━━━━━━━━━━━━━━━━━━━━\u001b[0m \u001b[32m102.6/102.6 kB\u001b[0m \u001b[31m55.1 MB/s\u001b[0m eta \u001b[36m0:00:00\u001b[0m\n",
      "\u001b[?25hRequirement already satisfied: python-dateutil>=2.7 in /usr/local/lib/python3.8/dist-packages (from matplotlib) (2.8.2)\n",
      "Requirement already satisfied: importlib-resources>=3.2.0 in /usr/local/lib/python3.8/dist-packages (from matplotlib) (5.12.0)\n",
      "Requirement already satisfied: zipp>=3.1.0 in /usr/local/lib/python3.8/dist-packages (from importlib-resources>=3.2.0->matplotlib) (3.15.0)\n",
      "Requirement already satisfied: six>=1.5 in /usr/lib/python3/dist-packages (from python-dateutil>=2.7->matplotlib) (1.14.0)\n",
      "Installing collected packages: pyparsing, pillow, kiwisolver, fonttools, cycler, contourpy, matplotlib\n",
      "Successfully installed contourpy-1.1.0 cycler-0.11.0 fonttools-4.40.0 kiwisolver-1.4.4 matplotlib-3.7.1 pillow-9.5.0 pyparsing-3.1.0\n",
      "\u001b[33mWARNING: Running pip as the 'root' user can result in broken permissions and conflicting behaviour with the system package manager. It is recommended to use a virtual environment instead: https://pip.pypa.io/warnings/venv\u001b[0m\u001b[33m\n",
      "\u001b[0m"
     ]
    }
   ],
   "source": [
    "!pip install matplotlib"
   ]
  },
  {
   "cell_type": "code",
   "execution_count": 3,
   "id": "39345ec0-f644-428b-8ead-3a0e0d64babe",
   "metadata": {},
   "outputs": [
    {
     "name": "stdout",
     "output_type": "stream",
     "text": [
      "Collecting datasets\n",
      "  Downloading datasets-2.13.1-py3-none-any.whl (486 kB)\n",
      "\u001b[2K     \u001b[90m━━━━━━━━━━━━━━━━━━━━━━━━━━━━━━━━━━━━━━\u001b[0m \u001b[32m486.2/486.2 kB\u001b[0m \u001b[31m15.8 MB/s\u001b[0m eta \u001b[36m0:00:00\u001b[0m\n",
      "\u001b[?25hRequirement already satisfied: numpy>=1.17 in /usr/local/lib/python3.8/dist-packages (from datasets) (1.24.4)\n",
      "Collecting pyarrow>=8.0.0 (from datasets)\n",
      "  Downloading pyarrow-12.0.1-cp38-cp38-manylinux_2_17_x86_64.manylinux2014_x86_64.whl (39.0 MB)\n",
      "\u001b[2K     \u001b[90m━━━━━━━━━━━━━━━━━━━━━━━━━━━━━━━━━━━━━━━━\u001b[0m \u001b[32m39.0/39.0 MB\u001b[0m \u001b[31m57.7 MB/s\u001b[0m eta \u001b[36m0:00:00\u001b[0m00:01\u001b[0m00:01\u001b[0m\n",
      "\u001b[?25hCollecting dill<0.3.7,>=0.3.0 (from datasets)\n",
      "  Downloading dill-0.3.6-py3-none-any.whl (110 kB)\n",
      "\u001b[2K     \u001b[90m━━━━━━━━━━━━━━━━━━━━━━━━━━━━━━━━━━━━━━\u001b[0m \u001b[32m110.5/110.5 kB\u001b[0m \u001b[31m57.7 MB/s\u001b[0m eta \u001b[36m0:00:00\u001b[0m\n",
      "\u001b[?25hCollecting pandas (from datasets)\n",
      "  Downloading pandas-2.0.3-cp38-cp38-manylinux_2_17_x86_64.manylinux2014_x86_64.whl (12.4 MB)\n",
      "\u001b[2K     \u001b[90m━━━━━━━━━━━━━━━━━━━━━━━━━━━━━━━━━━━━━━━━\u001b[0m \u001b[32m12.4/12.4 MB\u001b[0m \u001b[31m66.0 MB/s\u001b[0m eta \u001b[36m0:00:00\u001b[0m00:01\u001b[0m00:01\u001b[0m\n",
      "\u001b[?25hRequirement already satisfied: requests>=2.19.0 in /usr/local/lib/python3.8/dist-packages (from datasets) (2.31.0)\n",
      "Requirement already satisfied: tqdm>=4.62.1 in /usr/local/lib/python3.8/dist-packages (from datasets) (4.65.0)\n",
      "Collecting xxhash (from datasets)\n",
      "  Downloading xxhash-3.2.0-cp38-cp38-manylinux_2_17_x86_64.manylinux2014_x86_64.whl (213 kB)\n",
      "\u001b[2K     \u001b[90m━━━━━━━━━━━━━━━━━━━━━━━━━━━━━━━━━━━━━━\u001b[0m \u001b[32m213.0/213.0 kB\u001b[0m \u001b[31m90.0 MB/s\u001b[0m eta \u001b[36m0:00:00\u001b[0m\n",
      "\u001b[?25hCollecting multiprocess (from datasets)\n",
      "  Downloading multiprocess-0.70.14-py38-none-any.whl (132 kB)\n",
      "\u001b[2K     \u001b[90m━━━━━━━━━━━━━━━━━━━━━━━━━━━━━━━━━━━━━━\u001b[0m \u001b[32m132.0/132.0 kB\u001b[0m \u001b[31m70.6 MB/s\u001b[0m eta \u001b[36m0:00:00\u001b[0m\n",
      "\u001b[?25hCollecting fsspec[http]>=2021.11.1 (from datasets)\n",
      "  Downloading fsspec-2023.6.0-py3-none-any.whl (163 kB)\n",
      "\u001b[2K     \u001b[90m━━━━━━━━━━━━━━━━━━━━━━━━━━━━━━━━━━━━━━\u001b[0m \u001b[32m163.8/163.8 kB\u001b[0m \u001b[31m71.2 MB/s\u001b[0m eta \u001b[36m0:00:00\u001b[0m\n",
      "\u001b[?25hCollecting aiohttp (from datasets)\n",
      "  Downloading aiohttp-3.8.4-cp38-cp38-manylinux_2_17_x86_64.manylinux2014_x86_64.whl (1.0 MB)\n",
      "\u001b[2K     \u001b[90m━━━━━━━━━━━━━━━━━━━━━━━━━━━━━━━━━━━━━━━━\u001b[0m \u001b[32m1.0/1.0 MB\u001b[0m \u001b[31m97.5 MB/s\u001b[0m eta \u001b[36m0:00:00\u001b[0m\n",
      "\u001b[?25hCollecting huggingface-hub<1.0.0,>=0.11.0 (from datasets)\n",
      "  Downloading huggingface_hub-0.15.1-py3-none-any.whl (236 kB)\n",
      "\u001b[2K     \u001b[90m━━━━━━━━━━━━━━━━━━━━━━━━━━━━━━━━━━━━━\u001b[0m \u001b[32m236.8/236.8 kB\u001b[0m \u001b[31m103.2 MB/s\u001b[0m eta \u001b[36m0:00:00\u001b[0m\n",
      "\u001b[?25hRequirement already satisfied: packaging in /usr/local/lib/python3.8/dist-packages (from datasets) (23.1)\n",
      "Requirement already satisfied: pyyaml>=5.1 in /usr/local/lib/python3.8/dist-packages (from datasets) (5.4.1)\n",
      "Requirement already satisfied: attrs>=17.3.0 in /usr/local/lib/python3.8/dist-packages (from aiohttp->datasets) (23.1.0)\n",
      "Requirement already satisfied: charset-normalizer<4.0,>=2.0 in /usr/local/lib/python3.8/dist-packages (from aiohttp->datasets) (3.1.0)\n",
      "Collecting multidict<7.0,>=4.5 (from aiohttp->datasets)\n",
      "  Downloading multidict-6.0.4-cp38-cp38-manylinux_2_17_x86_64.manylinux2014_x86_64.whl (121 kB)\n",
      "\u001b[2K     \u001b[90m━━━━━━━━━━━━━━━━━━━━━━━━━━━━━━━━━━━━━━\u001b[0m \u001b[32m121.3/121.3 kB\u001b[0m \u001b[31m57.9 MB/s\u001b[0m eta \u001b[36m0:00:00\u001b[0m\n",
      "\u001b[?25hCollecting async-timeout<5.0,>=4.0.0a3 (from aiohttp->datasets)\n",
      "  Downloading async_timeout-4.0.2-py3-none-any.whl (5.8 kB)\n",
      "Collecting yarl<2.0,>=1.0 (from aiohttp->datasets)\n",
      "  Downloading yarl-1.9.2-cp38-cp38-manylinux_2_17_x86_64.manylinux2014_x86_64.whl (266 kB)\n",
      "\u001b[2K     \u001b[90m━━━━━━━━━━━━━━━━━━━━━━━━━━━━━━━━━━━━━━\u001b[0m \u001b[32m266.9/266.9 kB\u001b[0m \u001b[31m99.3 MB/s\u001b[0m eta \u001b[36m0:00:00\u001b[0m\n",
      "\u001b[?25hCollecting frozenlist>=1.1.1 (from aiohttp->datasets)\n",
      "  Downloading frozenlist-1.3.3-cp38-cp38-manylinux_2_5_x86_64.manylinux1_x86_64.manylinux_2_17_x86_64.manylinux2014_x86_64.whl (161 kB)\n",
      "\u001b[2K     \u001b[90m━━━━━━━━━━━━━━━━━━━━━━━━━━━━━━━━━━━━━━\u001b[0m \u001b[32m161.3/161.3 kB\u001b[0m \u001b[31m76.6 MB/s\u001b[0m eta \u001b[36m0:00:00\u001b[0m\n",
      "\u001b[?25hCollecting aiosignal>=1.1.2 (from aiohttp->datasets)\n",
      "  Downloading aiosignal-1.3.1-py3-none-any.whl (7.6 kB)\n",
      "Collecting filelock (from huggingface-hub<1.0.0,>=0.11.0->datasets)\n",
      "  Downloading filelock-3.12.2-py3-none-any.whl (10 kB)\n",
      "Requirement already satisfied: typing-extensions>=3.7.4.3 in /usr/local/lib/python3.8/dist-packages (from huggingface-hub<1.0.0,>=0.11.0->datasets) (4.6.2)\n",
      "Requirement already satisfied: idna<4,>=2.5 in /usr/lib/python3/dist-packages (from requests>=2.19.0->datasets) (2.8)\n",
      "Requirement already satisfied: urllib3<3,>=1.21.1 in /usr/lib/python3/dist-packages (from requests>=2.19.0->datasets) (1.25.8)\n",
      "Requirement already satisfied: certifi>=2017.4.17 in /usr/lib/python3/dist-packages (from requests>=2.19.0->datasets) (2019.11.28)\n",
      "Requirement already satisfied: python-dateutil>=2.8.2 in /usr/local/lib/python3.8/dist-packages (from pandas->datasets) (2.8.2)\n",
      "Requirement already satisfied: pytz>=2020.1 in /usr/local/lib/python3.8/dist-packages (from pandas->datasets) (2023.3)\n",
      "Collecting tzdata>=2022.1 (from pandas->datasets)\n",
      "  Downloading tzdata-2023.3-py2.py3-none-any.whl (341 kB)\n",
      "\u001b[2K     \u001b[90m━━━━━━━━━━━━━━━━━━━━━━━━━━━━━━━━━━━━━━\u001b[0m \u001b[32m341.8/341.8 kB\u001b[0m \u001b[31m70.4 MB/s\u001b[0m eta \u001b[36m0:00:00\u001b[0m\n",
      "\u001b[?25hRequirement already satisfied: six>=1.5 in /usr/lib/python3/dist-packages (from python-dateutil>=2.8.2->pandas->datasets) (1.14.0)\n",
      "Installing collected packages: xxhash, tzdata, pyarrow, multidict, fsspec, frozenlist, filelock, dill, async-timeout, yarl, pandas, multiprocess, huggingface-hub, aiosignal, aiohttp, datasets\n",
      "Successfully installed aiohttp-3.8.4 aiosignal-1.3.1 async-timeout-4.0.2 datasets-2.13.1 dill-0.3.6 filelock-3.12.2 frozenlist-1.3.3 fsspec-2023.6.0 huggingface-hub-0.15.1 multidict-6.0.4 multiprocess-0.70.14 pandas-2.0.3 pyarrow-12.0.1 tzdata-2023.3 xxhash-3.2.0 yarl-1.9.2\n",
      "\u001b[33mWARNING: Running pip as the 'root' user can result in broken permissions and conflicting behaviour with the system package manager. It is recommended to use a virtual environment instead: https://pip.pypa.io/warnings/venv\u001b[0m\u001b[33m\n",
      "\u001b[0mCollecting transformers\n",
      "  Downloading transformers-4.30.2-py3-none-any.whl (7.2 MB)\n",
      "\u001b[2K     \u001b[90m━━━━━━━━━━━━━━━━━━━━━━━━━━━━━━━━━━━━━━━━\u001b[0m \u001b[32m7.2/7.2 MB\u001b[0m \u001b[31m28.8 MB/s\u001b[0m eta \u001b[36m0:00:00\u001b[0m00:01\u001b[0m00:01\u001b[0m\n",
      "\u001b[?25hRequirement already satisfied: filelock in /usr/local/lib/python3.8/dist-packages (from transformers) (3.12.2)\n",
      "Requirement already satisfied: huggingface-hub<1.0,>=0.14.1 in /usr/local/lib/python3.8/dist-packages (from transformers) (0.15.1)\n",
      "Requirement already satisfied: numpy>=1.17 in /usr/local/lib/python3.8/dist-packages (from transformers) (1.24.4)\n",
      "Requirement already satisfied: packaging>=20.0 in /usr/local/lib/python3.8/dist-packages (from transformers) (23.1)\n",
      "Requirement already satisfied: pyyaml>=5.1 in /usr/local/lib/python3.8/dist-packages (from transformers) (5.4.1)\n",
      "Collecting regex!=2019.12.17 (from transformers)\n",
      "  Downloading regex-2023.6.3-cp38-cp38-manylinux_2_17_x86_64.manylinux2014_x86_64.whl (772 kB)\n",
      "\u001b[2K     \u001b[90m━━━━━━━━━━━━━━━━━━━━━━━━━━━━━━━━━━━━━━\u001b[0m \u001b[32m772.3/772.3 kB\u001b[0m \u001b[31m96.6 MB/s\u001b[0m eta \u001b[36m0:00:00\u001b[0m\n",
      "\u001b[?25hRequirement already satisfied: requests in /usr/local/lib/python3.8/dist-packages (from transformers) (2.31.0)\n",
      "Collecting tokenizers!=0.11.3,<0.14,>=0.11.1 (from transformers)\n",
      "  Downloading tokenizers-0.13.3-cp38-cp38-manylinux_2_17_x86_64.manylinux2014_x86_64.whl (7.8 MB)\n",
      "\u001b[2K     \u001b[90m━━━━━━━━━━━━━━━━━━━━━━━━━━━━━━━━━━━━━━━━\u001b[0m \u001b[32m7.8/7.8 MB\u001b[0m \u001b[31m72.5 MB/s\u001b[0m eta \u001b[36m0:00:00\u001b[0m00:01\u001b[0m00:01\u001b[0m\n",
      "\u001b[?25hCollecting safetensors>=0.3.1 (from transformers)\n",
      "  Downloading safetensors-0.3.1-cp38-cp38-manylinux_2_17_x86_64.manylinux2014_x86_64.whl (1.3 MB)\n",
      "\u001b[2K     \u001b[90m━━━━━━━━━━━━━━━━━━━━━━━━━━━━━━━━━━━━━━━━\u001b[0m \u001b[32m1.3/1.3 MB\u001b[0m \u001b[31m75.9 MB/s\u001b[0m eta \u001b[36m0:00:00\u001b[0m\n",
      "\u001b[?25hRequirement already satisfied: tqdm>=4.27 in /usr/local/lib/python3.8/dist-packages (from transformers) (4.65.0)\n",
      "Requirement already satisfied: fsspec in /usr/local/lib/python3.8/dist-packages (from huggingface-hub<1.0,>=0.14.1->transformers) (2023.6.0)\n",
      "Requirement already satisfied: typing-extensions>=3.7.4.3 in /usr/local/lib/python3.8/dist-packages (from huggingface-hub<1.0,>=0.14.1->transformers) (4.6.2)\n",
      "Requirement already satisfied: charset-normalizer<4,>=2 in /usr/local/lib/python3.8/dist-packages (from requests->transformers) (3.1.0)\n",
      "Requirement already satisfied: idna<4,>=2.5 in /usr/lib/python3/dist-packages (from requests->transformers) (2.8)\n",
      "Requirement already satisfied: urllib3<3,>=1.21.1 in /usr/lib/python3/dist-packages (from requests->transformers) (1.25.8)\n",
      "Requirement already satisfied: certifi>=2017.4.17 in /usr/lib/python3/dist-packages (from requests->transformers) (2019.11.28)\n",
      "Installing collected packages: tokenizers, safetensors, regex, transformers\n",
      "Successfully installed regex-2023.6.3 safetensors-0.3.1 tokenizers-0.13.3 transformers-4.30.2\n",
      "\u001b[33mWARNING: Running pip as the 'root' user can result in broken permissions and conflicting behaviour with the system package manager. It is recommended to use a virtual environment instead: https://pip.pypa.io/warnings/venv\u001b[0m\u001b[33m\n",
      "\u001b[0m"
     ]
    }
   ],
   "source": [
    "!pip install datasets\n",
    "!pip install transformers"
   ]
  },
  {
   "cell_type": "markdown",
   "id": "c97b3c50-cc36-4802-b4e2-62eab010fa2b",
   "metadata": {},
   "source": [
    "# Audio classification with a pipeline"
   ]
  },
  {
   "cell_type": "code",
   "execution_count": 4,
   "id": "51c85573-f0f5-468c-ba3e-4f9be767efc7",
   "metadata": {},
   "outputs": [
    {
     "data": {
      "application/vnd.jupyter.widget-view+json": {
       "model_id": "2d73a6cc99124d5f97530b819a7c1f44",
       "version_major": 2,
       "version_minor": 0
      },
      "text/plain": [
       "Downloading builder script:   0%|          | 0.00/5.95k [00:00<?, ?B/s]"
      ]
     },
     "metadata": {},
     "output_type": "display_data"
    },
    {
     "data": {
      "application/vnd.jupyter.widget-view+json": {
       "model_id": "a0e3eb7eecd043faa8263ef2748f0cfd",
       "version_major": 2,
       "version_minor": 0
      },
      "text/plain": [
       "Downloading readme:   0%|          | 0.00/5.29k [00:00<?, ?B/s]"
      ]
     },
     "metadata": {},
     "output_type": "display_data"
    },
    {
     "name": "stdout",
     "output_type": "stream",
     "text": [
      "Downloading and preparing dataset minds14/en-AU to /tmp/huggingface_caches/datasets/PolyAI___minds14/en-AU/1.0.0/65c7e0f3be79e18a6ffaf879a083daf706312d421ac90d25718459cbf3c42696...\n"
     ]
    },
    {
     "data": {
      "application/vnd.jupyter.widget-view+json": {
       "model_id": "16833104109845f4b9efc8b6cb82b15a",
       "version_major": 2,
       "version_minor": 0
      },
      "text/plain": [
       "Downloading data:   0%|          | 0.00/471M [00:00<?, ?B/s]"
      ]
     },
     "metadata": {},
     "output_type": "display_data"
    },
    {
     "data": {
      "application/vnd.jupyter.widget-view+json": {
       "model_id": "",
       "version_major": 2,
       "version_minor": 0
      },
      "text/plain": [
       "Generating train split: 0 examples [00:00, ? examples/s]"
      ]
     },
     "metadata": {},
     "output_type": "display_data"
    },
    {
     "name": "stdout",
     "output_type": "stream",
     "text": [
      "Dataset minds14 downloaded and prepared to /tmp/huggingface_caches/datasets/PolyAI___minds14/en-AU/1.0.0/65c7e0f3be79e18a6ffaf879a083daf706312d421ac90d25718459cbf3c42696. Subsequent calls will reuse this data.\n"
     ]
    }
   ],
   "source": [
    "from datasets import load_dataset\n",
    "from datasets import Audio\n",
    "\n",
    "minds = load_dataset(\"PolyAI/minds14\", name=\"en-AU\", split=\"train\")\n",
    "minds = minds.cast_column(\"audio\", Audio(sampling_rate=16_000))"
   ]
  },
  {
   "cell_type": "code",
   "execution_count": 5,
   "id": "dff0edca-bbc0-4e9e-ada9-64c90f7a47e1",
   "metadata": {},
   "outputs": [
    {
     "data": {
      "application/vnd.jupyter.widget-view+json": {
       "model_id": "5581706ea87c4153b1538a89873e1032",
       "version_major": 2,
       "version_minor": 0
      },
      "text/plain": [
       "Downloading (…)lve/main/config.json:   0%|          | 0.00/2.73k [00:00<?, ?B/s]"
      ]
     },
     "metadata": {},
     "output_type": "display_data"
    },
    {
     "data": {
      "application/vnd.jupyter.widget-view+json": {
       "model_id": "bac71aebfd9445589b788f665d4fd1e2",
       "version_major": 2,
       "version_minor": 0
      },
      "text/plain": [
       "Downloading pytorch_model.bin:   0%|          | 0.00/1.26G [00:00<?, ?B/s]"
      ]
     },
     "metadata": {},
     "output_type": "display_data"
    },
    {
     "data": {
      "application/vnd.jupyter.widget-view+json": {
       "model_id": "3805cdea4cda47da9c9ee67e2755b163",
       "version_major": 2,
       "version_minor": 0
      },
      "text/plain": [
       "Downloading (…)rocessor_config.json:   0%|          | 0.00/212 [00:00<?, ?B/s]"
      ]
     },
     "metadata": {},
     "output_type": "display_data"
    }
   ],
   "source": [
    "from transformers import pipeline\n",
    "\n",
    "classifier = pipeline(\n",
    "    \"audio-classification\",\n",
    "    model=\"anton-l/xtreme_s_xlsr_300m_minds14\",\n",
    ")"
   ]
  },
  {
   "cell_type": "code",
   "execution_count": 6,
   "id": "15b3d358-f872-42c3-add8-3bd47a8daaea",
   "metadata": {},
   "outputs": [],
   "source": [
    "example = minds[0]"
   ]
  },
  {
   "cell_type": "code",
   "execution_count": 7,
   "id": "ba26b391-9c86-47bb-a160-50f167b9521e",
   "metadata": {},
   "outputs": [
    {
     "data": {
      "text/plain": [
       "[{'score': 0.9625311493873596, 'label': 'pay_bill'},\n",
       " {'score': 0.028672710061073303, 'label': 'freeze'},\n",
       " {'score': 0.003349794540554285, 'label': 'card_issues'},\n",
       " {'score': 0.002005802933126688, 'label': 'abroad'},\n",
       " {'score': 0.000848432828206569, 'label': 'high_value_payment'}]"
      ]
     },
     "execution_count": 7,
     "metadata": {},
     "output_type": "execute_result"
    }
   ],
   "source": [
    "classifier(example[\"audio\"][\"array\"])"
   ]
  },
  {
   "cell_type": "code",
   "execution_count": 8,
   "id": "6d890adf-b751-4d61-af18-a1d94752ac17",
   "metadata": {},
   "outputs": [
    {
     "data": {
      "text/plain": [
       "'pay_bill'"
      ]
     },
     "execution_count": 8,
     "metadata": {},
     "output_type": "execute_result"
    }
   ],
   "source": [
    "id2label = minds.features[\"intent_class\"].int2str\n",
    "id2label(example[\"intent_class\"])"
   ]
  },
  {
   "cell_type": "markdown",
   "id": "9142221a-536f-460b-ad79-e32af0b87d10",
   "metadata": {},
   "source": [
    "# Automatic speech recognition with a pipeline"
   ]
  },
  {
   "cell_type": "markdown",
   "id": "9566d1e9-42a6-4216-89ff-97b78438dc5d",
   "metadata": {},
   "source": [
    "## English"
   ]
  },
  {
   "cell_type": "code",
   "execution_count": 9,
   "id": "8201ddc5-3815-48ef-ac4f-27bd1be56221",
   "metadata": {},
   "outputs": [
    {
     "name": "stderr",
     "output_type": "stream",
     "text": [
      "No model was supplied, defaulted to facebook/wav2vec2-base-960h and revision 55bb623 (https://huggingface.co/facebook/wav2vec2-base-960h).\n",
      "Using a pipeline without specifying a model name and revision in production is not recommended.\n"
     ]
    },
    {
     "data": {
      "application/vnd.jupyter.widget-view+json": {
       "model_id": "5c0a2605b540462997c9074a865928aa",
       "version_major": 2,
       "version_minor": 0
      },
      "text/plain": [
       "Downloading (…)lve/main/config.json:   0%|          | 0.00/1.60k [00:00<?, ?B/s]"
      ]
     },
     "metadata": {},
     "output_type": "display_data"
    },
    {
     "data": {
      "application/vnd.jupyter.widget-view+json": {
       "model_id": "850efcb3b7c2479cb74c8c7148b6cae4",
       "version_major": 2,
       "version_minor": 0
      },
      "text/plain": [
       "Downloading model.safetensors:   0%|          | 0.00/378M [00:00<?, ?B/s]"
      ]
     },
     "metadata": {},
     "output_type": "display_data"
    },
    {
     "name": "stderr",
     "output_type": "stream",
     "text": [
      "Some weights of Wav2Vec2ForCTC were not initialized from the model checkpoint at facebook/wav2vec2-base-960h and are newly initialized: ['wav2vec2.masked_spec_embed']\n",
      "You should probably TRAIN this model on a down-stream task to be able to use it for predictions and inference.\n"
     ]
    },
    {
     "data": {
      "application/vnd.jupyter.widget-view+json": {
       "model_id": "534fba8384e94e32bf47e0ed1e8c9d36",
       "version_major": 2,
       "version_minor": 0
      },
      "text/plain": [
       "Downloading (…)okenizer_config.json:   0%|          | 0.00/163 [00:00<?, ?B/s]"
      ]
     },
     "metadata": {},
     "output_type": "display_data"
    },
    {
     "data": {
      "application/vnd.jupyter.widget-view+json": {
       "model_id": "04700491bc0f402693dae78f360920cd",
       "version_major": 2,
       "version_minor": 0
      },
      "text/plain": [
       "Downloading (…)olve/main/vocab.json:   0%|          | 0.00/291 [00:00<?, ?B/s]"
      ]
     },
     "metadata": {},
     "output_type": "display_data"
    },
    {
     "data": {
      "application/vnd.jupyter.widget-view+json": {
       "model_id": "9a8c76973434473fa99807ce8f16adfb",
       "version_major": 2,
       "version_minor": 0
      },
      "text/plain": [
       "Downloading (…)cial_tokens_map.json:   0%|          | 0.00/85.0 [00:00<?, ?B/s]"
      ]
     },
     "metadata": {},
     "output_type": "display_data"
    },
    {
     "data": {
      "application/vnd.jupyter.widget-view+json": {
       "model_id": "8eb5ee328c0946988ae10b54e901ad2f",
       "version_major": 2,
       "version_minor": 0
      },
      "text/plain": [
       "Downloading (…)rocessor_config.json:   0%|          | 0.00/159 [00:00<?, ?B/s]"
      ]
     },
     "metadata": {},
     "output_type": "display_data"
    }
   ],
   "source": [
    "from transformers import pipeline\n",
    "\n",
    "asr = pipeline(\"automatic-speech-recognition\")"
   ]
  },
  {
   "cell_type": "code",
   "execution_count": 10,
   "id": "a8ec64ce-6224-40ba-8521-d0307817c46b",
   "metadata": {},
   "outputs": [],
   "source": [
    "example = minds[0]"
   ]
  },
  {
   "cell_type": "code",
   "execution_count": 11,
   "id": "c6870bb2-2add-4260-bef8-af06c852123b",
   "metadata": {},
   "outputs": [
    {
     "data": {
      "text/plain": [
       "{'text': 'I WOULD LIKE TO PAY MY ELECTRICITY BILL USING MY CAD CAN YOU PLEASE ASSIST'}"
      ]
     },
     "execution_count": 11,
     "metadata": {},
     "output_type": "execute_result"
    }
   ],
   "source": [
    "asr(example[\"audio\"][\"array\"])"
   ]
  },
  {
   "cell_type": "code",
   "execution_count": 12,
   "id": "fa642d57-3d79-45ae-8950-5eb377973d3d",
   "metadata": {},
   "outputs": [
    {
     "data": {
      "text/plain": [
       "'I would like to pay my electricity bill using my card can you please assist'"
      ]
     },
     "execution_count": 12,
     "metadata": {},
     "output_type": "execute_result"
    }
   ],
   "source": [
    "example[\"english_transcription\"]"
   ]
  },
  {
   "cell_type": "markdown",
   "id": "e59bb7c5-1866-4627-b943-1c768a10345e",
   "metadata": {},
   "source": [
    "## Deutsch"
   ]
  },
  {
   "cell_type": "code",
   "execution_count": 13,
   "id": "55c82257-030a-4016-b195-a1ab8363f62e",
   "metadata": {},
   "outputs": [
    {
     "name": "stdout",
     "output_type": "stream",
     "text": [
      "Downloading and preparing dataset minds14/de-DE to /tmp/huggingface_caches/datasets/PolyAI___minds14/de-DE/1.0.0/65c7e0f3be79e18a6ffaf879a083daf706312d421ac90d25718459cbf3c42696...\n"
     ]
    },
    {
     "data": {
      "application/vnd.jupyter.widget-view+json": {
       "model_id": "",
       "version_major": 2,
       "version_minor": 0
      },
      "text/plain": [
       "Generating train split: 0 examples [00:00, ? examples/s]"
      ]
     },
     "metadata": {},
     "output_type": "display_data"
    },
    {
     "name": "stdout",
     "output_type": "stream",
     "text": [
      "Dataset minds14 downloaded and prepared to /tmp/huggingface_caches/datasets/PolyAI___minds14/de-DE/1.0.0/65c7e0f3be79e18a6ffaf879a083daf706312d421ac90d25718459cbf3c42696. Subsequent calls will reuse this data.\n"
     ]
    },
    {
     "data": {
      "text/plain": [
       "Dataset({\n",
       "    features: ['path', 'audio', 'transcription', 'english_transcription', 'intent_class', 'lang_id'],\n",
       "    num_rows: 611\n",
       "})"
      ]
     },
     "execution_count": 13,
     "metadata": {},
     "output_type": "execute_result"
    }
   ],
   "source": [
    "minds_de = load_dataset(\"PolyAI/minds14\", name=\"de-DE\",split=\"train\")\n",
    "minds_de = minds_de.cast_column(\"audio\", Audio(sampling_rate=16_000))\n",
    "minds_de"
   ]
  },
  {
   "cell_type": "code",
   "execution_count": 14,
   "id": "a972a107-cea6-4a5a-8f1d-ef4fa8c4c91e",
   "metadata": {},
   "outputs": [
    {
     "data": {
      "text/plain": [
       "{'path': '/tmp/huggingface_caches/datasets/downloads/extracted/eceea8cc32cf2fd2b249aeb6ac5effc60b69430ddd38616db56e0d1dafe51cba/de-DE~CASH_DEPOSIT/response_4.wav',\n",
       " 'audio': {'path': '/tmp/huggingface_caches/datasets/downloads/extracted/eceea8cc32cf2fd2b249aeb6ac5effc60b69430ddd38616db56e0d1dafe51cba/de-DE~CASH_DEPOSIT/response_4.wav',\n",
       "  'array': array([-1.11846020e-07,  9.51066613e-06,  5.26197255e-07, ...,\n",
       "          3.63070332e-03,  2.57458771e-03,  1.28283468e-03]),\n",
       "  'sampling_rate': 16000},\n",
       " 'transcription': 'ich möchte gerne Geld auf mein Konto einzahlen',\n",
       " 'english_transcription': 'I would like to deposit money into my account',\n",
       " 'intent_class': 7,\n",
       " 'lang_id': 1}"
      ]
     },
     "execution_count": 14,
     "metadata": {},
     "output_type": "execute_result"
    }
   ],
   "source": [
    "example_de = minds_de[0]\n",
    "example_de"
   ]
  },
  {
   "cell_type": "code",
   "execution_count": 15,
   "id": "a043b305-f9c4-4d55-b9e7-29403d40d165",
   "metadata": {},
   "outputs": [
    {
     "data": {
      "application/vnd.jupyter.widget-view+json": {
       "model_id": "49b4464b837a4619ad8bf13a74060928",
       "version_major": 2,
       "version_minor": 0
      },
      "text/plain": [
       "Downloading (…)lve/main/config.json:   0%|          | 0.00/1.57k [00:00<?, ?B/s]"
      ]
     },
     "metadata": {},
     "output_type": "display_data"
    },
    {
     "name": "stderr",
     "output_type": "stream",
     "text": [
      "/usr/local/lib/python3.8/dist-packages/transformers/configuration_utils.py:380: UserWarning: Passing `gradient_checkpointing` to a config initialization is deprecated and will be removed in v5 Transformers. Using `model.gradient_checkpointing_enable()` instead, or if you are using the `Trainer` API, pass `gradient_checkpointing=True` in your `TrainingArguments`.\n",
      "  warnings.warn(\n"
     ]
    },
    {
     "data": {
      "application/vnd.jupyter.widget-view+json": {
       "model_id": "141188e0d81a430596299ab807e074d8",
       "version_major": 2,
       "version_minor": 0
      },
      "text/plain": [
       "Downloading pytorch_model.bin:   0%|          | 0.00/1.26G [00:00<?, ?B/s]"
      ]
     },
     "metadata": {},
     "output_type": "display_data"
    },
    {
     "data": {
      "application/vnd.jupyter.widget-view+json": {
       "model_id": "724a47ddc65549dbb8fdfb3c077795c9",
       "version_major": 2,
       "version_minor": 0
      },
      "text/plain": [
       "Downloading (…)okenizer_config.json:   0%|          | 0.00/138 [00:00<?, ?B/s]"
      ]
     },
     "metadata": {},
     "output_type": "display_data"
    },
    {
     "data": {
      "application/vnd.jupyter.widget-view+json": {
       "model_id": "11449529cbb64a80a06f40df2cad36eb",
       "version_major": 2,
       "version_minor": 0
      },
      "text/plain": [
       "Downloading (…)olve/main/vocab.json:   0%|          | 0.00/1.80k [00:00<?, ?B/s]"
      ]
     },
     "metadata": {},
     "output_type": "display_data"
    },
    {
     "data": {
      "application/vnd.jupyter.widget-view+json": {
       "model_id": "c390d046962d430fb046a8c3dca13418",
       "version_major": 2,
       "version_minor": 0
      },
      "text/plain": [
       "Downloading (…)cial_tokens_map.json:   0%|          | 0.00/85.0 [00:00<?, ?B/s]"
      ]
     },
     "metadata": {},
     "output_type": "display_data"
    },
    {
     "name": "stderr",
     "output_type": "stream",
     "text": [
      "Special tokens have been added in the vocabulary, make sure the associated word embeddings are fine-tuned or trained.\n"
     ]
    },
    {
     "data": {
      "application/vnd.jupyter.widget-view+json": {
       "model_id": "f218a25ed9aa4a80b4ffb544d859b91b",
       "version_major": 2,
       "version_minor": 0
      },
      "text/plain": [
       "Downloading (…)rocessor_config.json:   0%|          | 0.00/158 [00:00<?, ?B/s]"
      ]
     },
     "metadata": {},
     "output_type": "display_data"
    },
    {
     "data": {
      "text/plain": [
       "{'text': 'ich möchte gerne geld auf mein konto einzallen'}"
      ]
     },
     "execution_count": 15,
     "metadata": {},
     "output_type": "execute_result"
    }
   ],
   "source": [
    "asr_de = pipeline(\"automatic-speech-recognition\", model=\"maxidl/wav2vec2-large-xlsr-german\")\n",
    "asr_de(example_de[\"audio\"][\"array\"])"
   ]
  },
  {
   "cell_type": "markdown",
   "id": "fb3d076a-c53f-4c0e-8ee7-fee7196da762",
   "metadata": {},
   "source": [
    "# Hands-on exercise"
   ]
  },
  {
   "cell_type": "markdown",
   "id": "5fe75be6-2343-474d-b79d-9caebc980174",
   "metadata": {},
   "source": [
    "## Find dataset and model for Afrikaans and do asr on one example from dataset"
   ]
  },
  {
   "cell_type": "code",
   "execution_count": 16,
   "id": "14e43fab-0cc8-4058-aeeb-fe4b23d47204",
   "metadata": {
    "tags": []
   },
   "outputs": [
    {
     "data": {
      "application/vnd.jupyter.widget-view+json": {
       "model_id": "3854f6f27db04f52b55b57d48488b6fe",
       "version_major": 2,
       "version_minor": 0
      },
      "text/plain": [
       "Downloading builder script:   0%|          | 0.00/26.9k [00:00<?, ?B/s]"
      ]
     },
     "metadata": {},
     "output_type": "display_data"
    },
    {
     "data": {
      "application/vnd.jupyter.widget-view+json": {
       "model_id": "baaeedd8cacb4a41ab33767fa435dd1c",
       "version_major": 2,
       "version_minor": 0
      },
      "text/plain": [
       "Downloading metadata:   0%|          | 0.00/210k [00:00<?, ?B/s]"
      ]
     },
     "metadata": {},
     "output_type": "display_data"
    },
    {
     "data": {
      "application/vnd.jupyter.widget-view+json": {
       "model_id": "037f4b4f16a14103aae1f67fcc81ad63",
       "version_major": 2,
       "version_minor": 0
      },
      "text/plain": [
       "Downloading readme:   0%|          | 0.00/42.9k [00:00<?, ?B/s]"
      ]
     },
     "metadata": {},
     "output_type": "display_data"
    },
    {
     "name": "stdout",
     "output_type": "stream",
     "text": [
      "Downloading and preparing dataset openslr/SLR32 to /tmp/huggingface_caches/datasets/openslr/SLR32/0.0.0/cd9de085f77465c1cb7d394e748a3a5b80fad2049e7af92f67baf04b894f9567...\n"
     ]
    },
    {
     "data": {
      "application/vnd.jupyter.widget-view+json": {
       "model_id": "67a84d412ffe42059197ad392e62267e",
       "version_major": 2,
       "version_minor": 0
      },
      "text/plain": [
       "Downloading data files:   0%|          | 0/4 [00:00<?, ?it/s]"
      ]
     },
     "metadata": {},
     "output_type": "display_data"
    },
    {
     "data": {
      "application/vnd.jupyter.widget-view+json": {
       "model_id": "14ef74494a714288bf38cc42752d49fe",
       "version_major": 2,
       "version_minor": 0
      },
      "text/plain": [
       "Downloading data:   0%|          | 0.00/951M [00:00<?, ?B/s]"
      ]
     },
     "metadata": {},
     "output_type": "display_data"
    },
    {
     "data": {
      "application/vnd.jupyter.widget-view+json": {
       "model_id": "6904e89ca1884e909ed08c5bb6b75a02",
       "version_major": 2,
       "version_minor": 0
      },
      "text/plain": [
       "Downloading data:   0%|          | 0.00/724M [00:00<?, ?B/s]"
      ]
     },
     "metadata": {},
     "output_type": "display_data"
    },
    {
     "data": {
      "application/vnd.jupyter.widget-view+json": {
       "model_id": "a655e27eb0a143a5811f27508c85043f",
       "version_major": 2,
       "version_minor": 0
      },
      "text/plain": [
       "Downloading data:   0%|          | 0.00/729M [00:00<?, ?B/s]"
      ]
     },
     "metadata": {},
     "output_type": "display_data"
    },
    {
     "data": {
      "application/vnd.jupyter.widget-view+json": {
       "model_id": "977d3182edfa4f09b01f041814f3fedb",
       "version_major": 2,
       "version_minor": 0
      },
      "text/plain": [
       "Downloading data:   0%|          | 0.00/907M [00:00<?, ?B/s]"
      ]
     },
     "metadata": {},
     "output_type": "display_data"
    },
    {
     "data": {
      "application/vnd.jupyter.widget-view+json": {
       "model_id": "880b85f02eea45e084353a73a1dc83b2",
       "version_major": 2,
       "version_minor": 0
      },
      "text/plain": [
       "Downloading data files:   0%|          | 0/4 [00:00<?, ?it/s]"
      ]
     },
     "metadata": {},
     "output_type": "display_data"
    },
    {
     "data": {
      "application/vnd.jupyter.widget-view+json": {
       "model_id": "6b44bebc92e04969ab696a3ec61ac967",
       "version_major": 2,
       "version_minor": 0
      },
      "text/plain": [
       "Downloading data:   0%|          | 0.00/219k [00:00<?, ?B/s]"
      ]
     },
     "metadata": {},
     "output_type": "display_data"
    },
    {
     "data": {
      "application/vnd.jupyter.widget-view+json": {
       "model_id": "f52c8b0113f746d88951c1b8310b8a1e",
       "version_major": 2,
       "version_minor": 0
      },
      "text/plain": [
       "Downloading data:   0%|          | 0.00/155k [00:00<?, ?B/s]"
      ]
     },
     "metadata": {},
     "output_type": "display_data"
    },
    {
     "data": {
      "application/vnd.jupyter.widget-view+json": {
       "model_id": "77ddadf14c0449fe8eccba61ec8d8baf",
       "version_major": 2,
       "version_minor": 0
      },
      "text/plain": [
       "Downloading data:   0%|          | 0.00/174k [00:00<?, ?B/s]"
      ]
     },
     "metadata": {},
     "output_type": "display_data"
    },
    {
     "data": {
      "application/vnd.jupyter.widget-view+json": {
       "model_id": "8b019fe2b0db492aa2a34deb68624cf7",
       "version_major": 2,
       "version_minor": 0
      },
      "text/plain": [
       "Downloading data:   0%|          | 0.00/179k [00:00<?, ?B/s]"
      ]
     },
     "metadata": {},
     "output_type": "display_data"
    },
    {
     "data": {
      "application/vnd.jupyter.widget-view+json": {
       "model_id": "",
       "version_major": 2,
       "version_minor": 0
      },
      "text/plain": [
       "Generating train split:   0%|          | 0/9821 [00:00<?, ? examples/s]"
      ]
     },
     "metadata": {},
     "output_type": "display_data"
    },
    {
     "name": "stdout",
     "output_type": "stream",
     "text": [
      "Dataset openslr downloaded and prepared to /tmp/huggingface_caches/datasets/openslr/SLR32/0.0.0/cd9de085f77465c1cb7d394e748a3a5b80fad2049e7af92f67baf04b894f9567. Subsequent calls will reuse this data.\n"
     ]
    },
    {
     "data": {
      "text/plain": [
       "Dataset({\n",
       "    features: ['path', 'audio', 'sentence'],\n",
       "    num_rows: 9821\n",
       "})"
      ]
     },
     "execution_count": 16,
     "metadata": {},
     "output_type": "execute_result"
    }
   ],
   "source": [
    "from datasets import load_dataset\n",
    "afr = load_dataset(\"openslr\", name=\"SLR32\", split=\"train\")\n",
    "afr"
   ]
  },
  {
   "cell_type": "code",
   "execution_count": 17,
   "id": "66cd0ba2-ea18-452f-ab8c-139d1b181c54",
   "metadata": {},
   "outputs": [],
   "source": [
    "from datasets import Audio\n",
    "afr = afr.cast_column(\"audio\", Audio(sampling_rate=16_000))"
   ]
  },
  {
   "cell_type": "code",
   "execution_count": 18,
   "id": "824aaf52-bd8f-4aa0-9e8f-f6cebab9cefd",
   "metadata": {
    "tags": []
   },
   "outputs": [
    {
     "data": {
      "text/plain": [
       "{'path': 'af_za/za/afr/wavs/afr_0184_6891360627.wav',\n",
       " 'audio': {'path': 'af_za/za/afr/wavs/afr_0184_6891360627.wav',\n",
       "  'array': array([ 3.51351264e-06,  5.46222145e-06,  2.94581514e-05, ...,\n",
       "         -2.32335893e-04, -1.30058863e-04,  0.00000000e+00]),\n",
       "  'sampling_rate': 16000},\n",
       " 'sentence': 'Hou twee noordpole naby aan mekaar.'}"
      ]
     },
     "execution_count": 18,
     "metadata": {},
     "output_type": "execute_result"
    }
   ],
   "source": [
    "example = afr[8]\n",
    "example"
   ]
  },
  {
   "cell_type": "code",
   "execution_count": 20,
   "id": "2dadc809-60eb-4d65-bead-a1ccb90856b4",
   "metadata": {},
   "outputs": [
    {
     "data": {
      "text/html": [
       "\n",
       "                <audio  controls=\"controls\" >\n",
       "                    <source src=\"data:audio/wav;base64,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\" type=\"audio/wav\" />\n",
       "                    Your browser does not support the audio element.\n",
       "                </audio>\n",
       "              "
      ],
      "text/plain": [
       "<IPython.lib.display.Audio object>"
      ]
     },
     "execution_count": 20,
     "metadata": {},
     "output_type": "execute_result"
    }
   ],
   "source": [
    "import IPython\n",
    "IPython.display.Audio(data=example[\"audio\"][\"array\"], rate=example[\"audio\"][\"sampling_rate\"])"
   ]
  },
  {
   "cell_type": "code",
   "execution_count": 21,
   "id": "b42e8cd3-7d60-4da9-9f68-e0bd5d6bfff3",
   "metadata": {},
   "outputs": [
    {
     "data": {
      "text/plain": [
       "<librosa.display.AdaptiveWaveplot at 0x7efe249bbf40>"
      ]
     },
     "execution_count": 21,
     "metadata": {},
     "output_type": "execute_result"
    },
    {
     "data": {
      "image/png": "[encoded data removed]",
      "text/plain": [
       "<Figure size 864x288 with 1 Axes>"
      ]
     },
     "metadata": {
      "needs_background": "light"
     },
     "output_type": "display_data"
    }
   ],
   "source": [
    "import matplotlib.pyplot as plt\n",
    "import librosa.display\n",
    "\n",
    "plt.figure().set_figwidth(12)\n",
    "librosa.display.waveshow(example[\"audio\"][\"array\"], sr=example[\"audio\"][\"sampling_rate\"])"
   ]
  },
  {
   "cell_type": "code",
   "execution_count": 22,
   "id": "311e72e6-4a8e-4f1c-8a57-53ef6350189e",
   "metadata": {},
   "outputs": [
    {
     "data": {
      "text/plain": [
       "<matplotlib.colorbar.Colorbar at 0x7efe1eaaeb80>"
      ]
     },
     "execution_count": 22,
     "metadata": {},
     "output_type": "execute_result"
    },
    {
     "data": {
      "image/png": "[encoded data removed]",
      "text/plain": [
       "<Figure size 864x288 with 2 Axes>"
      ]
     },
     "metadata": {
      "needs_background": "light"
     },
     "output_type": "display_data"
    }
   ],
   "source": [
    "import numpy as np\n",
    "S = librosa.feature.melspectrogram(y=example[\"audio\"][\"array\"], sr=example[\"audio\"][\"sampling_rate\"], n_mels=40, fmax=8000)\n",
    "S_db = librosa.power_to_db(S, ref=np.max)\n",
    "plt.figure().set_figwidth(12)\n",
    "librosa.display.specshow(S_db, x_axis=\"time\", y_axis=\"mel\", sr=example[\"audio\"][\"sampling_rate\"], fmax=8000)\n",
    "plt.colorbar()"
   ]
  },
  {
   "cell_type": "code",
   "execution_count": 23,
   "id": "4fdcc6db-bb68-4a6b-8232-2bbc11602fb9",
   "metadata": {},
   "outputs": [
    {
     "data": {
      "application/vnd.jupyter.widget-view+json": {
       "model_id": "c64ed2a192854854833296eff3d74f63",
       "version_major": 2,
       "version_minor": 0
      },
      "text/plain": [
       "Downloading (…)lve/main/config.json:   0%|          | 0.00/1.03k [00:00<?, ?B/s]"
      ]
     },
     "metadata": {},
     "output_type": "display_data"
    },
    {
     "data": {
      "application/vnd.jupyter.widget-view+json": {
       "model_id": "c86468de09324d4580fd353aa602f918",
       "version_major": 2,
       "version_minor": 0
      },
      "text/plain": [
       "Downloading pytorch_model.bin:   0%|          | 0.00/290M [00:00<?, ?B/s]"
      ]
     },
     "metadata": {},
     "output_type": "display_data"
    },
    {
     "data": {
      "application/vnd.jupyter.widget-view+json": {
       "model_id": "ed6243d7fc1f4054987fdc52cdf535cb",
       "version_major": 2,
       "version_minor": 0
      },
      "text/plain": [
       "Downloading (…)okenizer_config.json:   0%|          | 0.00/827 [00:00<?, ?B/s]"
      ]
     },
     "metadata": {},
     "output_type": "display_data"
    },
    {
     "data": {
      "application/vnd.jupyter.widget-view+json": {
       "model_id": "e8abe3af83be496f81e15fc149c48dee",
       "version_major": 2,
       "version_minor": 0
      },
      "text/plain": [
       "Downloading (…)olve/main/vocab.json:   0%|          | 0.00/1.04M [00:00<?, ?B/s]"
      ]
     },
     "metadata": {},
     "output_type": "display_data"
    },
    {
     "data": {
      "application/vnd.jupyter.widget-view+json": {
       "model_id": "af76a09e24f6459c9751e6f23ad89000",
       "version_major": 2,
       "version_minor": 0
      },
      "text/plain": [
       "Downloading (…)olve/main/merges.txt:   0%|          | 0.00/494k [00:00<?, ?B/s]"
      ]
     },
     "metadata": {},
     "output_type": "display_data"
    },
    {
     "data": {
      "application/vnd.jupyter.widget-view+json": {
       "model_id": "28128fe19b984cf186ee63b11076ee4c",
       "version_major": 2,
       "version_minor": 0
      },
      "text/plain": [
       "Downloading (…)main/normalizer.json:   0%|          | 0.00/52.7k [00:00<?, ?B/s]"
      ]
     },
     "metadata": {},
     "output_type": "display_data"
    },
    {
     "data": {
      "application/vnd.jupyter.widget-view+json": {
       "model_id": "16d0c618ec884c42b7596c8043a85e58",
       "version_major": 2,
       "version_minor": 0
      },
      "text/plain": [
       "Downloading (…)in/added_tokens.json:   0%|          | 0.00/2.11k [00:00<?, ?B/s]"
      ]
     },
     "metadata": {},
     "output_type": "display_data"
    },
    {
     "data": {
      "application/vnd.jupyter.widget-view+json": {
       "model_id": "0f1b8be18b234c5681d971bf915d4082",
       "version_major": 2,
       "version_minor": 0
      },
      "text/plain": [
       "Downloading (…)cial_tokens_map.json:   0%|          | 0.00/2.06k [00:00<?, ?B/s]"
      ]
     },
     "metadata": {},
     "output_type": "display_data"
    },
    {
     "data": {
      "application/vnd.jupyter.widget-view+json": {
       "model_id": "b8685d4eabde4199929b6d6f7fbf1543",
       "version_major": 2,
       "version_minor": 0
      },
      "text/plain": [
       "Downloading (…)rocessor_config.json:   0%|          | 0.00/185k [00:00<?, ?B/s]"
      ]
     },
     "metadata": {},
     "output_type": "display_data"
    },
    {
     "name": "stderr",
     "output_type": "stream",
     "text": [
      "/usr/local/lib/python3.8/dist-packages/transformers/generation/utils.py:1353: UserWarning: Using `max_length`'s default (448) to control the generation length. This behaviour is deprecated and will be removed from the config in v5 of Transformers -- we recommend using `max_new_tokens` to control the maximum length of the generation.\n",
      "  warnings.warn(\n"
     ]
    }
   ],
   "source": [
    "model_spec = \"Ari/whisper-base-af-za\"\n",
    "\n",
    "from transformers import pipeline\n",
    "\n",
    "asr = pipeline(\"automatic-speech-recognition\", model=model_spec)\n",
    "test_transcription = asr(example[\"audio\"][\"array\"])['text']"
   ]
  },
  {
   "cell_type": "code",
   "execution_count": 24,
   "id": "508c6496-750e-48b2-879a-362303f428b2",
   "metadata": {},
   "outputs": [
    {
     "name": "stdout",
     "output_type": "stream",
     "text": [
      "Expected: Hou twee noordpole naby aan mekaar.\n",
      "\n",
      "Transcribed: Hou twee noordpole naby aan mekaar.\n"
     ]
    }
   ],
   "source": [
    "print(f\"Expected: {example['sentence']}\\n\")\n",
    "print(f\"Transcribed: {test_transcription}\")"
   ]
  },
  {
   "cell_type": "code",
   "execution_count": null,
   "id": "7183a0ef-23b1-4e76-bfe0-52c316b57e93",
   "metadata": {},
   "outputs": [],
   "source": []
  }
 ],
 "metadata": {
  "kernelspec": {
   "display_name": "Python 3",
   "language": "python",
   "name": "python3"
  },
  "language_info": {
   "codemirror_mode": {
    "name": "ipython",
    "version": 3
   },
   "file_extension": ".py",
   "mimetype": "text/x-python",
   "name": "python",
   "nbconvert_exporter": "python",
   "pygments_lexer": "ipython3",
   "version": "3.8.10"
  }
 },
 "nbformat": 4,
 "nbformat_minor": 5
}
