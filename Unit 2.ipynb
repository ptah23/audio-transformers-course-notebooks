{
 "cells": [
  {
   "cell_type": "code",
   "execution_count": null,
   "id": "7dd49263-610d-4d32-87a3-4dbd9b31e2ac",
   "metadata": {},
   "outputs": [],
   "source": [
    "!pip install soundfile\n",
    "!pip install librosa"
   ]
  },
  {
   "cell_type": "code",
   "execution_count": null,
   "id": "836bfdb8-de71-4ead-bfa5-261f6f42e1c8",
   "metadata": {},
   "outputs": [],
   "source": [
    "!pip install matplotlib"
   ]
  },
  {
   "cell_type": "code",
   "execution_count": null,
   "id": "39345ec0-f644-428b-8ead-3a0e0d64babe",
   "metadata": {},
   "outputs": [],
   "source": [
    "!pip install datasets\n",
    "!pip install transformers"
   ]
  },
  {
   "cell_type": "code",
   "execution_count": null,
   "id": "53533211-7a38-47e3-a78a-be1305276b11",
   "metadata": {},
   "outputs": [],
   "source": [
    "!pip install matplotlib"
   ]
  },
  {
   "cell_type": "markdown",
   "id": "c97b3c50-cc36-4802-b4e2-62eab010fa2b",
   "metadata": {},
   "source": [
    "# Audio classification with a pipeline"
   ]
  },
  {
   "cell_type": "code",
   "execution_count": null,
   "id": "51c85573-f0f5-468c-ba3e-4f9be767efc7",
   "metadata": {},
   "outputs": [],
   "source": [
    "from datasets import load_dataset\n",
    "from datasets import Audio\n",
    "\n",
    "minds = load_dataset(\"PolyAI/minds14\", name=\"en-AU\", split=\"train\")\n",
    "minds = minds.cast_column(\"audio\", Audio(sampling_rate=16_000))"
   ]
  },
  {
   "cell_type": "code",
   "execution_count": null,
   "id": "dff0edca-bbc0-4e9e-ada9-64c90f7a47e1",
   "metadata": {},
   "outputs": [],
   "source": [
    "from transformers import pipeline\n",
    "\n",
    "classifier = pipeline(\n",
    "    \"audio-classification\",\n",
    "    model=\"anton-l/xtreme_s_xlsr_300m_minds14\",\n",
    ")"
   ]
  },
  {
   "cell_type": "code",
   "execution_count": null,
   "id": "15b3d358-f872-42c3-add8-3bd47a8daaea",
   "metadata": {},
   "outputs": [],
   "source": [
    "example = minds[0]"
   ]
  },
  {
   "cell_type": "code",
   "execution_count": null,
   "id": "ba26b391-9c86-47bb-a160-50f167b9521e",
   "metadata": {},
   "outputs": [],
   "source": [
    "classifier(example[\"audio\"][\"array\"])"
   ]
  },
  {
   "cell_type": "code",
   "execution_count": null,
   "id": "6d890adf-b751-4d61-af18-a1d94752ac17",
   "metadata": {},
   "outputs": [],
   "source": [
    "id2label = minds.features[\"intent_class\"].int2str\n",
    "id2label(example[\"intent_class\"])"
   ]
  },
  {
   "cell_type": "markdown",
   "id": "9142221a-536f-460b-ad79-e32af0b87d10",
   "metadata": {},
   "source": [
    "# Automatic speech recognition with a pipeline"
   ]
  },
  {
   "cell_type": "markdown",
   "id": "9566d1e9-42a6-4216-89ff-97b78438dc5d",
   "metadata": {},
   "source": [
    "## English"
   ]
  },
  {
   "cell_type": "code",
   "execution_count": null,
   "id": "8201ddc5-3815-48ef-ac4f-27bd1be56221",
   "metadata": {},
   "outputs": [],
   "source": [
    "from transformers import pipeline\n",
    "\n",
    "asr = pipeline(\"automatic-speech-recognition\")"
   ]
  },
  {
   "cell_type": "code",
   "execution_count": null,
   "id": "a8ec64ce-6224-40ba-8521-d0307817c46b",
   "metadata": {},
   "outputs": [],
   "source": [
    "example = minds[0]"
   ]
  },
  {
   "cell_type": "code",
   "execution_count": null,
   "id": "c6870bb2-2add-4260-bef8-af06c852123b",
   "metadata": {},
   "outputs": [],
   "source": [
    "asr(example[\"audio\"][\"array\"])"
   ]
  },
  {
   "cell_type": "code",
   "execution_count": null,
   "id": "fa642d57-3d79-45ae-8950-5eb377973d3d",
   "metadata": {},
   "outputs": [],
   "source": [
    "example[\"english_transcription\"]"
   ]
  },
  {
   "cell_type": "markdown",
   "id": "e59bb7c5-1866-4627-b943-1c768a10345e",
   "metadata": {},
   "source": [
    "## Deutsch"
   ]
  },
  {
   "cell_type": "code",
   "execution_count": null,
   "id": "55c82257-030a-4016-b195-a1ab8363f62e",
   "metadata": {},
   "outputs": [],
   "source": [
    "minds_de = load_dataset(\"PolyAI/minds14\", name=\"de-DE\",split=\"train\")\n",
    "minds_de = minds_de.cast_column(\"audio\", Audio(sampling_rate=16_000))\n",
    "minds_de"
   ]
  },
  {
   "cell_type": "code",
   "execution_count": null,
   "id": "a972a107-cea6-4a5a-8f1d-ef4fa8c4c91e",
   "metadata": {},
   "outputs": [],
   "source": [
    "example_de = minds_de[0]\n",
    "example_de"
   ]
  },
  {
   "cell_type": "code",
   "execution_count": null,
   "id": "a043b305-f9c4-4d55-b9e7-29403d40d165",
   "metadata": {},
   "outputs": [],
   "source": [
    "asr_de = pipeline(\"automatic-speech-recognition\", model=\"maxidl/wav2vec2-large-xlsr-german\")\n",
    "asr_de(example_de[\"audio\"][\"array\"])"
   ]
  },
  {
   "cell_type": "markdown",
   "id": "fb3d076a-c53f-4c0e-8ee7-fee7196da762",
   "metadata": {},
   "source": [
    "# Hands-on exercise"
   ]
  },
  {
   "cell_type": "markdown",
   "id": "5fe75be6-2343-474d-b79d-9caebc980174",
   "metadata": {},
   "source": [
    "## Find dataset and model for Afrikaans and do asr on one example from dataset"
   ]
  },
  {
   "cell_type": "code",
   "execution_count": null,
   "id": "14e43fab-0cc8-4058-aeeb-fe4b23d47204",
   "metadata": {
    "tags": []
   },
   "outputs": [],
   "source": [
    "from datasets import load_dataset\n",
    "afr = load_dataset(\"openslr\", name=\"SLR32\", split=\"train\")\n",
    "afr"
   ]
  },
  {
   "cell_type": "code",
   "execution_count": null,
   "id": "66cd0ba2-ea18-452f-ab8c-139d1b181c54",
   "metadata": {},
   "outputs": [],
   "source": [
    "from datasets import Audio\n",
    "afr = afr.cast_column(\"audio\", Audio(sampling_rate=16_000))"
   ]
  },
  {
   "cell_type": "code",
   "execution_count": null,
   "id": "824aaf52-bd8f-4aa0-9e8f-f6cebab9cefd",
   "metadata": {
    "tags": []
   },
   "outputs": [],
   "source": [
    "example = afr[8]\n",
    "example"
   ]
  },
  {
   "cell_type": "code",
   "execution_count": null,
   "id": "2dadc809-60eb-4d65-bead-a1ccb90856b4",
   "metadata": {},
   "outputs": [],
   "source": [
    "import IPython\n",
    "IPython.display.Audio(data=example[\"audio\"][\"array\"], rate=example[\"audio\"][\"sampling_rate\"])"
   ]
  },
  {
   "cell_type": "code",
   "execution_count": null,
   "id": "b42e8cd3-7d60-4da9-9f68-e0bd5d6bfff3",
   "metadata": {},
   "outputs": [],
   "source": [
    "import matplotlib.pyplot as plt\n",
    "import librosa.display\n",
    "\n",
    "plt.figure().set_figwidth(12)\n",
    "librosa.display.waveshow(example[\"audio\"][\"array\"], sr=example[\"audio\"][\"sampling_rate\"])"
   ]
  },
  {
   "cell_type": "code",
   "execution_count": null,
   "id": "311e72e6-4a8e-4f1c-8a57-53ef6350189e",
   "metadata": {},
   "outputs": [],
   "source": [
    "import numpy as np\n",
    "S = librosa.feature.melspectrogram(y=example[\"audio\"][\"array\"], sr=example[\"audio\"][\"sampling_rate\"], n_mels=40, fmax=8000)\n",
    "S_db = librosa.power_to_db(S, ref=np.max)\n",
    "plt.figure().set_figwidth(12)\n",
    "librosa.display.specshow(S_db, x_axis=\"time\", y_axis=\"mel\", sr=example[\"audio\"][\"sampling_rate\"], fmax=8000)\n",
    "plt.colorbar()"
   ]
  },
  {
   "cell_type": "code",
   "execution_count": null,
   "id": "4fdcc6db-bb68-4a6b-8232-2bbc11602fb9",
   "metadata": {},
   "outputs": [],
   "source": [
    "model_spec = \"Ari/whisper-base-af-za\"\n",
    "\n",
    "from transformers import pipeline\n",
    "\n",
    "asr = pipeline(\"automatic-speech-recognition\", model=model_spec)\n",
    "test_transcription = asr(example[\"audio\"][\"array\"])['text']"
   ]
  },
  {
   "cell_type": "code",
   "execution_count": null,
   "id": "508c6496-750e-48b2-879a-362303f428b2",
   "metadata": {},
   "outputs": [],
   "source": [
    "print(f\"Expected: {example['sentence']}\\n\")\n",
    "print(f\"Transcribed: {test_transcription}\")"
   ]
  },
  {
   "cell_type": "code",
   "execution_count": null,
   "id": "7183a0ef-23b1-4e76-bfe0-52c316b57e93",
   "metadata": {},
   "outputs": [],
   "source": []
  }
 ],
 "metadata": {
  "kernelspec": {
   "display_name": "Python 3 (ipykernel)",
   "language": "python",
   "name": "python3"
  },
  "language_info": {
   "codemirror_mode": {
    "name": "ipython",
    "version": 3
   },
   "file_extension": ".py",
   "mimetype": "text/x-python",
   "name": "python",
   "nbconvert_exporter": "python",
   "pygments_lexer": "ipython3",
   "version": "3.9.16"
  }
 },
 "nbformat": 4,
 "nbformat_minor": 5
}
