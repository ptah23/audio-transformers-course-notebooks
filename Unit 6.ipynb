{
 "cells": [
  {
   "cell_type": "code",
   "execution_count": 1,
   "id": "a6239771-932a-40fa-a814-70b9c10105d6",
   "metadata": {},
   "outputs": [
    {
     "name": "stdout",
     "output_type": "stream",
     "text": [
      "Requirement already satisfied: transformers in /usr/local/lib/python3.9/dist-packages (4.21.3)\n",
      "Collecting transformers\n",
      "  Downloading transformers-4.30.2-py3-none-any.whl (7.2 MB)\n",
      "\u001b[2K     \u001b[90m━━━━━━━━━━━━━━━━━━━━━━━━━━━━━━━━━━━━━━━━\u001b[0m \u001b[32m7.2/7.2 MB\u001b[0m \u001b[31m85.4 MB/s\u001b[0m eta \u001b[36m0:00:00\u001b[0m:00:01\u001b[0m00:01\u001b[0m\n",
      "\u001b[?25hRequirement already satisfied: pyyaml>=5.1 in /usr/local/lib/python3.9/dist-packages (from transformers) (5.4.1)\n",
      "Requirement already satisfied: numpy>=1.17 in /usr/local/lib/python3.9/dist-packages (from transformers) (1.23.4)\n",
      "Collecting huggingface-hub<1.0,>=0.14.1\n",
      "  Downloading huggingface_hub-0.16.4-py3-none-any.whl (268 kB)\n",
      "\u001b[2K     \u001b[90m━━━━━━━━━━━━━━━━━━━━━━━━━━━━━━━━━━━━━━\u001b[0m \u001b[32m268.8/268.8 kB\u001b[0m \u001b[31m69.0 MB/s\u001b[0m eta \u001b[36m0:00:00\u001b[0m\n",
      "\u001b[?25hRequirement already satisfied: tqdm>=4.27 in /usr/local/lib/python3.9/dist-packages (from transformers) (4.64.1)\n",
      "Collecting safetensors>=0.3.1\n",
      "  Downloading safetensors-0.3.1-cp39-cp39-manylinux_2_17_x86_64.manylinux2014_x86_64.whl (1.3 MB)\n",
      "\u001b[2K     \u001b[90m━━━━━━━━━━━━━━━━━━━━━━━━━━━━━━━━━━━━━━━━\u001b[0m \u001b[32m1.3/1.3 MB\u001b[0m \u001b[31m102.4 MB/s\u001b[0m eta \u001b[36m0:00:00\u001b[0m\n",
      "\u001b[?25hRequirement already satisfied: tokenizers!=0.11.3,<0.14,>=0.11.1 in /usr/local/lib/python3.9/dist-packages (from transformers) (0.12.1)\n",
      "Requirement already satisfied: packaging>=20.0 in /usr/local/lib/python3.9/dist-packages (from transformers) (23.0)\n",
      "Requirement already satisfied: requests in /usr/local/lib/python3.9/dist-packages (from transformers) (2.28.2)\n",
      "Requirement already satisfied: filelock in /usr/local/lib/python3.9/dist-packages (from transformers) (3.9.0)\n",
      "Requirement already satisfied: regex!=2019.12.17 in /usr/local/lib/python3.9/dist-packages (from transformers) (2022.10.31)\n",
      "Requirement already satisfied: typing-extensions>=3.7.4.3 in /usr/local/lib/python3.9/dist-packages (from huggingface-hub<1.0,>=0.14.1->transformers) (4.4.0)\n",
      "Requirement already satisfied: fsspec in /usr/local/lib/python3.9/dist-packages (from huggingface-hub<1.0,>=0.14.1->transformers) (2023.1.0)\n",
      "Requirement already satisfied: urllib3<1.27,>=1.21.1 in /usr/local/lib/python3.9/dist-packages (from requests->transformers) (1.26.14)\n",
      "Requirement already satisfied: charset-normalizer<4,>=2 in /usr/local/lib/python3.9/dist-packages (from requests->transformers) (2.1.1)\n",
      "Requirement already satisfied: idna<4,>=2.5 in /usr/lib/python3/dist-packages (from requests->transformers) (2.8)\n",
      "Requirement already satisfied: certifi>=2017.4.17 in /usr/lib/python3/dist-packages (from requests->transformers) (2019.11.28)\n",
      "Installing collected packages: safetensors, huggingface-hub, transformers\n",
      "  Attempting uninstall: huggingface-hub\n",
      "    Found existing installation: huggingface-hub 0.12.0\n",
      "    Uninstalling huggingface-hub-0.12.0:\n",
      "      Successfully uninstalled huggingface-hub-0.12.0\n",
      "  Attempting uninstall: transformers\n",
      "    Found existing installation: transformers 4.21.3\n",
      "    Uninstalling transformers-4.21.3:\n",
      "      Successfully uninstalled transformers-4.21.3\n",
      "Successfully installed huggingface-hub-0.16.4 safetensors-0.3.1 transformers-4.30.2\n",
      "\u001b[33mWARNING: Running pip as the 'root' user can result in broken permissions and conflicting behaviour with the system package manager. It is recommended to use a virtual environment instead: https://pip.pypa.io/warnings/venv\u001b[0m\u001b[33m\n",
      "\u001b[0m"
     ]
    }
   ],
   "source": [
    "!pip install -U transformers\n"
   ]
  },
  {
   "cell_type": "code",
   "execution_count": 2,
   "id": "6f39dbd6-72d1-4654-bb69-434fa88e40db",
   "metadata": {},
   "outputs": [
    {
     "name": "stdout",
     "output_type": "stream",
     "text": [
      "Requirement already satisfied: datasets in /usr/local/lib/python3.9/dist-packages (2.4.0)\n",
      "Requirement already satisfied: xxhash in /usr/local/lib/python3.9/dist-packages (from datasets) (3.2.0)\n",
      "Requirement already satisfied: multiprocess in /usr/local/lib/python3.9/dist-packages (from datasets) (0.70.13)\n",
      "Requirement already satisfied: aiohttp in /usr/local/lib/python3.9/dist-packages (from datasets) (3.8.3)\n",
      "Requirement already satisfied: dill<0.3.6 in /usr/local/lib/python3.9/dist-packages (from datasets) (0.3.5.1)\n",
      "Requirement already satisfied: fsspec[http]>=2021.11.1 in /usr/local/lib/python3.9/dist-packages (from datasets) (2023.1.0)\n",
      "Requirement already satisfied: numpy>=1.17 in /usr/local/lib/python3.9/dist-packages (from datasets) (1.23.4)\n",
      "Requirement already satisfied: requests>=2.19.0 in /usr/local/lib/python3.9/dist-packages (from datasets) (2.28.2)\n",
      "Requirement already satisfied: huggingface-hub<1.0.0,>=0.1.0 in /usr/local/lib/python3.9/dist-packages (from datasets) (0.16.4)\n",
      "Requirement already satisfied: tqdm>=4.62.1 in /usr/local/lib/python3.9/dist-packages (from datasets) (4.64.1)\n",
      "Requirement already satisfied: pyarrow>=6.0.0 in /usr/local/lib/python3.9/dist-packages (from datasets) (10.0.1)\n",
      "Requirement already satisfied: packaging in /usr/local/lib/python3.9/dist-packages (from datasets) (23.0)\n",
      "Requirement already satisfied: pandas in /usr/local/lib/python3.9/dist-packages (from datasets) (1.5.0)\n",
      "Requirement already satisfied: responses<0.19 in /usr/local/lib/python3.9/dist-packages (from datasets) (0.18.0)\n",
      "Requirement already satisfied: charset-normalizer<3.0,>=2.0 in /usr/local/lib/python3.9/dist-packages (from aiohttp->datasets) (2.1.1)\n",
      "Requirement already satisfied: attrs>=17.3.0 in /usr/local/lib/python3.9/dist-packages (from aiohttp->datasets) (18.2.0)\n",
      "Requirement already satisfied: yarl<2.0,>=1.0 in /usr/local/lib/python3.9/dist-packages (from aiohttp->datasets) (1.8.2)\n",
      "Requirement already satisfied: async-timeout<5.0,>=4.0.0a3 in /usr/local/lib/python3.9/dist-packages (from aiohttp->datasets) (4.0.2)\n",
      "Requirement already satisfied: frozenlist>=1.1.1 in /usr/local/lib/python3.9/dist-packages (from aiohttp->datasets) (1.3.3)\n",
      "Requirement already satisfied: multidict<7.0,>=4.5 in /usr/local/lib/python3.9/dist-packages (from aiohttp->datasets) (6.0.4)\n",
      "Requirement already satisfied: aiosignal>=1.1.2 in /usr/local/lib/python3.9/dist-packages (from aiohttp->datasets) (1.3.1)\n",
      "Requirement already satisfied: pyyaml>=5.1 in /usr/local/lib/python3.9/dist-packages (from huggingface-hub<1.0.0,>=0.1.0->datasets) (5.4.1)\n",
      "Requirement already satisfied: typing-extensions>=3.7.4.3 in /usr/local/lib/python3.9/dist-packages (from huggingface-hub<1.0.0,>=0.1.0->datasets) (4.4.0)\n",
      "Requirement already satisfied: filelock in /usr/local/lib/python3.9/dist-packages (from huggingface-hub<1.0.0,>=0.1.0->datasets) (3.9.0)\n",
      "Requirement already satisfied: idna<4,>=2.5 in /usr/lib/python3/dist-packages (from requests>=2.19.0->datasets) (2.8)\n",
      "Requirement already satisfied: certifi>=2017.4.17 in /usr/lib/python3/dist-packages (from requests>=2.19.0->datasets) (2019.11.28)\n",
      "Requirement already satisfied: urllib3<1.27,>=1.21.1 in /usr/local/lib/python3.9/dist-packages (from requests>=2.19.0->datasets) (1.26.14)\n",
      "Requirement already satisfied: python-dateutil>=2.8.1 in /usr/local/lib/python3.9/dist-packages (from pandas->datasets) (2.8.2)\n",
      "Requirement already satisfied: pytz>=2020.1 in /usr/local/lib/python3.9/dist-packages (from pandas->datasets) (2022.7.1)\n",
      "Requirement already satisfied: six>=1.5 in /usr/lib/python3/dist-packages (from python-dateutil>=2.8.1->pandas->datasets) (1.14.0)\n",
      "\u001b[33mWARNING: Running pip as the 'root' user can result in broken permissions and conflicting behaviour with the system package manager. It is recommended to use a virtual environment instead: https://pip.pypa.io/warnings/venv\u001b[0m\u001b[33m\n",
      "\u001b[0mCollecting soundfile\n",
      "  Downloading soundfile-0.12.1-py2.py3-none-manylinux_2_31_x86_64.whl (1.2 MB)\n",
      "\u001b[2K     \u001b[90m━━━━━━━━━━━━━━━━━━━━━━━━━━━━━━━━━━━━━━━━\u001b[0m \u001b[32m1.2/1.2 MB\u001b[0m \u001b[31m62.0 MB/s\u001b[0m eta \u001b[36m0:00:00\u001b[0m\n",
      "\u001b[?25hRequirement already satisfied: cffi>=1.0 in /usr/local/lib/python3.9/dist-packages (from soundfile) (1.15.1)\n",
      "Requirement already satisfied: pycparser in /usr/local/lib/python3.9/dist-packages (from cffi>=1.0->soundfile) (2.21)\n",
      "Installing collected packages: soundfile\n",
      "Successfully installed soundfile-0.12.1\n",
      "\u001b[33mWARNING: Running pip as the 'root' user can result in broken permissions and conflicting behaviour with the system package manager. It is recommended to use a virtual environment instead: https://pip.pypa.io/warnings/venv\u001b[0m\u001b[33m\n",
      "\u001b[0mCollecting librosa\n",
      "  Downloading librosa-0.10.0.post2-py3-none-any.whl (253 kB)\n",
      "\u001b[2K     \u001b[90m━━━━━━━━━━━━━━━━━━━━━━━━━━━━━━━━━━━━━━\u001b[0m \u001b[32m253.0/253.0 kB\u001b[0m \u001b[31m32.9 MB/s\u001b[0m eta \u001b[36m0:00:00\u001b[0m\n",
      "\u001b[?25hRequirement already satisfied: decorator>=4.3.0 in /usr/local/lib/python3.9/dist-packages (from librosa) (5.1.1)\n",
      "Requirement already satisfied: joblib>=0.14 in /usr/local/lib/python3.9/dist-packages (from librosa) (1.2.0)\n",
      "Collecting soxr>=0.3.2\n",
      "  Downloading soxr-0.3.5-cp39-cp39-manylinux_2_17_x86_64.manylinux2014_x86_64.whl (1.2 MB)\n",
      "\u001b[2K     \u001b[90m━━━━━━━━━━━━━━━━━━━━━━━━━━━━━━━━━━━━━━━━\u001b[0m \u001b[32m1.2/1.2 MB\u001b[0m \u001b[31m29.2 MB/s\u001b[0m eta \u001b[36m0:00:00\u001b[0m00:01\u001b[0m\n",
      "\u001b[?25hCollecting audioread>=2.1.9\n",
      "  Downloading audioread-3.0.0.tar.gz (377 kB)\n",
      "\u001b[2K     \u001b[90m━━━━━━━━━━━━━━━━━━━━━━━━━━━━━━━━━━━━━━\u001b[0m \u001b[32m377.0/377.0 kB\u001b[0m \u001b[31m85.3 MB/s\u001b[0m eta \u001b[36m0:00:00\u001b[0m\n",
      "\u001b[?25h  Preparing metadata (setup.py) ... \u001b[?25ldone\n",
      "\u001b[?25hCollecting pooch<1.7,>=1.0\n",
      "  Downloading pooch-1.6.0-py3-none-any.whl (56 kB)\n",
      "\u001b[2K     \u001b[90m━━━━━━━━━━━━━━━━━━━━━━━━━━━━━━━━━━━━━━━━\u001b[0m \u001b[32m56.3/56.3 kB\u001b[0m \u001b[31m21.1 MB/s\u001b[0m eta \u001b[36m0:00:00\u001b[0m\n",
      "\u001b[?25hCollecting lazy-loader>=0.1\n",
      "  Downloading lazy_loader-0.3-py3-none-any.whl (9.1 kB)\n",
      "Requirement already satisfied: soundfile>=0.12.1 in /usr/local/lib/python3.9/dist-packages (from librosa) (0.12.1)\n",
      "Requirement already satisfied: scipy>=1.2.0 in /usr/local/lib/python3.9/dist-packages (from librosa) (1.9.2)\n",
      "Requirement already satisfied: scikit-learn>=0.20.0 in /usr/local/lib/python3.9/dist-packages (from librosa) (1.1.2)\n",
      "Requirement already satisfied: msgpack>=1.0 in /usr/local/lib/python3.9/dist-packages (from librosa) (1.0.4)\n",
      "Requirement already satisfied: numpy!=1.22.0,!=1.22.1,!=1.22.2,>=1.20.3 in /usr/local/lib/python3.9/dist-packages (from librosa) (1.23.4)\n",
      "Collecting numba>=0.51.0\n",
      "  Downloading numba-0.57.1-cp39-cp39-manylinux2014_x86_64.manylinux_2_17_x86_64.whl (3.6 MB)\n",
      "\u001b[2K     \u001b[90m━━━━━━━━━━━━━━━━━━━━━━━━━━━━━━━━━━━━━━━━\u001b[0m \u001b[32m3.6/3.6 MB\u001b[0m \u001b[31m95.4 MB/s\u001b[0m eta \u001b[36m0:00:00\u001b[0m:00:01\u001b[0m\n",
      "\u001b[?25hRequirement already satisfied: typing-extensions>=4.1.1 in /usr/local/lib/python3.9/dist-packages (from librosa) (4.4.0)\n",
      "Collecting llvmlite<0.41,>=0.40.0dev0\n",
      "  Downloading llvmlite-0.40.1-cp39-cp39-manylinux_2_17_x86_64.manylinux2014_x86_64.whl (42.1 MB)\n",
      "\u001b[2K     \u001b[90m━━━━━━━━━━━━━━━━━━━━━━━━━━━━━━━━━━━━━━━━\u001b[0m \u001b[32m42.1/42.1 MB\u001b[0m \u001b[31m39.4 MB/s\u001b[0m eta \u001b[36m0:00:00\u001b[0m00:01\u001b[0m00:01\u001b[0m\n",
      "\u001b[?25hRequirement already satisfied: packaging>=20.0 in /usr/local/lib/python3.9/dist-packages (from pooch<1.7,>=1.0->librosa) (23.0)\n",
      "Collecting appdirs>=1.3.0\n",
      "  Downloading appdirs-1.4.4-py2.py3-none-any.whl (9.6 kB)\n",
      "Requirement already satisfied: requests>=2.19.0 in /usr/local/lib/python3.9/dist-packages (from pooch<1.7,>=1.0->librosa) (2.28.2)\n",
      "Requirement already satisfied: threadpoolctl>=2.0.0 in /usr/local/lib/python3.9/dist-packages (from scikit-learn>=0.20.0->librosa) (3.1.0)\n",
      "Requirement already satisfied: cffi>=1.0 in /usr/local/lib/python3.9/dist-packages (from soundfile>=0.12.1->librosa) (1.15.1)\n",
      "Requirement already satisfied: pycparser in /usr/local/lib/python3.9/dist-packages (from cffi>=1.0->soundfile>=0.12.1->librosa) (2.21)\n",
      "Requirement already satisfied: charset-normalizer<4,>=2 in /usr/local/lib/python3.9/dist-packages (from requests>=2.19.0->pooch<1.7,>=1.0->librosa) (2.1.1)\n",
      "Requirement already satisfied: certifi>=2017.4.17 in /usr/lib/python3/dist-packages (from requests>=2.19.0->pooch<1.7,>=1.0->librosa) (2019.11.28)\n",
      "Requirement already satisfied: urllib3<1.27,>=1.21.1 in /usr/local/lib/python3.9/dist-packages (from requests>=2.19.0->pooch<1.7,>=1.0->librosa) (1.26.14)\n",
      "Requirement already satisfied: idna<4,>=2.5 in /usr/lib/python3/dist-packages (from requests>=2.19.0->pooch<1.7,>=1.0->librosa) (2.8)\n",
      "Building wheels for collected packages: audioread\n",
      "  Building wheel for audioread (setup.py) ... \u001b[?25ldone\n",
      "\u001b[?25h  Created wheel for audioread: filename=audioread-3.0.0-py3-none-any.whl size=23702 sha256=9cf4cf348475539e967e79fa047c19a5f34c9ccb8557b164913a0c884788bcd2\n",
      "  Stored in directory: /root/.cache/pip/wheels/7a/6a/b0/92760a6d6bc2bff5464970af910c0b0b921390993f3199cdf7\n",
      "Successfully built audioread\n",
      "Installing collected packages: appdirs, soxr, llvmlite, lazy-loader, audioread, pooch, numba, librosa\n",
      "Successfully installed appdirs-1.4.4 audioread-3.0.0 lazy-loader-0.3 librosa-0.10.0.post2 llvmlite-0.40.1 numba-0.57.1 pooch-1.6.0 soxr-0.3.5\n",
      "\u001b[33mWARNING: Running pip as the 'root' user can result in broken permissions and conflicting behaviour with the system package manager. It is recommended to use a virtual environment instead: https://pip.pypa.io/warnings/venv\u001b[0m\u001b[33m\n",
      "\u001b[0m"
     ]
    }
   ],
   "source": [
    "!pip install datasets\n",
    "!pip install soundfile\n",
    "!pip install librosa"
   ]
  },
  {
   "cell_type": "code",
   "execution_count": 3,
   "id": "908ceb10-79c0-48f9-91d7-4b5ed6443fb5",
   "metadata": {},
   "outputs": [
    {
     "name": "stdout",
     "output_type": "stream",
     "text": [
      "Collecting git+https://github.com/huggingface/transformers\n",
      "  Cloning https://github.com/huggingface/transformers to /tmp/pip-req-build-68orn_ml\n",
      "  Running command git clone --filter=blob:none --quiet https://github.com/huggingface/transformers /tmp/pip-req-build-68orn_ml\n",
      "  Resolved https://github.com/huggingface/transformers to commit abaca9f9432a84cfaa95531de4c72334f38a42f2\n",
      "  Installing build dependencies ... \u001b[?25ldone\n",
      "\u001b[?25h  Getting requirements to build wheel ... \u001b[?25ldone\n",
      "\u001b[?25h  Preparing metadata (pyproject.toml) ... \u001b[?25ldone\n",
      "\u001b[?25hRequirement already satisfied: huggingface-hub<1.0,>=0.14.1 in /usr/local/lib/python3.9/dist-packages (from transformers==4.31.0.dev0) (0.16.4)\n",
      "Requirement already satisfied: tokenizers!=0.11.3,<0.14,>=0.11.1 in /usr/local/lib/python3.9/dist-packages (from transformers==4.31.0.dev0) (0.12.1)\n",
      "Requirement already satisfied: requests in /usr/local/lib/python3.9/dist-packages (from transformers==4.31.0.dev0) (2.28.2)\n",
      "Requirement already satisfied: packaging>=20.0 in /usr/local/lib/python3.9/dist-packages (from transformers==4.31.0.dev0) (23.0)\n",
      "Requirement already satisfied: safetensors>=0.3.1 in /usr/local/lib/python3.9/dist-packages (from transformers==4.31.0.dev0) (0.3.1)\n",
      "Requirement already satisfied: tqdm>=4.27 in /usr/local/lib/python3.9/dist-packages (from transformers==4.31.0.dev0) (4.64.1)\n",
      "Requirement already satisfied: numpy>=1.17 in /usr/local/lib/python3.9/dist-packages (from transformers==4.31.0.dev0) (1.23.4)\n",
      "Requirement already satisfied: pyyaml>=5.1 in /usr/local/lib/python3.9/dist-packages (from transformers==4.31.0.dev0) (5.4.1)\n",
      "Requirement already satisfied: regex!=2019.12.17 in /usr/local/lib/python3.9/dist-packages (from transformers==4.31.0.dev0) (2022.10.31)\n",
      "Requirement already satisfied: filelock in /usr/local/lib/python3.9/dist-packages (from transformers==4.31.0.dev0) (3.9.0)\n",
      "Requirement already satisfied: typing-extensions>=3.7.4.3 in /usr/local/lib/python3.9/dist-packages (from huggingface-hub<1.0,>=0.14.1->transformers==4.31.0.dev0) (4.4.0)\n",
      "Requirement already satisfied: fsspec in /usr/local/lib/python3.9/dist-packages (from huggingface-hub<1.0,>=0.14.1->transformers==4.31.0.dev0) (2023.1.0)\n",
      "Requirement already satisfied: charset-normalizer<4,>=2 in /usr/local/lib/python3.9/dist-packages (from requests->transformers==4.31.0.dev0) (2.1.1)\n",
      "Requirement already satisfied: idna<4,>=2.5 in /usr/lib/python3/dist-packages (from requests->transformers==4.31.0.dev0) (2.8)\n",
      "Requirement already satisfied: certifi>=2017.4.17 in /usr/lib/python3/dist-packages (from requests->transformers==4.31.0.dev0) (2019.11.28)\n",
      "Requirement already satisfied: urllib3<1.27,>=1.21.1 in /usr/local/lib/python3.9/dist-packages (from requests->transformers==4.31.0.dev0) (1.26.14)\n",
      "Building wheels for collected packages: transformers\n",
      "  Building wheel for transformers (pyproject.toml) ... \u001b[?25ldone\n",
      "\u001b[?25h  Created wheel for transformers: filename=transformers-4.31.0.dev0-py3-none-any.whl size=7286950 sha256=886e4d3983e320ee4c74b8d9242c0ba835edc625dc96f4b80f2c76282c15ee10\n",
      "  Stored in directory: /tmp/pip-ephem-wheel-cache-jt1ldwtm/wheels/14/a0/7b/8f6b25ba4110aa215fcb8d6aedd6cd4f9b9b6619190999ac2b\n",
      "Successfully built transformers\n",
      "Installing collected packages: transformers\n",
      "  Attempting uninstall: transformers\n",
      "    Found existing installation: transformers 4.30.2\n",
      "    Uninstalling transformers-4.30.2:\n",
      "      Successfully uninstalled transformers-4.30.2\n",
      "Successfully installed transformers-4.31.0.dev0\n",
      "\u001b[33mWARNING: Running pip as the 'root' user can result in broken permissions and conflicting behaviour with the system package manager. It is recommended to use a virtual environment instead: https://pip.pypa.io/warnings/venv\u001b[0m\u001b[33m\n",
      "\u001b[0m"
     ]
    }
   ],
   "source": [
    "!pip install git+https://github.com/huggingface/transformers"
   ]
  },
  {
   "cell_type": "code",
   "execution_count": 4,
   "id": "1bf4fb4e-4c1f-48a7-953a-7d5091c4978c",
   "metadata": {},
   "outputs": [
    {
     "name": "stdout",
     "output_type": "stream",
     "text": [
      "Collecting speechbrain\n",
      "  Downloading speechbrain-0.5.14-py3-none-any.whl (519 kB)\n",
      "\u001b[2K     \u001b[90m━━━━━━━━━━━━━━━━━━━━━━━━━━━━━━━━━━━━━━\u001b[0m \u001b[32m519.0/519.0 kB\u001b[0m \u001b[31m41.0 MB/s\u001b[0m eta \u001b[36m0:00:00\u001b[0m\n",
      "\u001b[?25hCollecting accelerate\n",
      "  Downloading accelerate-0.20.3-py3-none-any.whl (227 kB)\n",
      "\u001b[2K     \u001b[90m━━━━━━━━━━━━━━━━━━━━━━━━━━━━━━━━━━━━━━\u001b[0m \u001b[32m227.6/227.6 kB\u001b[0m \u001b[31m57.8 MB/s\u001b[0m eta \u001b[36m0:00:00\u001b[0m\n",
      "\u001b[?25hRequirement already satisfied: packaging in /usr/local/lib/python3.9/dist-packages (from speechbrain) (23.0)\n",
      "Collecting hyperpyyaml\n",
      "  Downloading HyperPyYAML-1.2.1-py3-none-any.whl (16 kB)\n",
      "Requirement already satisfied: torchaudio in /usr/local/lib/python3.9/dist-packages (from speechbrain) (0.12.1+cu116)\n",
      "Requirement already satisfied: huggingface-hub in /usr/local/lib/python3.9/dist-packages (from speechbrain) (0.16.4)\n",
      "Requirement already satisfied: scipy in /usr/local/lib/python3.9/dist-packages (from speechbrain) (1.9.2)\n",
      "Requirement already satisfied: tqdm in /usr/local/lib/python3.9/dist-packages (from speechbrain) (4.64.1)\n",
      "Requirement already satisfied: numpy in /usr/local/lib/python3.9/dist-packages (from speechbrain) (1.23.4)\n",
      "Requirement already satisfied: joblib in /usr/local/lib/python3.9/dist-packages (from speechbrain) (1.2.0)\n",
      "Requirement already satisfied: sentencepiece in /usr/local/lib/python3.9/dist-packages (from speechbrain) (0.1.97)\n",
      "Requirement already satisfied: torch>=1.9 in /usr/local/lib/python3.9/dist-packages (from speechbrain) (1.12.1+cu116)\n",
      "Requirement already satisfied: psutil in /usr/local/lib/python3.9/dist-packages (from accelerate) (5.9.4)\n",
      "Requirement already satisfied: pyyaml in /usr/local/lib/python3.9/dist-packages (from accelerate) (5.4.1)\n",
      "Requirement already satisfied: typing-extensions in /usr/local/lib/python3.9/dist-packages (from torch>=1.9->speechbrain) (4.4.0)\n",
      "Requirement already satisfied: requests in /usr/local/lib/python3.9/dist-packages (from huggingface-hub->speechbrain) (2.28.2)\n",
      "Requirement already satisfied: fsspec in /usr/local/lib/python3.9/dist-packages (from huggingface-hub->speechbrain) (2023.1.0)\n",
      "Requirement already satisfied: filelock in /usr/local/lib/python3.9/dist-packages (from huggingface-hub->speechbrain) (3.9.0)\n",
      "Collecting ruamel.yaml<=0.17.28,>=0.17.8\n",
      "  Downloading ruamel.yaml-0.17.28-py3-none-any.whl (109 kB)\n",
      "\u001b[2K     \u001b[90m━━━━━━━━━━━━━━━━━━━━━━━━━━━━━━━━━━━━━━\u001b[0m \u001b[32m109.6/109.6 kB\u001b[0m \u001b[31m36.5 MB/s\u001b[0m eta \u001b[36m0:00:00\u001b[0m\n",
      "\u001b[?25hCollecting ruamel.yaml.clib>=0.2.7\n",
      "  Downloading ruamel.yaml.clib-0.2.7-cp39-cp39-manylinux_2_17_x86_64.manylinux2014_x86_64.manylinux_2_24_x86_64.whl (519 kB)\n",
      "\u001b[2K     \u001b[90m━━━━━━━━━━━━━━━━━━━━━━━━━━━━━━━━━━━━━━\u001b[0m \u001b[32m519.4/519.4 kB\u001b[0m \u001b[31m86.3 MB/s\u001b[0m eta \u001b[36m0:00:00\u001b[0m\n",
      "\u001b[?25hRequirement already satisfied: charset-normalizer<4,>=2 in /usr/local/lib/python3.9/dist-packages (from requests->huggingface-hub->speechbrain) (2.1.1)\n",
      "Requirement already satisfied: idna<4,>=2.5 in /usr/lib/python3/dist-packages (from requests->huggingface-hub->speechbrain) (2.8)\n",
      "Requirement already satisfied: certifi>=2017.4.17 in /usr/lib/python3/dist-packages (from requests->huggingface-hub->speechbrain) (2019.11.28)\n",
      "Requirement already satisfied: urllib3<1.27,>=1.21.1 in /usr/local/lib/python3.9/dist-packages (from requests->huggingface-hub->speechbrain) (1.26.14)\n",
      "Installing collected packages: ruamel.yaml.clib, ruamel.yaml, accelerate, hyperpyyaml, speechbrain\n",
      "Successfully installed accelerate-0.20.3 hyperpyyaml-1.2.1 ruamel.yaml-0.17.28 ruamel.yaml.clib-0.2.7 speechbrain-0.5.14\n",
      "\u001b[33mWARNING: Running pip as the 'root' user can result in broken permissions and conflicting behaviour with the system package manager. It is recommended to use a virtual environment instead: https://pip.pypa.io/warnings/venv\u001b[0m\u001b[33m\n",
      "\u001b[0m"
     ]
    }
   ],
   "source": [
    "!pip install speechbrain accelerate"
   ]
  },
  {
   "cell_type": "code",
   "execution_count": 5,
   "id": "3139f33a-fca9-46e0-8c1e-705622d2253a",
   "metadata": {},
   "outputs": [
    {
     "name": "stdout",
     "output_type": "stream",
     "text": [
      "Reading package lists... Done\n",
      "Building dependency tree       \n",
      "Reading state information... Done\n",
      "The following NEW packages will be installed:\n",
      "  git-lfs\n",
      "0 upgraded, 1 newly installed, 0 to remove and 3 not upgraded.\n",
      "Need to get 3316 kB of archives.\n",
      "After this operation, 11.1 MB of additional disk space will be used.\n",
      "Get:1 http://archive.ubuntu.com/ubuntu focal/universe amd64 git-lfs amd64 2.9.2-1 [3316 kB]\n",
      "Fetched 3316 kB in 1s (4098 kB/s)  \n",
      "Selecting previously unselected package git-lfs.\n",
      "(Reading database ... 69943 files and directories currently installed.)\n",
      "Preparing to unpack .../git-lfs_2.9.2-1_amd64.deb ...\n",
      "Unpacking git-lfs (2.9.2-1) ...\n",
      "Setting up git-lfs (2.9.2-1) ...\n",
      "Processing triggers for man-db (2.9.1-1) ...\n",
      "Updated git hooks.\n",
      "Git LFS initialized.\n"
     ]
    }
   ],
   "source": [
    "!apt-get install git-lfs\n",
    "!git lfs install"
   ]
  },
  {
   "cell_type": "markdown",
   "id": "1fa9806f-c4a6-4958-a8ad-aae537e692d4",
   "metadata": {
    "jp-MarkdownHeadingCollapsed": true,
    "tags": []
   },
   "source": [
    "## Pre-trained models for text-to-speech"
   ]
  },
  {
   "cell_type": "markdown",
   "id": "9a4dda1c-6a40-4a78-88ee-9975ea2d5c6a",
   "metadata": {
    "tags": []
   },
   "source": [
    "#### SpeechT5"
   ]
  },
  {
   "cell_type": "code",
   "execution_count": null,
   "id": "ef6a0349-ada8-43e5-bfaa-1e33549229c6",
   "metadata": {},
   "outputs": [],
   "source": [
    "from transformers import SpeechT5Processor, SpeechT5ForTextToSpeech\n",
    "processor = SpeechT5Processor.from_pretrained(\"microsoft/speecht5_tts\")\n",
    "model = SpeechT5ForTextToSpeech.from_pretrained(\"microsoft/speecht5_tts\")"
   ]
  },
  {
   "cell_type": "code",
   "execution_count": null,
   "id": "9daaf3ce-11aa-4dec-b40d-e451832bea7d",
   "metadata": {},
   "outputs": [],
   "source": [
    "inputs = processor(text=\"Don't count the days, make the days count\", return_tensors=\"pt\")"
   ]
  },
  {
   "cell_type": "code",
   "execution_count": null,
   "id": "3c10b007-0b58-42e7-91bd-b1b90356ceca",
   "metadata": {},
   "outputs": [],
   "source": [
    "# load speaker embedding\n",
    "from datasets import load_dataset\n",
    "embeddings_dataset = load_dataset(\"Matthijs/cmu-arctic-xvectors\", split=\"validation\")\n"
   ]
  },
  {
   "cell_type": "code",
   "execution_count": null,
   "id": "9ade75ac-2551-40bf-a51d-b0a2626cf6e8",
   "metadata": {},
   "outputs": [],
   "source": [
    "import torch\n",
    "speaker_embeddings = torch.tensor(embeddings_dataset[6306][\"xvector\"]).unsqueeze(0) # change which voice here"
   ]
  },
  {
   "cell_type": "code",
   "execution_count": null,
   "id": "b9fe9014-3ba3-4850-90c3-7f3c9846e561",
   "metadata": {},
   "outputs": [],
   "source": [
    "spectrogram = model.generate_speech(inputs[\"input_ids\"], speaker_embeddings)"
   ]
  },
  {
   "cell_type": "code",
   "execution_count": null,
   "id": "5c06257b-6c04-4800-bafa-a2919633322c",
   "metadata": {},
   "outputs": [],
   "source": [
    "# load vocoder to generate audio from log mel spectrogram\n",
    "from transformers import SpeechT5HifiGan\n",
    "vocoder = SpeechT5HifiGan.from_pretrained(\"microsoft/speecht5_hifigan\")"
   ]
  },
  {
   "cell_type": "code",
   "execution_count": null,
   "id": "96acc2f5-84c5-4ae4-bd11-fed0ac5d404d",
   "metadata": {},
   "outputs": [],
   "source": [
    "speech = model.generate_speech(inputs[\"input_ids\"], speaker_embeddings, vocoder=vocoder)"
   ]
  },
  {
   "cell_type": "code",
   "execution_count": null,
   "id": "3f51ce68-5663-49d7-89bb-43062088af03",
   "metadata": {},
   "outputs": [],
   "source": [
    "import IPython\n",
    "IPython.display.Audio(speech, rate=16_000)"
   ]
  },
  {
   "cell_type": "markdown",
   "id": "a885da2c-a7f4-4f7f-9278-8f882a701a69",
   "metadata": {},
   "source": [
    "#### Massive Multilingual Speech (MMS)"
   ]
  },
  {
   "cell_type": "code",
   "execution_count": 7,
   "id": "94e197e3-5c20-4f70-b155-9a93ac5a6a8e",
   "metadata": {},
   "outputs": [
    {
     "name": "stdout",
     "output_type": "stream",
     "text": [
      "Collecting git+https://github.com/hollance/transformers.git@vits\n",
      "  Cloning https://github.com/hollance/transformers.git (to revision vits) to /tmp/pip-req-build-0gh6bqwp\n",
      "  Running command git clone --filter=blob:none --quiet https://github.com/hollance/transformers.git /tmp/pip-req-build-0gh6bqwp\n",
      "  Running command git checkout -b vits --track origin/vits\n",
      "  Switched to a new branch 'vits'\n",
      "  Branch 'vits' set up to track remote branch 'vits' from 'origin'.\n",
      "  Resolved https://github.com/hollance/transformers.git to commit 7c21aa2a091bbae0f1b5eca82590287a28c6f555\n",
      "  Installing build dependencies ... \u001b[?25ldone\n",
      "\u001b[?25h  Getting requirements to build wheel ... \u001b[?25ldone\n",
      "\u001b[?25h  Preparing metadata (pyproject.toml) ... \u001b[?25ldone\n",
      "\u001b[?25hRequirement already satisfied: tokenizers!=0.11.3,<0.14,>=0.11.1 in /usr/local/lib/python3.9/dist-packages (from transformers==4.31.0.dev0) (0.12.1)\n",
      "Requirement already satisfied: safetensors>=0.3.1 in /usr/local/lib/python3.9/dist-packages (from transformers==4.31.0.dev0) (0.3.1)\n",
      "Requirement already satisfied: filelock in /usr/local/lib/python3.9/dist-packages (from transformers==4.31.0.dev0) (3.9.0)\n",
      "Requirement already satisfied: pyyaml>=5.1 in /usr/local/lib/python3.9/dist-packages (from transformers==4.31.0.dev0) (5.4.1)\n",
      "Requirement already satisfied: regex!=2019.12.17 in /usr/local/lib/python3.9/dist-packages (from transformers==4.31.0.dev0) (2022.10.31)\n",
      "Requirement already satisfied: tqdm>=4.27 in /usr/local/lib/python3.9/dist-packages (from transformers==4.31.0.dev0) (4.64.1)\n",
      "Requirement already satisfied: packaging>=20.0 in /usr/local/lib/python3.9/dist-packages (from transformers==4.31.0.dev0) (23.0)\n",
      "Requirement already satisfied: huggingface-hub<1.0,>=0.14.1 in /usr/local/lib/python3.9/dist-packages (from transformers==4.31.0.dev0) (0.16.4)\n",
      "Requirement already satisfied: requests in /usr/local/lib/python3.9/dist-packages (from transformers==4.31.0.dev0) (2.28.2)\n",
      "Requirement already satisfied: numpy>=1.17 in /usr/local/lib/python3.9/dist-packages (from transformers==4.31.0.dev0) (1.23.4)\n",
      "Requirement already satisfied: typing-extensions>=3.7.4.3 in /usr/local/lib/python3.9/dist-packages (from huggingface-hub<1.0,>=0.14.1->transformers==4.31.0.dev0) (4.4.0)\n",
      "Requirement already satisfied: fsspec in /usr/local/lib/python3.9/dist-packages (from huggingface-hub<1.0,>=0.14.1->transformers==4.31.0.dev0) (2023.1.0)\n",
      "Requirement already satisfied: idna<4,>=2.5 in /usr/lib/python3/dist-packages (from requests->transformers==4.31.0.dev0) (2.8)\n",
      "Requirement already satisfied: certifi>=2017.4.17 in /usr/lib/python3/dist-packages (from requests->transformers==4.31.0.dev0) (2019.11.28)\n",
      "Requirement already satisfied: charset-normalizer<4,>=2 in /usr/local/lib/python3.9/dist-packages (from requests->transformers==4.31.0.dev0) (2.1.1)\n",
      "Requirement already satisfied: urllib3<1.27,>=1.21.1 in /usr/local/lib/python3.9/dist-packages (from requests->transformers==4.31.0.dev0) (1.26.14)\n",
      "\u001b[33mWARNING: Running pip as the 'root' user can result in broken permissions and conflicting behaviour with the system package manager. It is recommended to use a virtual environment instead: https://pip.pypa.io/warnings/venv\u001b[0m\u001b[33m\n",
      "\u001b[0m"
     ]
    }
   ],
   "source": [
    "#not merged yet so install from branch\n",
    "!pip install -U git+https://github.com/hollance/transformers.git@vits"
   ]
  },
  {
   "cell_type": "code",
   "execution_count": 10,
   "id": "700ce582-6ede-4e04-b72b-69f8ac1078ab",
   "metadata": {},
   "outputs": [
    {
     "ename": "ImportError",
     "evalue": "cannot import name 'VitsModel' from 'transformers' (/usr/local/lib/python3.9/dist-packages/transformers/__init__.py)",
     "output_type": "error",
     "traceback": [
      "\u001b[0;31m---------------------------------------------------------------------------\u001b[0m",
      "\u001b[0;31mImportError\u001b[0m                               Traceback (most recent call last)",
      "Cell \u001b[0;32mIn [10], line 1\u001b[0m\n\u001b[0;32m----> 1\u001b[0m \u001b[38;5;28;01mfrom\u001b[39;00m \u001b[38;5;21;01mtransformers\u001b[39;00m \u001b[38;5;28;01mimport\u001b[39;00m VitsModel\n",
      "\u001b[0;31mImportError\u001b[0m: cannot import name 'VitsModel' from 'transformers' (/usr/local/lib/python3.9/dist-packages/transformers/__init__.py)"
     ]
    }
   ],
   "source": [
    "from transformers import VitsModel"
   ]
  },
  {
   "cell_type": "markdown",
   "id": "e0d2fe04-c01f-4774-9572-b290f428a933",
   "metadata": {},
   "source": [
    "## Fine-tuning SpeechT5\n"
   ]
  },
  {
   "cell_type": "markdown",
   "id": "ecd4f907-fb05-4b83-acd5-34594a0d3e0a",
   "metadata": {},
   "source": [
    "### Housekeeping"
   ]
  },
  {
   "cell_type": "code",
   "execution_count": 7,
   "id": "19849cd2-2af1-48e0-a61e-b25944e1189c",
   "metadata": {},
   "outputs": [
    {
     "data": {
      "application/vnd.jupyter.widget-view+json": {
       "model_id": "775013cd5e1c47a0ae95f8da2348e4b2",
       "version_major": 2,
       "version_minor": 0
      },
      "text/plain": [
       "VBox(children=(HTML(value='<center> <img\\nsrc=https://huggingface.co/front/assets/huggingface_logo-noborder.sv…"
      ]
     },
     "metadata": {},
     "output_type": "display_data"
    }
   ],
   "source": [
    "from huggingface_hub import notebook_login\n",
    "\n",
    "notebook_login()"
   ]
  },
  {
   "cell_type": "markdown",
   "id": "8ffdf5e5-4ce4-496d-8eb0-d933323a5f2c",
   "metadata": {},
   "source": [
    "### The dataset"
   ]
  },
  {
   "cell_type": "code",
   "execution_count": 8,
   "id": "6ce64e6b-5aa8-4ddc-a3a1-a001052bb681",
   "metadata": {},
   "outputs": [
    {
     "data": {
      "application/vnd.jupyter.widget-view+json": {
       "model_id": "da448e790cb148cca4fc0db2acf5299a",
       "version_major": 2,
       "version_minor": 0
      },
      "text/plain": [
       "Downloading builder script:   0%|          | 0.00/8.84k [00:00<?, ?B/s]"
      ]
     },
     "metadata": {},
     "output_type": "display_data"
    },
    {
     "name": "stdout",
     "output_type": "stream",
     "text": [
      "Downloading and preparing dataset voxpopuli/nl to /root/.cache/huggingface/datasets/facebook___voxpopuli/nl/1.3.0/b5ff837284f0778eefe0f642734e142d8c3f574eba8c9c8a4b13602297f73604...\n"
     ]
    },
    {
     "data": {
      "application/vnd.jupyter.widget-view+json": {
       "model_id": "97aaf6700ffd47d8ace265976bf0624a",
       "version_major": 2,
       "version_minor": 0
      },
      "text/plain": [
       "Downloading data:   0%|          | 0.00/1.29k [00:00<?, ?B/s]"
      ]
     },
     "metadata": {},
     "output_type": "display_data"
    },
    {
     "data": {
      "application/vnd.jupyter.widget-view+json": {
       "model_id": "d5769055e9a544eba39caebb485b43f9",
       "version_major": 2,
       "version_minor": 0
      },
      "text/plain": [
       "Downloading data files:   0%|          | 0/3 [00:00<?, ?it/s]"
      ]
     },
     "metadata": {},
     "output_type": "display_data"
    },
    {
     "data": {
      "application/vnd.jupyter.widget-view+json": {
       "model_id": "c506ea8a03cc4d34ba41a4e5f792f70e",
       "version_major": 2,
       "version_minor": 0
      },
      "text/plain": [
       "Downloading data:   0%|          | 0.00/7.09M [00:00<?, ?B/s]"
      ]
     },
     "metadata": {},
     "output_type": "display_data"
    },
    {
     "data": {
      "application/vnd.jupyter.widget-view+json": {
       "model_id": "194cb3e90bfc455692d8a6bb788c4048",
       "version_major": 2,
       "version_minor": 0
      },
      "text/plain": [
       "Downloading data:   0%|          | 0.00/422k [00:00<?, ?B/s]"
      ]
     },
     "metadata": {},
     "output_type": "display_data"
    },
    {
     "data": {
      "application/vnd.jupyter.widget-view+json": {
       "model_id": "2f3bef23158244beab64985906c5de8b",
       "version_major": 2,
       "version_minor": 0
      },
      "text/plain": [
       "Downloading data:   0%|          | 0.00/405k [00:00<?, ?B/s]"
      ]
     },
     "metadata": {},
     "output_type": "display_data"
    },
    {
     "data": {
      "application/vnd.jupyter.widget-view+json": {
       "model_id": "69b2a559d31241348b87b2d9a135ef15",
       "version_major": 2,
       "version_minor": 0
      },
      "text/plain": [
       "Extracting data files:   0%|          | 0/3 [00:00<?, ?it/s]"
      ]
     },
     "metadata": {},
     "output_type": "display_data"
    },
    {
     "data": {
      "application/vnd.jupyter.widget-view+json": {
       "model_id": "b198bbea465b4b049497178663ba3249",
       "version_major": 2,
       "version_minor": 0
      },
      "text/plain": [
       "Downloading data files:   0%|          | 0/3 [00:00<?, ?it/s]"
      ]
     },
     "metadata": {},
     "output_type": "display_data"
    },
    {
     "data": {
      "application/vnd.jupyter.widget-view+json": {
       "model_id": "6fb719593fc7455f9e40dd43a40746eb",
       "version_major": 2,
       "version_minor": 0
      },
      "text/plain": [
       "Downloading data:   0%|          | 0.00/1.31G [00:00<?, ?B/s]"
      ]
     },
     "metadata": {},
     "output_type": "display_data"
    },
    {
     "data": {
      "application/vnd.jupyter.widget-view+json": {
       "model_id": "448d01bd71994de6afc76ff845d0cf62",
       "version_major": 2,
       "version_minor": 0
      },
      "text/plain": [
       "Downloading data:   0%|          | 0.00/1.35G [00:00<?, ?B/s]"
      ]
     },
     "metadata": {},
     "output_type": "display_data"
    },
    {
     "data": {
      "application/vnd.jupyter.widget-view+json": {
       "model_id": "0e8fa48453b84eeeb8fcfbc2868c91c6",
       "version_major": 2,
       "version_minor": 0
      },
      "text/plain": [
       "Downloading data:   0%|          | 0.00/1.35G [00:00<?, ?B/s]"
      ]
     },
     "metadata": {},
     "output_type": "display_data"
    },
    {
     "data": {
      "application/vnd.jupyter.widget-view+json": {
       "model_id": "d0962b3bb64e44d89886864d98cbef14",
       "version_major": 2,
       "version_minor": 0
      },
      "text/plain": [
       "Downloading data:   0%|          | 0.00/1.34G [00:00<?, ?B/s]"
      ]
     },
     "metadata": {},
     "output_type": "display_data"
    },
    {
     "data": {
      "application/vnd.jupyter.widget-view+json": {
       "model_id": "7ca20c16b2aa4b4aae2b8a21a99bea54",
       "version_major": 2,
       "version_minor": 0
      },
      "text/plain": [
       "Downloading data:   0%|          | 0.00/255M [00:00<?, ?B/s]"
      ]
     },
     "metadata": {},
     "output_type": "display_data"
    },
    {
     "data": {
      "application/vnd.jupyter.widget-view+json": {
       "model_id": "0d9fed79181246b9aad2a8f3a7a5acc4",
       "version_major": 2,
       "version_minor": 0
      },
      "text/plain": [
       "Downloading data:   0%|          | 0.00/321M [00:00<?, ?B/s]"
      ]
     },
     "metadata": {},
     "output_type": "display_data"
    },
    {
     "data": {
      "application/vnd.jupyter.widget-view+json": {
       "model_id": "aa931d64542e4049856c87c14bac9130",
       "version_major": 2,
       "version_minor": 0
      },
      "text/plain": [
       "Downloading data:   0%|          | 0.00/319M [00:00<?, ?B/s]"
      ]
     },
     "metadata": {},
     "output_type": "display_data"
    },
    {
     "data": {
      "application/vnd.jupyter.widget-view+json": {
       "model_id": "5876c2827206442387130e994e56e5a5",
       "version_major": 2,
       "version_minor": 0
      },
      "text/plain": [
       "Extracting data files:   0%|          | 0/3 [00:00<?, ?it/s]"
      ]
     },
     "metadata": {},
     "output_type": "display_data"
    },
    {
     "data": {
      "application/vnd.jupyter.widget-view+json": {
       "model_id": "",
       "version_major": 2,
       "version_minor": 0
      },
      "text/plain": [
       "Generating train split: 0 examples [00:00, ? examples/s]"
      ]
     },
     "metadata": {},
     "output_type": "display_data"
    },
    {
     "data": {
      "application/vnd.jupyter.widget-view+json": {
       "model_id": "",
       "version_major": 2,
       "version_minor": 0
      },
      "text/plain": [
       "Generating validation split: 0 examples [00:00, ? examples/s]"
      ]
     },
     "metadata": {},
     "output_type": "display_data"
    },
    {
     "data": {
      "application/vnd.jupyter.widget-view+json": {
       "model_id": "",
       "version_major": 2,
       "version_minor": 0
      },
      "text/plain": [
       "Generating test split: 0 examples [00:00, ? examples/s]"
      ]
     },
     "metadata": {},
     "output_type": "display_data"
    },
    {
     "name": "stdout",
     "output_type": "stream",
     "text": [
      "Dataset voxpopuli downloaded and prepared to /root/.cache/huggingface/datasets/facebook___voxpopuli/nl/1.3.0/b5ff837284f0778eefe0f642734e142d8c3f574eba8c9c8a4b13602297f73604. Subsequent calls will reuse this data.\n"
     ]
    }
   ],
   "source": [
    "from datasets import load_dataset, Audio\n",
    "\n",
    "dataset = load_dataset(\"facebook/voxpopuli\", \"nl\", split=\"train\")"
   ]
  },
  {
   "cell_type": "code",
   "execution_count": 9,
   "id": "0be219c0-1954-440a-8605-95e532456bd3",
   "metadata": {},
   "outputs": [
    {
     "data": {
      "text/plain": [
       "20968"
      ]
     },
     "execution_count": 9,
     "metadata": {},
     "output_type": "execute_result"
    }
   ],
   "source": [
    "len(dataset)"
   ]
  },
  {
   "cell_type": "code",
   "execution_count": 10,
   "id": "46402a98-87e1-438b-8137-7f64cf7b1416",
   "metadata": {},
   "outputs": [],
   "source": [
    "dataset = dataset.cast_column(\"audio\", Audio(sampling_rate=16000))"
   ]
  },
  {
   "cell_type": "markdown",
   "id": "8dfd7f2d-70ea-4b19-a209-7310e8d997a9",
   "metadata": {},
   "source": [
    "### Preprocessing the data"
   ]
  },
  {
   "cell_type": "code",
   "execution_count": 11,
   "id": "124b32df-944e-4fec-8526-0e8c101d33c2",
   "metadata": {},
   "outputs": [
    {
     "data": {
      "application/vnd.jupyter.widget-view+json": {
       "model_id": "c12452d5f5ab4d7da2b703adfc0f752f",
       "version_major": 2,
       "version_minor": 0
      },
      "text/plain": [
       "Downloading (…)rocessor_config.json:   0%|          | 0.00/433 [00:00<?, ?B/s]"
      ]
     },
     "metadata": {},
     "output_type": "display_data"
    },
    {
     "data": {
      "application/vnd.jupyter.widget-view+json": {
       "model_id": "dc5425c408d34fc897c6a4ab3e33aab3",
       "version_major": 2,
       "version_minor": 0
      },
      "text/plain": [
       "Downloading spm_char.model:   0%|          | 0.00/238k [00:00<?, ?B/s]"
      ]
     },
     "metadata": {},
     "output_type": "display_data"
    },
    {
     "data": {
      "application/vnd.jupyter.widget-view+json": {
       "model_id": "3620abc0cb0d4fbe8da5bc56809e54a1",
       "version_major": 2,
       "version_minor": 0
      },
      "text/plain": [
       "Downloading (…)in/added_tokens.json:   0%|          | 0.00/40.0 [00:00<?, ?B/s]"
      ]
     },
     "metadata": {},
     "output_type": "display_data"
    },
    {
     "data": {
      "application/vnd.jupyter.widget-view+json": {
       "model_id": "e8cc85f334ad49fa91df4a5da2d93390",
       "version_major": 2,
       "version_minor": 0
      },
      "text/plain": [
       "Downloading (…)cial_tokens_map.json:   0%|          | 0.00/234 [00:00<?, ?B/s]"
      ]
     },
     "metadata": {},
     "output_type": "display_data"
    },
    {
     "data": {
      "application/vnd.jupyter.widget-view+json": {
       "model_id": "fa301b026bd8497399726ccd6f606c0c",
       "version_major": 2,
       "version_minor": 0
      },
      "text/plain": [
       "Downloading (…)okenizer_config.json:   0%|          | 0.00/232 [00:00<?, ?B/s]"
      ]
     },
     "metadata": {},
     "output_type": "display_data"
    }
   ],
   "source": [
    "from transformers import SpeechT5Processor\n",
    "checkpoint = \"microsoft/speecht5_tts\"\n",
    "processor = SpeechT5Processor.from_pretrained(checkpoint)"
   ]
  },
  {
   "cell_type": "markdown",
   "id": "75d15875-bea1-4098-8a6e-a5abc526b12a",
   "metadata": {},
   "source": [
    "#### Text cleanup for SpeechT5 tokenization"
   ]
  },
  {
   "cell_type": "code",
   "execution_count": 12,
   "id": "44c0b576-9272-4bd5-8bdf-32e9d4c1a91d",
   "metadata": {},
   "outputs": [],
   "source": [
    "tokenizer = processor.tokenizer"
   ]
  },
  {
   "cell_type": "code",
   "execution_count": 13,
   "id": "3978b54e-191a-49f0-bde5-31e0ae50f416",
   "metadata": {},
   "outputs": [
    {
     "data": {
      "text/plain": [
       "{'audio_id': '20100210-0900-PLENARY-3-nl_20100210-09:06:43_4',\n",
       " 'language': 9,\n",
       " 'audio': {'path': '/root/.cache/huggingface/datasets/downloads/extracted/02ec6a19d5b97c03e1379250378454dbf3fa2972943504a91c7da5045aa26a89/train_part_0/20100210-0900-PLENARY-3-nl_20100210-09:06:43_4.wav',\n",
       "  'array': array([ 4.2724609e-04,  1.3122559e-03,  1.0375977e-03, ...,\n",
       "         -9.1552734e-05,  7.6293945e-04, -2.4414062e-04], dtype=float32),\n",
       "  'sampling_rate': 16000},\n",
       " 'raw_text': 'Dat kan naar mijn gevoel alleen met een brede meerderheid die wij samen zoeken.',\n",
       " 'normalized_text': 'dat kan naar mijn gevoel alleen met een brede meerderheid die wij samen zoeken.',\n",
       " 'gender': 'female',\n",
       " 'speaker_id': '1122',\n",
       " 'is_gold_transcript': True,\n",
       " 'accent': 'None'}"
      ]
     },
     "execution_count": 13,
     "metadata": {},
     "output_type": "execute_result"
    }
   ],
   "source": [
    "dataset[0]"
   ]
  },
  {
   "cell_type": "code",
   "execution_count": 14,
   "id": "44ded927-9dfe-4e82-a376-4e5317fa4282",
   "metadata": {},
   "outputs": [],
   "source": [
    "def extract_all_chars(batch):\n",
    "    all_text = \" \".join(batch[\"normalized_text\"])\n",
    "    vocab = list(set(all_text))\n",
    "    return {\"vocab\":[vocab], \"all_text\": [all_text]}"
   ]
  },
  {
   "cell_type": "code",
   "execution_count": 15,
   "id": "ef587ea6-da78-49fb-bfbe-0b591dc1d841",
   "metadata": {},
   "outputs": [
    {
     "data": {
      "application/vnd.jupyter.widget-view+json": {
       "model_id": "b1fa1e086f7e4a0da62d00396f043ec2",
       "version_major": 2,
       "version_minor": 0
      },
      "text/plain": [
       "  0%|          | 0/1 [00:00<?, ?ba/s]"
      ]
     },
     "metadata": {},
     "output_type": "display_data"
    }
   ],
   "source": [
    "vocabs = dataset.map(extract_all_chars, batched=True, batch_size=-1, keep_in_memory=True, remove_columns=dataset.column_names)"
   ]
  },
  {
   "cell_type": "code",
   "execution_count": 16,
   "id": "7c1b3ffc-acf2-4a7f-b5a8-8de3fbeb2f2e",
   "metadata": {},
   "outputs": [],
   "source": [
    "dataset_vocab = set(vocabs[\"vocab\"][0])\n",
    "tokenizer_vocab = {k for k, _ in tokenizer.get_vocab().items()}"
   ]
  },
  {
   "cell_type": "code",
   "execution_count": 17,
   "id": "418024be-113f-40a8-a373-3c19f7be34c9",
   "metadata": {},
   "outputs": [
    {
     "data": {
      "text/plain": [
       "{' ', 'à', 'ç', 'è', 'ë', 'í', 'ï', 'ö', 'ü'}"
      ]
     },
     "execution_count": 17,
     "metadata": {},
     "output_type": "execute_result"
    }
   ],
   "source": [
    "# identify all special characters that tokenizer does not contain\n",
    "dataset_vocab - tokenizer_vocab"
   ]
  },
  {
   "cell_type": "code",
   "execution_count": 18,
   "id": "080e7e48-2e24-42c8-b7b7-91d1be1b5452",
   "metadata": {},
   "outputs": [],
   "source": [
    "replacements= [\n",
    "    ('à', 'a'),\n",
    "    ('ç', 'c'),\n",
    "    ('è', 'e'),\n",
    "    ('ë', 'e'),\n",
    "    ('í', 'i'),\n",
    "    ('ï', 'i'),\n",
    "    ('ö', 'o'),\n",
    "    ('ü', 'u'),\n",
    "]"
   ]
  },
  {
   "cell_type": "code",
   "execution_count": 19,
   "id": "63969e1e-246b-41e2-9ee8-6efb1a550ba9",
   "metadata": {},
   "outputs": [
    {
     "data": {
      "application/vnd.jupyter.widget-view+json": {
       "model_id": "72bc9e2a27854ade950f92b803e6798d",
       "version_major": 2,
       "version_minor": 0
      },
      "text/plain": [
       "  0%|          | 0/20968 [00:00<?, ?ex/s]"
      ]
     },
     "metadata": {},
     "output_type": "display_data"
    }
   ],
   "source": [
    "# replace special characters\n",
    "def cleanup_text(inputs):\n",
    "    for src, dst in replacements:\n",
    "        inputs[\"normalized_text\"] = inputs[\"normalized_text\"].replace(src, dst)\n",
    "    return inputs\n",
    "\n",
    "dataset = dataset.map(cleanup_text)\n",
    "    "
   ]
  },
  {
   "cell_type": "markdown",
   "id": "47f5fed1-732a-48fb-81f9-32ea758bfa10",
   "metadata": {},
   "source": [
    "#### Speakers"
   ]
  },
  {
   "cell_type": "code",
   "execution_count": 20,
   "id": "88a465ad-e040-4102-8b25-3e68b768cd57",
   "metadata": {},
   "outputs": [],
   "source": [
    "from collections import defaultdict\n",
    "speaker_counts = defaultdict(int)\n",
    "for speaker_id in dataset[\"speaker_id\"]:\n",
    "    speaker_counts[speaker_id] += 1\n",
    "    "
   ]
  },
  {
   "cell_type": "code",
   "execution_count": 21,
   "id": "95f3e85a-b277-421a-b908-dbafcd491757",
   "metadata": {},
   "outputs": [
    {
     "data": {
      "image/png": "[encoded data removed]",
      "text/plain": [
       "<Figure size 640x480 with 1 Axes>"
      ]
     },
     "metadata": {},
     "output_type": "display_data"
    }
   ],
   "source": [
    "import matplotlib.pyplot as plt\n",
    "\n",
    "plt.figure()\n",
    "plt.hist(speaker_counts.values(), bins=20)\n",
    "plt.ylabel(\"Speakers\")\n",
    "plt.xlabel(\"Examples\")\n",
    "plt.show()"
   ]
  },
  {
   "cell_type": "code",
   "execution_count": 22,
   "id": "5ac8759e-3fc7-4d28-a354-632f0b4661be",
   "metadata": {},
   "outputs": [
    {
     "data": {
      "application/vnd.jupyter.widget-view+json": {
       "model_id": "e3f77e08f40948599f994576665b072b",
       "version_major": 2,
       "version_minor": 0
      },
      "text/plain": [
       "  0%|          | 0/21 [00:00<?, ?ba/s]"
      ]
     },
     "metadata": {},
     "output_type": "display_data"
    }
   ],
   "source": [
    "# balance dataset by limiting speakers to middle\n",
    "def select_speaker(speaker_id):\n",
    "    return 100 <= speaker_counts[speaker_id] <= 400\n",
    "dataset = dataset.filter(select_speaker, input_columns=[\"speaker_id\"])"
   ]
  },
  {
   "cell_type": "code",
   "execution_count": 23,
   "id": "e68a9d1e-190b-4f2d-a5d8-4969e161cf5c",
   "metadata": {},
   "outputs": [
    {
     "data": {
      "text/plain": [
       "42"
      ]
     },
     "execution_count": 23,
     "metadata": {},
     "output_type": "execute_result"
    }
   ],
   "source": [
    "len(set(dataset[\"speaker_id\"]))"
   ]
  },
  {
   "cell_type": "code",
   "execution_count": 24,
   "id": "94ebf2a0-35f5-41d9-aaf0-f4e9b47f1c03",
   "metadata": {},
   "outputs": [
    {
     "data": {
      "text/plain": [
       "9973"
      ]
     },
     "execution_count": 24,
     "metadata": {},
     "output_type": "execute_result"
    }
   ],
   "source": [
    "len(dataset)"
   ]
  },
  {
   "cell_type": "markdown",
   "id": "f180e5ac-d51b-401a-ae39-3bad8c5e8fca",
   "metadata": {},
   "source": [
    "#### Speaker embeddings"
   ]
  },
  {
   "cell_type": "code",
   "execution_count": 25,
   "id": "79a60954-2dea-4e07-835a-1439cb32c68f",
   "metadata": {},
   "outputs": [
    {
     "data": {
      "application/vnd.jupyter.widget-view+json": {
       "model_id": "b0aae992a10d4a30927de2762c1f9755",
       "version_major": 2,
       "version_minor": 0
      },
      "text/plain": [
       "Downloading (…)ain/hyperparams.yaml:   0%|          | 0.00/2.04k [00:00<?, ?B/s]"
      ]
     },
     "metadata": {},
     "output_type": "display_data"
    },
    {
     "data": {
      "application/vnd.jupyter.widget-view+json": {
       "model_id": "c72b35ceaa5f4f9caeb759c3bce2cfdc",
       "version_major": 2,
       "version_minor": 0
      },
      "text/plain": [
       "Downloading embedding_model.ckpt:   0%|          | 0.00/16.9M [00:00<?, ?B/s]"
      ]
     },
     "metadata": {},
     "output_type": "display_data"
    },
    {
     "data": {
      "application/vnd.jupyter.widget-view+json": {
       "model_id": "ecf7f4e661de40c0b21ebd8cc162a69c",
       "version_major": 2,
       "version_minor": 0
      },
      "text/plain": [
       "Downloading mean_var_norm_emb.ckpt:   0%|          | 0.00/3.20k [00:00<?, ?B/s]"
      ]
     },
     "metadata": {},
     "output_type": "display_data"
    },
    {
     "data": {
      "application/vnd.jupyter.widget-view+json": {
       "model_id": "e2a2d9926fb5495590aa26b59a3d3967",
       "version_major": 2,
       "version_minor": 0
      },
      "text/plain": [
       "Downloading classifier.ckpt:   0%|          | 0.00/15.9M [00:00<?, ?B/s]"
      ]
     },
     "metadata": {},
     "output_type": "display_data"
    },
    {
     "data": {
      "application/vnd.jupyter.widget-view+json": {
       "model_id": "f179459432344a149b7c102a4cecbf17",
       "version_major": 2,
       "version_minor": 0
      },
      "text/plain": [
       "Downloading (…)in/label_encoder.txt:   0%|          | 0.00/129k [00:00<?, ?B/s]"
      ]
     },
     "metadata": {},
     "output_type": "display_data"
    }
   ],
   "source": [
    "# needed to differentiate between multiple speakers\n",
    "import os\n",
    "import torch\n",
    "from speechbrain.pretrained import EncoderClassifier\n",
    "\n",
    "spk_model_name = \"speechbrain/spkrec-xvect-voxceleb\"\n",
    "device = \"cuda\"\n",
    "speaker_model = EncoderClassifier.from_hparams(source=spk_model_name, run_opts={\"device\":device}, savedir=os.path.join(\"/tmp\", spk_model_name))"
   ]
  },
  {
   "cell_type": "code",
   "execution_count": 26,
   "id": "318d4930-1a7e-4356-b998-e653de7e551d",
   "metadata": {},
   "outputs": [],
   "source": [
    "def create_speaker_embedding(waveform):\n",
    "    with torch.no_grad():\n",
    "        speaker_embeddings = speaker_model.encode_batch(torch.tensor(waveform))\n",
    "        speaker_embeddings = torch.nn.functional.normalize(speaker_embeddings, dim=2)\n",
    "        speaker_embeddings = speaker_embeddings.squeeze().cpu().numpy()\n",
    "    return speaker_embeddings"
   ]
  },
  {
   "cell_type": "markdown",
   "id": "0c763a55-766e-46c9-b8ee-10fbf339d904",
   "metadata": {},
   "source": [
    "#### Processing the dataset"
   ]
  },
  {
   "cell_type": "code",
   "execution_count": 27,
   "id": "2ef8bb91-943c-420a-b654-a2841c077233",
   "metadata": {},
   "outputs": [],
   "source": [
    "def prepare_dataset(example):\n",
    "    audio = example[\"audio\"]\n",
    "    example = processor(text=example[\"normalized_text\"], audio_target=audio[\"array\"], sampling_rate=audio[\"sampling_rate\"], return_attention_mask=False)\n",
    "    # strip off batch dimension\n",
    "    example[\"labels\"] = example[\"labels\"][0]\n",
    "    \n",
    "    #use SpeechBrain to get x-vector\n",
    "    example[\"speaker_embeddings\"] = create_speaker_embedding(audio[\"array\"])\n",
    "    return example"
   ]
  },
  {
   "cell_type": "code",
   "execution_count": 28,
   "id": "0782d37c-5288-471a-ae55-b931e2110f3f",
   "metadata": {},
   "outputs": [
    {
     "data": {
      "text/plain": [
       "['input_ids', 'labels', 'speaker_embeddings']"
      ]
     },
     "execution_count": 28,
     "metadata": {},
     "output_type": "execute_result"
    }
   ],
   "source": [
    "# test with one example\n",
    "processed_example = prepare_dataset(dataset[0])\n",
    "list(processed_example.keys())"
   ]
  },
  {
   "cell_type": "code",
   "execution_count": 29,
   "id": "1f9075c3-a062-4a17-ad72-4b7cb5c3062a",
   "metadata": {},
   "outputs": [
    {
     "data": {
      "text/plain": [
       "(512,)"
      ]
     },
     "execution_count": 29,
     "metadata": {},
     "output_type": "execute_result"
    }
   ],
   "source": [
    "# check embeddings shape\n",
    "processed_example[\"speaker_embeddings\"].shape"
   ]
  },
  {
   "cell_type": "code",
   "execution_count": 30,
   "id": "68608f0d-a4c3-4205-ab8f-5daeec43c661",
   "metadata": {},
   "outputs": [
    {
     "data": {
      "image/png": "[encoded data removed]",
      "text/plain": [
       "<Figure size 640x480 with 1 Axes>"
      ]
     },
     "metadata": {},
     "output_type": "display_data"
    }
   ],
   "source": [
    "# check labels is log-mel spectrogram with 80 bins\n",
    "import matplotlib.pyplot as plt\n",
    "plt.figure()\n",
    "plt.imshow(processed_example[\"labels\"].T)\n",
    "plt.show()"
   ]
  },
  {
   "cell_type": "code",
   "execution_count": 31,
   "id": "2f3a5276-c866-4f93-8d13-36a985112703",
   "metadata": {},
   "outputs": [
    {
     "data": {
      "application/vnd.jupyter.widget-view+json": {
       "model_id": "ed543e3171774b4f9bc56bb31ae8498c",
       "version_major": 2,
       "version_minor": 0
      },
      "text/plain": [
       "  0%|          | 0/9973 [00:00<?, ?ex/s]"
      ]
     },
     "metadata": {},
     "output_type": "display_data"
    },
    {
     "name": "stderr",
     "output_type": "stream",
     "text": [
      "Token indices sequence length is longer than the specified maximum sequence length for this model (614 > 600). Running this sequence through the model will result in indexing errors\n"
     ]
    },
    {
     "data": {
      "text/plain": [
       "Dataset({\n",
       "    features: ['input_ids', 'labels', 'speaker_embeddings'],\n",
       "    num_rows: 9973\n",
       "})"
      ]
     },
     "execution_count": 31,
     "metadata": {},
     "output_type": "execute_result"
    }
   ],
   "source": [
    "dataset = dataset.map(prepare_dataset, remove_columns=dataset.column_names)\n",
    "dataset"
   ]
  },
  {
   "cell_type": "code",
   "execution_count": 32,
   "id": "41fccb65-a660-47f8-af4b-3db60f7d3732",
   "metadata": {},
   "outputs": [
    {
     "data": {
      "application/vnd.jupyter.widget-view+json": {
       "model_id": "97efde6461474d5db06b7f86c2e83ef8",
       "version_major": 2,
       "version_minor": 0
      },
      "text/plain": [
       "  0%|          | 0/10 [00:00<?, ?ba/s]"
      ]
     },
     "metadata": {},
     "output_type": "display_data"
    },
    {
     "data": {
      "text/plain": [
       "8259"
      ]
     },
     "execution_count": 32,
     "metadata": {},
     "output_type": "execute_result"
    }
   ],
   "source": [
    "def is_not_too_long(input_ids):\n",
    "    input_length = len(input_ids)\n",
    "    return input_length < 200\n",
    "dataset = dataset.filter(is_not_too_long, input_columns=[\"input_ids\"])\n",
    "len(dataset)"
   ]
  },
  {
   "cell_type": "code",
   "execution_count": 33,
   "id": "7f4fe037-b235-497b-9d6d-66f31d5429e3",
   "metadata": {},
   "outputs": [],
   "source": [
    "dataset = dataset.train_test_split(test_size=0.1)"
   ]
  },
  {
   "cell_type": "markdown",
   "id": "46a88b34-fba7-45f3-ac14-052efa8aa835",
   "metadata": {},
   "source": [
    "#### Data collator"
   ]
  },
  {
   "cell_type": "code",
   "execution_count": 34,
   "id": "c31b4727-ca12-491c-9367-19f656fb7be5",
   "metadata": {},
   "outputs": [],
   "source": [
    "# to combine multiple examples into a batch, you need to define a custom data collator. \n",
    "from dataclasses import dataclass\n",
    "from typing import Any, Dict, List, Union\n",
    "\n",
    "\n",
    "@dataclass\n",
    "class TTSDataCollatorWithPadding:\n",
    "    processor: Any\n",
    "\n",
    "    def __call__(\n",
    "        self, features: List[Dict[str, Union[List[int], torch.Tensor]]]\n",
    "    ) -> Dict[str, torch.Tensor]:\n",
    "        input_ids = [{\"input_ids\": feature[\"input_ids\"]} for feature in features]\n",
    "        label_features = [{\"input_values\": feature[\"labels\"]} for feature in features]\n",
    "        speaker_features = [feature[\"speaker_embeddings\"] for feature in features]\n",
    "\n",
    "        # collate the inputs and targets into a batch\n",
    "        batch = processor.pad(\n",
    "            input_ids=input_ids, labels=label_features, return_tensors=\"pt\"\n",
    "        )\n",
    "\n",
    "        # replace padding with -100 to ignore loss correctly\n",
    "        batch[\"labels\"] = batch[\"labels\"].masked_fill(\n",
    "            batch.decoder_attention_mask.unsqueeze(-1).ne(1), -100\n",
    "        )\n",
    "\n",
    "        # not used during fine-tuning\n",
    "        del batch[\"decoder_attention_mask\"]\n",
    "\n",
    "        # round down target lengths to multiple of reduction factor\n",
    "        if model.config.reduction_factor > 1:\n",
    "            target_lengths = torch.tensor(\n",
    "                [len(feature[\"input_values\"]) for feature in label_features]\n",
    "            )\n",
    "            target_lengths = target_lengths.new(\n",
    "                [\n",
    "                    length - length % model.config.reduction_factor\n",
    "                    for length in target_lengths\n",
    "                ]\n",
    "            )\n",
    "            max_length = max(target_lengths)\n",
    "            batch[\"labels\"] = batch[\"labels\"][:, :max_length]\n",
    "\n",
    "        # also add in the speaker embeddings\n",
    "        batch[\"speaker_embeddings\"] = torch.tensor(speaker_features)\n",
    "\n",
    "        return batch"
   ]
  },
  {
   "cell_type": "code",
   "execution_count": 35,
   "id": "7a029e4f-ecde-472c-9923-b32cbbb1c44c",
   "metadata": {},
   "outputs": [],
   "source": [
    "data_collator = TTSDataCollatorWithPadding(processor=processor)"
   ]
  },
  {
   "cell_type": "markdown",
   "id": "dd3625cb-8466-42d2-ad0c-726f11212451",
   "metadata": {},
   "source": [
    "### Train the model"
   ]
  },
  {
   "cell_type": "code",
   "execution_count": 36,
   "id": "27c327da-8030-4650-bf5d-570c4a48a219",
   "metadata": {},
   "outputs": [
    {
     "data": {
      "application/vnd.jupyter.widget-view+json": {
       "model_id": "6271513df0a946eda42baba1a46f5f74",
       "version_major": 2,
       "version_minor": 0
      },
      "text/plain": [
       "Downloading (…)lve/main/config.json:   0%|          | 0.00/2.06k [00:00<?, ?B/s]"
      ]
     },
     "metadata": {},
     "output_type": "display_data"
    },
    {
     "data": {
      "application/vnd.jupyter.widget-view+json": {
       "model_id": "797b22497e714e4190c11ded82b35141",
       "version_major": 2,
       "version_minor": 0
      },
      "text/plain": [
       "Downloading pytorch_model.bin:   0%|          | 0.00/585M [00:00<?, ?B/s]"
      ]
     },
     "metadata": {},
     "output_type": "display_data"
    }
   ],
   "source": [
    "from transformers import SpeechT5ForTextToSpeech\n",
    "model = SpeechT5ForTextToSpeech.from_pretrained(checkpoint)"
   ]
  },
  {
   "cell_type": "code",
   "execution_count": 37,
   "id": "b94c4179-0c48-4d57-8f5b-36c4f95e1c8b",
   "metadata": {},
   "outputs": [],
   "source": [
    "from functools import partial\n",
    "\n",
    "# disable cache during training since it's incompatible with gradient checkpointing\n",
    "model.config.use_cache = False\n",
    "\n",
    "# set language and task for generation and re-enable cache\n",
    "model.generate = partial(model.generate, use_cache=True)"
   ]
  },
  {
   "cell_type": "code",
   "execution_count": 38,
   "id": "6ab04a73-a97b-4480-8607-dbf45af3eb55",
   "metadata": {},
   "outputs": [
    {
     "name": "stderr",
     "output_type": "stream",
     "text": [
      "\u001b[34m\u001b[1mwandb\u001b[0m: Logging into wandb.ai. (Learn how to deploy a W&B server locally: https://wandb.me/wandb-server)\n",
      "\u001b[34m\u001b[1mwandb\u001b[0m: You can find your API key in your browser here: https://wandb.ai/authorize\n",
      "\u001b[34m\u001b[1mwandb\u001b[0m: Paste an API key from your profile and hit enter, or press ctrl+c to quit:"
     ]
    },
    {
     "name": "stdin",
     "output_type": "stream",
     "text": [
      "  ········\n"
     ]
    },
    {
     "name": "stderr",
     "output_type": "stream",
     "text": [
      "\u001b[34m\u001b[1mwandb\u001b[0m: Appending key for api.wandb.ai to your netrc file: /root/.netrc\n"
     ]
    },
    {
     "data": {
      "text/plain": [
       "True"
      ]
     },
     "execution_count": 38,
     "metadata": {},
     "output_type": "execute_result"
    }
   ],
   "source": [
    "import wandb\n",
    "wandb.login()"
   ]
  },
  {
   "cell_type": "code",
   "execution_count": 39,
   "id": "d4ff2a10-d4cf-426f-bcbb-99909b6446d6",
   "metadata": {},
   "outputs": [
    {
     "name": "stderr",
     "output_type": "stream",
     "text": [
      "\u001b[34m\u001b[1mwandb\u001b[0m: Currently logged in as: \u001b[33mptah23\u001b[0m. Use \u001b[1m`wandb login --relogin`\u001b[0m to force relogin\n"
     ]
    },
    {
     "data": {
      "text/html": [
       "wandb version 0.15.5 is available!  To upgrade, please run:\n",
       " $ pip install wandb --upgrade"
      ],
      "text/plain": [
       "<IPython.core.display.HTML object>"
      ]
     },
     "metadata": {},
     "output_type": "display_data"
    },
    {
     "data": {
      "text/html": [
       "Tracking run with wandb version 0.13.4"
      ],
      "text/plain": [
       "<IPython.core.display.HTML object>"
      ]
     },
     "metadata": {},
     "output_type": "display_data"
    },
    {
     "data": {
      "text/html": [
       "Run data is saved locally in <code>/notebooks/wandb/run-20230709_222251-2n7c01lo</code>"
      ],
      "text/plain": [
       "<IPython.core.display.HTML object>"
      ]
     },
     "metadata": {},
     "output_type": "display_data"
    },
    {
     "data": {
      "text/html": [
       "Resuming run <strong><a href=\"https://wandb.ai/ptah23/huggingface-audio-course-unit6/runs/2n7c01lo\" target=\"_blank\">lyric-silence-1</a></strong> to <a href=\"https://wandb.ai/ptah23/huggingface-audio-course-unit6\" target=\"_blank\">Weights & Biases</a> (<a href=\"https://wandb.me/run\" target=\"_blank\">docs</a>)<br/>"
      ],
      "text/plain": [
       "<IPython.core.display.HTML object>"
      ]
     },
     "metadata": {},
     "output_type": "display_data"
    },
    {
     "data": {
      "text/html": [
       "<button onClick=\"this.nextSibling.style.display='block';this.style.display='none';\">Display W&B run</button><iframe src=\"https://wandb.ai/ptah23/huggingface-audio-course-unit6/runs/2n7c01lo?jupyter=true\" style=\"border:none;width:100%;height:420px;display:none;\"></iframe>"
      ],
      "text/plain": [
       "<wandb.sdk.wandb_run.Run at 0x7fc936808eb0>"
      ]
     },
     "execution_count": 39,
     "metadata": {},
     "output_type": "execute_result"
    }
   ],
   "source": [
    "wandb.init(project=\"huggingface-audio-course-unit6\", resume=True)"
   ]
  },
  {
   "cell_type": "code",
   "execution_count": 40,
   "id": "f330a121-6d85-49c0-bb37-f9035bdbbac8",
   "metadata": {},
   "outputs": [],
   "source": [
    "from transformers import Seq2SeqTrainingArguments\n",
    "\n",
    "training_args = Seq2SeqTrainingArguments(\n",
    "    output_dir=\"speecht5_finetuned_voxpopuli_nl\",  # change to a repo name of your choice\n",
    "    per_device_train_batch_size=16,\n",
    "    gradient_accumulation_steps=2,\n",
    "    learning_rate=1e-5,\n",
    "    warmup_steps=500,\n",
    "    max_steps=4000,\n",
    "    gradient_checkpointing=True,\n",
    "    fp16=True,\n",
    "    evaluation_strategy=\"steps\",\n",
    "    per_device_eval_batch_size=4,\n",
    "    save_steps=100,\n",
    "    eval_steps=100,\n",
    "    logging_steps=25,\n",
    "    report_to=[\"tensorboard\"],\n",
    "    load_best_model_at_end=True,\n",
    "    greater_is_better=False,\n",
    "    label_names=[\"labels\"],\n",
    "    push_to_hub=True,\n",
    ")"
   ]
  },
  {
   "cell_type": "code",
   "execution_count": 41,
   "id": "2bd04ff5-f13b-4d52-b22f-59cff74bb1a5",
   "metadata": {},
   "outputs": [
    {
     "name": "stderr",
     "output_type": "stream",
     "text": [
      "/notebooks/speecht5_finetuned_voxpopuli_nl is already a clone of https://huggingface.co/ptah23/speecht5_finetuned_voxpopuli_nl. Make sure you pull the latest changes with `repo.git_pull()`.\n"
     ]
    }
   ],
   "source": [
    "from transformers import Seq2SeqTrainer\n",
    "\n",
    "trainer = Seq2SeqTrainer(\n",
    "    args=training_args,\n",
    "    model=model,\n",
    "    train_dataset=dataset[\"train\"],\n",
    "    eval_dataset=dataset[\"test\"],\n",
    "    data_collator=data_collator,\n",
    "    tokenizer=processor,\n",
    ")"
   ]
  },
  {
   "cell_type": "code",
   "execution_count": 42,
   "id": "acb4ca7e-a87e-4ba4-83c5-12ce48f81429",
   "metadata": {},
   "outputs": [
    {
     "name": "stderr",
     "output_type": "stream",
     "text": [
      "/usr/local/lib/python3.9/dist-packages/transformers/optimization.py:411: FutureWarning: This implementation of AdamW is deprecated and will be removed in a future version. Use the PyTorch implementation torch.optim.AdamW instead, or set `no_deprecation_warning=True` to disable this warning\n",
      "  warnings.warn(\n"
     ]
    },
    {
     "data": {
      "text/html": [
       "\n",
       "    <div>\n",
       "      \n",
       "      <progress value='4001' max='4000' style='width:300px; height:20px; vertical-align: middle;'></progress>\n",
       "      [4000/4000 00:03, Epoch 17/18]\n",
       "    </div>\n",
       "    <table border=\"1\" class=\"dataframe\">\n",
       "  <thead>\n",
       " <tr style=\"text-align: left;\">\n",
       "      <th>Step</th>\n",
       "      <th>Training Loss</th>\n",
       "      <th>Validation Loss</th>\n",
       "    </tr>\n",
       "  </thead>\n",
       "  <tbody>\n",
       "  </tbody>\n",
       "</table><p>"
      ],
      "text/plain": [
       "<IPython.core.display.HTML object>"
      ]
     },
     "metadata": {},
     "output_type": "display_data"
    },
    {
     "data": {
      "text/plain": [
       "TrainOutput(global_step=4001, training_loss=0.00011778887853834576, metrics={'train_runtime': 11.6583, 'train_samples_per_second': 10979.339, 'train_steps_per_second': 343.104, 'total_flos': 2.019948714838771e+16, 'train_loss': 0.00011778887853834576, 'epoch': 17.25})"
      ]
     },
     "execution_count": 42,
     "metadata": {},
     "output_type": "execute_result"
    }
   ],
   "source": [
    "trainer.train(resume_from_checkpoint=True)"
   ]
  },
  {
   "cell_type": "code",
   "execution_count": 43,
   "id": "1f102b72-19f1-453f-8ea9-21034b557704",
   "metadata": {},
   "outputs": [
    {
     "data": {
      "application/vnd.jupyter.widget-view+json": {
       "model_id": "a08ed4af8e894aebbf381683751342d5",
       "version_major": 2,
       "version_minor": 0
      },
      "text/plain": [
       "Upload file runs/Jul09_16-53-27_nbkyaciiut/events.out.tfevents.1688921613.nbkyaciiut.58.3:   0%|          | 1.…"
      ]
     },
     "metadata": {},
     "output_type": "display_data"
    },
    {
     "data": {
      "application/vnd.jupyter.widget-view+json": {
       "model_id": "1b4646d57dd348fe877f4ef0766a28dc",
       "version_major": 2,
       "version_minor": 0
      },
      "text/plain": [
       "Upload file runs/Jul09_22-22-52_np7v2gqlyj/events.out.tfevents.1688941385.np7v2gqlyj.58.0:   0%|          | 1.…"
      ]
     },
     "metadata": {},
     "output_type": "display_data"
    },
    {
     "data": {
      "application/vnd.jupyter.widget-view+json": {
       "model_id": "5ea705a1eec145db9a01552ae11bc3ed",
       "version_major": 2,
       "version_minor": 0
      },
      "text/plain": [
       "Upload file training_args.bin:   0%|          | 1.00/4.05k [00:00<?, ?B/s]"
      ]
     },
     "metadata": {},
     "output_type": "display_data"
    },
    {
     "name": "stderr",
     "output_type": "stream",
     "text": [
      "To https://huggingface.co/ptah23/speecht5_finetuned_voxpopuli_nl\n",
      "   1beaf5e..47b6187  main -> main\n",
      "\n",
      "To https://huggingface.co/ptah23/speecht5_finetuned_voxpopuli_nl\n",
      "   47b6187..82812ca  main -> main\n",
      "\n"
     ]
    },
    {
     "data": {
      "text/plain": [
       "'https://huggingface.co/ptah23/speecht5_finetuned_voxpopuli_nl/commit/47b61877866f48fcfaf9ef75da7686b3b491d563'"
      ]
     },
     "execution_count": 43,
     "metadata": {},
     "output_type": "execute_result"
    }
   ],
   "source": [
    "trainer.push_to_hub()"
   ]
  },
  {
   "cell_type": "markdown",
   "id": "ce2db2a9-14d6-4e81-a9be-c5902ddf217b",
   "metadata": {},
   "source": [
    "### Inference"
   ]
  },
  {
   "cell_type": "code",
   "execution_count": 44,
   "id": "c7e5008c-7182-48d6-822f-d4442f6233b7",
   "metadata": {},
   "outputs": [
    {
     "data": {
      "application/vnd.jupyter.widget-view+json": {
       "model_id": "9e5a4eff98464e739d45289ac36a0af4",
       "version_major": 2,
       "version_minor": 0
      },
      "text/plain": [
       "Downloading (…)lve/main/config.json:   0%|          | 0.00/2.11k [00:00<?, ?B/s]"
      ]
     },
     "metadata": {},
     "output_type": "display_data"
    },
    {
     "data": {
      "application/vnd.jupyter.widget-view+json": {
       "model_id": "1dd1f303e892457085f7e711e48e227d",
       "version_major": 2,
       "version_minor": 0
      },
      "text/plain": [
       "Downloading pytorch_model.bin:   0%|          | 0.00/578M [00:00<?, ?B/s]"
      ]
     },
     "metadata": {},
     "output_type": "display_data"
    }
   ],
   "source": [
    "model = SpeechT5ForTextToSpeech.from_pretrained(\"ptah23/speecht5_finetuned_voxpopuli_nl\")"
   ]
  },
  {
   "cell_type": "code",
   "execution_count": 59,
   "id": "19a86618-df76-4e08-b2ba-4ff54b20443b",
   "metadata": {},
   "outputs": [],
   "source": [
    "example = dataset[\"test\"][206]\n",
    "speaker_embeddings = torch.tensor(example[\"speaker_embeddings\"]).unsqueeze(0)"
   ]
  },
  {
   "cell_type": "code",
   "execution_count": 60,
   "id": "29dd246e-3654-420f-a309-d73852245605",
   "metadata": {},
   "outputs": [],
   "source": [
    "text = \"hallo allemaal, ik praat nederlands, groetjes aan iedereen!\"\n",
    "inputs = processor(text=text, return_tensors=\"pt\")"
   ]
  },
  {
   "cell_type": "code",
   "execution_count": 61,
   "id": "61af5bc3-cd55-4524-a232-8fab92dd7ccb",
   "metadata": {},
   "outputs": [],
   "source": [
    "# instantiate vocoder and generate\n",
    "from transformers import SpeechT5HifiGan\n",
    "vocoder = SpeechT5HifiGan.from_pretrained(\"microsoft/speecht5_hifigan\")\n",
    "speech = model.generate_speech(inputs[\"input_ids\"], speaker_embeddings, vocoder=vocoder)"
   ]
  },
  {
   "cell_type": "code",
   "execution_count": 62,
   "id": "95b92404-48dc-448c-8323-aca1bf0944d4",
   "metadata": {},
   "outputs": [
    {
     "data": {
      "text/html": [
       "\n",
       "                <audio  controls=\"controls\" >\n",
       "                    <source src=\"data:audio/wav;base64,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\" type=\"audio/wav\" />\n",
       "                    Your browser does not support the audio element.\n",
       "                </audio>\n",
       "              "
      ],
      "text/plain": [
       "<IPython.lib.display.Audio object>"
      ]
     },
     "execution_count": 62,
     "metadata": {},
     "output_type": "execute_result"
    }
   ],
   "source": [
    "import IPython\n",
    "IPython.display.Audio(speech.numpy(), rate=16000)"
   ]
  },
  {
   "cell_type": "code",
   "execution_count": null,
   "id": "67e2090b-5463-41c5-8e06-1294730586b4",
   "metadata": {},
   "outputs": [],
   "source": []
  }
 ],
 "metadata": {
  "kernelspec": {
   "display_name": "Python 3 (ipykernel)",
   "language": "python",
   "name": "python3"
  },
  "language_info": {
   "codemirror_mode": {
    "name": "ipython",
    "version": 3
   },
   "file_extension": ".py",
   "mimetype": "text/x-python",
   "name": "python",
   "nbconvert_exporter": "python",
   "pygments_lexer": "ipython3",
   "version": "3.9.16"
  }
 },
 "nbformat": 4,
 "nbformat_minor": 5
}
