{
 "cells": [
  {
   "cell_type": "code",
   "execution_count": 1,
   "id": "a6239771-932a-40fa-a814-70b9c10105d6",
   "metadata": {},
   "outputs": [
    {
     "name": "stdout",
     "output_type": "stream",
     "text": [
      "Requirement already satisfied: transformers in /usr/local/lib/python3.9/dist-packages (4.21.3)\n",
      "Collecting transformers\n",
      "  Downloading transformers-4.30.2-py3-none-any.whl (7.2 MB)\n",
      "\u001b[2K     \u001b[90m━━━━━━━━━━━━━━━━━━━━━━━━━━━━━━━━━━━━━━━━\u001b[0m \u001b[32m7.2/7.2 MB\u001b[0m \u001b[31m54.1 MB/s\u001b[0m eta \u001b[36m0:00:00\u001b[0m00:01\u001b[0m00:01\u001b[0mm\n",
      "\u001b[?25hCollecting safetensors>=0.3.1\n",
      "  Downloading safetensors-0.3.1-cp39-cp39-manylinux_2_17_x86_64.manylinux2014_x86_64.whl (1.3 MB)\n",
      "\u001b[2K     \u001b[90m━━━━━━━━━━━━━━━━━━━━━━━━━━━━━━━━━━━━━━━━\u001b[0m \u001b[32m1.3/1.3 MB\u001b[0m \u001b[31m57.4 MB/s\u001b[0m eta \u001b[36m0:00:00\u001b[0m\n",
      "\u001b[?25hRequirement already satisfied: tqdm>=4.27 in /usr/local/lib/python3.9/dist-packages (from transformers) (4.64.1)\n",
      "Requirement already satisfied: tokenizers!=0.11.3,<0.14,>=0.11.1 in /usr/local/lib/python3.9/dist-packages (from transformers) (0.12.1)\n",
      "Requirement already satisfied: numpy>=1.17 in /usr/local/lib/python3.9/dist-packages (from transformers) (1.23.4)\n",
      "Requirement already satisfied: packaging>=20.0 in /usr/local/lib/python3.9/dist-packages (from transformers) (23.0)\n",
      "Requirement already satisfied: regex!=2019.12.17 in /usr/local/lib/python3.9/dist-packages (from transformers) (2022.10.31)\n",
      "Requirement already satisfied: requests in /usr/local/lib/python3.9/dist-packages (from transformers) (2.28.2)\n",
      "Requirement already satisfied: filelock in /usr/local/lib/python3.9/dist-packages (from transformers) (3.9.0)\n",
      "Collecting huggingface-hub<1.0,>=0.14.1\n",
      "  Downloading huggingface_hub-0.16.4-py3-none-any.whl (268 kB)\n",
      "\u001b[2K     \u001b[90m━━━━━━━━━━━━━━━━━━━━━━━━━━━━━━━━━━━━━━\u001b[0m \u001b[32m268.8/268.8 kB\u001b[0m \u001b[31m71.2 MB/s\u001b[0m eta \u001b[36m0:00:00\u001b[0m\n",
      "\u001b[?25hRequirement already satisfied: pyyaml>=5.1 in /usr/local/lib/python3.9/dist-packages (from transformers) (5.4.1)\n",
      "Requirement already satisfied: fsspec in /usr/local/lib/python3.9/dist-packages (from huggingface-hub<1.0,>=0.14.1->transformers) (2023.1.0)\n",
      "Requirement already satisfied: typing-extensions>=3.7.4.3 in /usr/local/lib/python3.9/dist-packages (from huggingface-hub<1.0,>=0.14.1->transformers) (4.4.0)\n",
      "Requirement already satisfied: charset-normalizer<4,>=2 in /usr/local/lib/python3.9/dist-packages (from requests->transformers) (2.1.1)\n",
      "Requirement already satisfied: certifi>=2017.4.17 in /usr/lib/python3/dist-packages (from requests->transformers) (2019.11.28)\n",
      "Requirement already satisfied: idna<4,>=2.5 in /usr/lib/python3/dist-packages (from requests->transformers) (2.8)\n",
      "Requirement already satisfied: urllib3<1.27,>=1.21.1 in /usr/local/lib/python3.9/dist-packages (from requests->transformers) (1.26.14)\n",
      "Installing collected packages: safetensors, huggingface-hub, transformers\n",
      "  Attempting uninstall: huggingface-hub\n",
      "    Found existing installation: huggingface-hub 0.12.0\n",
      "    Uninstalling huggingface-hub-0.12.0:\n",
      "      Successfully uninstalled huggingface-hub-0.12.0\n",
      "  Attempting uninstall: transformers\n",
      "    Found existing installation: transformers 4.21.3\n",
      "    Uninstalling transformers-4.21.3:\n",
      "      Successfully uninstalled transformers-4.21.3\n",
      "Successfully installed huggingface-hub-0.16.4 safetensors-0.3.1 transformers-4.30.2\n",
      "\u001b[33mWARNING: Running pip as the 'root' user can result in broken permissions and conflicting behaviour with the system package manager. It is recommended to use a virtual environment instead: https://pip.pypa.io/warnings/venv\u001b[0m\u001b[33m\n",
      "\u001b[0m"
     ]
    }
   ],
   "source": [
    "!pip install -U transformers\n"
   ]
  },
  {
   "cell_type": "code",
   "execution_count": 9,
   "id": "6f39dbd6-72d1-4654-bb69-434fa88e40db",
   "metadata": {},
   "outputs": [
    {
     "name": "stdout",
     "output_type": "stream",
     "text": [
      "Requirement already satisfied: datasets in /usr/local/lib/python3.9/dist-packages (2.4.0)\n",
      "Requirement already satisfied: xxhash in /usr/local/lib/python3.9/dist-packages (from datasets) (3.2.0)\n",
      "Requirement already satisfied: packaging in /usr/local/lib/python3.9/dist-packages (from datasets) (23.0)\n",
      "Requirement already satisfied: fsspec[http]>=2021.11.1 in /usr/local/lib/python3.9/dist-packages (from datasets) (2023.1.0)\n",
      "Requirement already satisfied: numpy>=1.17 in /usr/local/lib/python3.9/dist-packages (from datasets) (1.23.4)\n",
      "Requirement already satisfied: huggingface-hub<1.0.0,>=0.1.0 in /usr/local/lib/python3.9/dist-packages (from datasets) (0.16.4)\n",
      "Requirement already satisfied: responses<0.19 in /usr/local/lib/python3.9/dist-packages (from datasets) (0.18.0)\n",
      "Requirement already satisfied: tqdm>=4.62.1 in /usr/local/lib/python3.9/dist-packages (from datasets) (4.64.1)\n",
      "Requirement already satisfied: requests>=2.19.0 in /usr/local/lib/python3.9/dist-packages (from datasets) (2.28.2)\n",
      "Requirement already satisfied: aiohttp in /usr/local/lib/python3.9/dist-packages (from datasets) (3.8.3)\n",
      "Requirement already satisfied: pandas in /usr/local/lib/python3.9/dist-packages (from datasets) (1.5.0)\n",
      "Requirement already satisfied: dill<0.3.6 in /usr/local/lib/python3.9/dist-packages (from datasets) (0.3.5.1)\n",
      "Requirement already satisfied: pyarrow>=6.0.0 in /usr/local/lib/python3.9/dist-packages (from datasets) (10.0.1)\n",
      "Requirement already satisfied: multiprocess in /usr/local/lib/python3.9/dist-packages (from datasets) (0.70.13)\n",
      "Requirement already satisfied: charset-normalizer<3.0,>=2.0 in /usr/local/lib/python3.9/dist-packages (from aiohttp->datasets) (2.1.1)\n",
      "Requirement already satisfied: multidict<7.0,>=4.5 in /usr/local/lib/python3.9/dist-packages (from aiohttp->datasets) (6.0.4)\n",
      "Requirement already satisfied: async-timeout<5.0,>=4.0.0a3 in /usr/local/lib/python3.9/dist-packages (from aiohttp->datasets) (4.0.2)\n",
      "Requirement already satisfied: aiosignal>=1.1.2 in /usr/local/lib/python3.9/dist-packages (from aiohttp->datasets) (1.3.1)\n",
      "Requirement already satisfied: attrs>=17.3.0 in /usr/local/lib/python3.9/dist-packages (from aiohttp->datasets) (18.2.0)\n",
      "Requirement already satisfied: frozenlist>=1.1.1 in /usr/local/lib/python3.9/dist-packages (from aiohttp->datasets) (1.3.3)\n",
      "Requirement already satisfied: yarl<2.0,>=1.0 in /usr/local/lib/python3.9/dist-packages (from aiohttp->datasets) (1.8.2)\n",
      "Requirement already satisfied: pyyaml>=5.1 in /usr/local/lib/python3.9/dist-packages (from huggingface-hub<1.0.0,>=0.1.0->datasets) (5.4.1)\n",
      "Requirement already satisfied: filelock in /usr/local/lib/python3.9/dist-packages (from huggingface-hub<1.0.0,>=0.1.0->datasets) (3.9.0)\n",
      "Requirement already satisfied: typing-extensions>=3.7.4.3 in /usr/local/lib/python3.9/dist-packages (from huggingface-hub<1.0.0,>=0.1.0->datasets) (4.4.0)\n",
      "Requirement already satisfied: urllib3<1.27,>=1.21.1 in /usr/local/lib/python3.9/dist-packages (from requests>=2.19.0->datasets) (1.26.14)\n",
      "Requirement already satisfied: idna<4,>=2.5 in /usr/lib/python3/dist-packages (from requests>=2.19.0->datasets) (2.8)\n",
      "Requirement already satisfied: certifi>=2017.4.17 in /usr/lib/python3/dist-packages (from requests>=2.19.0->datasets) (2019.11.28)\n",
      "Requirement already satisfied: python-dateutil>=2.8.1 in /usr/local/lib/python3.9/dist-packages (from pandas->datasets) (2.8.2)\n",
      "Requirement already satisfied: pytz>=2020.1 in /usr/local/lib/python3.9/dist-packages (from pandas->datasets) (2022.7.1)\n",
      "Requirement already satisfied: six>=1.5 in /usr/lib/python3/dist-packages (from python-dateutil>=2.8.1->pandas->datasets) (1.14.0)\n",
      "\u001b[33mWARNING: Running pip as the 'root' user can result in broken permissions and conflicting behaviour with the system package manager. It is recommended to use a virtual environment instead: https://pip.pypa.io/warnings/venv\u001b[0m\u001b[33m\n",
      "\u001b[0mCollecting soundfile\n",
      "  Downloading soundfile-0.12.1-py2.py3-none-manylinux_2_31_x86_64.whl (1.2 MB)\n",
      "\u001b[2K     \u001b[90m━━━━━━━━━━━━━━━━━━━━━━━━━━━━━━━━━━━━━━━━\u001b[0m \u001b[32m1.2/1.2 MB\u001b[0m \u001b[31m49.8 MB/s\u001b[0m eta \u001b[36m0:00:00\u001b[0m\n",
      "\u001b[?25hRequirement already satisfied: cffi>=1.0 in /usr/local/lib/python3.9/dist-packages (from soundfile) (1.15.1)\n",
      "Requirement already satisfied: pycparser in /usr/local/lib/python3.9/dist-packages (from cffi>=1.0->soundfile) (2.21)\n",
      "Installing collected packages: soundfile\n",
      "Successfully installed soundfile-0.12.1\n",
      "\u001b[33mWARNING: Running pip as the 'root' user can result in broken permissions and conflicting behaviour with the system package manager. It is recommended to use a virtual environment instead: https://pip.pypa.io/warnings/venv\u001b[0m\u001b[33m\n",
      "\u001b[0mCollecting librosa\n",
      "  Downloading librosa-0.10.0.post2-py3-none-any.whl (253 kB)\n",
      "\u001b[2K     \u001b[90m━━━━━━━━━━━━━━━━━━━━━━━━━━━━━━━━━━━━━━\u001b[0m \u001b[32m253.0/253.0 kB\u001b[0m \u001b[31m25.2 MB/s\u001b[0m eta \u001b[36m0:00:00\u001b[0m\n",
      "\u001b[?25hRequirement already satisfied: decorator>=4.3.0 in /usr/local/lib/python3.9/dist-packages (from librosa) (5.1.1)\n",
      "Requirement already satisfied: scikit-learn>=0.20.0 in /usr/local/lib/python3.9/dist-packages (from librosa) (1.1.2)\n",
      "Requirement already satisfied: scipy>=1.2.0 in /usr/local/lib/python3.9/dist-packages (from librosa) (1.9.2)\n",
      "Collecting soxr>=0.3.2\n",
      "  Downloading soxr-0.3.5-cp39-cp39-manylinux_2_17_x86_64.manylinux2014_x86_64.whl (1.2 MB)\n",
      "\u001b[2K     \u001b[90m━━━━━━━━━━━━━━━━━━━━━━━━━━━━━━━━━━━━━━━━\u001b[0m \u001b[32m1.2/1.2 MB\u001b[0m \u001b[31m73.2 MB/s\u001b[0m eta \u001b[36m0:00:00\u001b[0m\n",
      "\u001b[?25hRequirement already satisfied: soundfile>=0.12.1 in /usr/local/lib/python3.9/dist-packages (from librosa) (0.12.1)\n",
      "Requirement already satisfied: numpy!=1.22.0,!=1.22.1,!=1.22.2,>=1.20.3 in /usr/local/lib/python3.9/dist-packages (from librosa) (1.23.4)\n",
      "Requirement already satisfied: joblib>=0.14 in /usr/local/lib/python3.9/dist-packages (from librosa) (1.2.0)\n",
      "Collecting pooch<1.7,>=1.0\n",
      "  Downloading pooch-1.6.0-py3-none-any.whl (56 kB)\n",
      "\u001b[2K     \u001b[90m━━━━━━━━━━━━━━━━━━━━━━━━━━━━━━━━━━━━━━━━\u001b[0m \u001b[32m56.3/56.3 kB\u001b[0m \u001b[31m18.5 MB/s\u001b[0m eta \u001b[36m0:00:00\u001b[0m\n",
      "\u001b[?25hCollecting audioread>=2.1.9\n",
      "  Downloading audioread-3.0.0.tar.gz (377 kB)\n",
      "\u001b[2K     \u001b[90m━━━━━━━━━━━━━━━━━━━━━━━━━━━━━━━━━━━━━━\u001b[0m \u001b[32m377.0/377.0 kB\u001b[0m \u001b[31m66.3 MB/s\u001b[0m eta \u001b[36m0:00:00\u001b[0m\n",
      "\u001b[?25h  Preparing metadata (setup.py) ... \u001b[?25ldone\n",
      "\u001b[?25hCollecting numba>=0.51.0\n",
      "  Downloading numba-0.57.1-cp39-cp39-manylinux2014_x86_64.manylinux_2_17_x86_64.whl (3.6 MB)\n",
      "\u001b[2K     \u001b[90m━━━━━━━━━━━━━━━━━━━━━━━━━━━━━━━━━━━━━━━━\u001b[0m \u001b[32m3.6/3.6 MB\u001b[0m \u001b[31m90.6 MB/s\u001b[0m eta \u001b[36m0:00:00\u001b[0m:00:01\u001b[0m\n",
      "\u001b[?25hRequirement already satisfied: typing-extensions>=4.1.1 in /usr/local/lib/python3.9/dist-packages (from librosa) (4.4.0)\n",
      "Collecting lazy-loader>=0.1\n",
      "  Downloading lazy_loader-0.3-py3-none-any.whl (9.1 kB)\n",
      "Requirement already satisfied: msgpack>=1.0 in /usr/local/lib/python3.9/dist-packages (from librosa) (1.0.4)\n",
      "Collecting llvmlite<0.41,>=0.40.0dev0\n",
      "  Downloading llvmlite-0.40.1-cp39-cp39-manylinux_2_17_x86_64.manylinux2014_x86_64.whl (42.1 MB)\n",
      "\u001b[2K     \u001b[90m━━━━━━━━━━━━━━━━━━━━━━━━━━━━━━━━━━━━━━━━\u001b[0m \u001b[32m42.1/42.1 MB\u001b[0m \u001b[31m36.3 MB/s\u001b[0m eta \u001b[36m0:00:00\u001b[0m00:01\u001b[0m00:01\u001b[0m\n",
      "\u001b[?25hRequirement already satisfied: requests>=2.19.0 in /usr/local/lib/python3.9/dist-packages (from pooch<1.7,>=1.0->librosa) (2.28.2)\n",
      "Requirement already satisfied: appdirs>=1.3.0 in /usr/local/lib/python3.9/dist-packages (from pooch<1.7,>=1.0->librosa) (1.4.4)\n",
      "Requirement already satisfied: packaging>=20.0 in /usr/local/lib/python3.9/dist-packages (from pooch<1.7,>=1.0->librosa) (23.0)\n",
      "Requirement already satisfied: threadpoolctl>=2.0.0 in /usr/local/lib/python3.9/dist-packages (from scikit-learn>=0.20.0->librosa) (3.1.0)\n",
      "Requirement already satisfied: cffi>=1.0 in /usr/local/lib/python3.9/dist-packages (from soundfile>=0.12.1->librosa) (1.15.1)\n",
      "Requirement already satisfied: pycparser in /usr/local/lib/python3.9/dist-packages (from cffi>=1.0->soundfile>=0.12.1->librosa) (2.21)\n",
      "Requirement already satisfied: charset-normalizer<4,>=2 in /usr/local/lib/python3.9/dist-packages (from requests>=2.19.0->pooch<1.7,>=1.0->librosa) (2.1.1)\n",
      "Requirement already satisfied: idna<4,>=2.5 in /usr/lib/python3/dist-packages (from requests>=2.19.0->pooch<1.7,>=1.0->librosa) (2.8)\n",
      "Requirement already satisfied: urllib3<1.27,>=1.21.1 in /usr/local/lib/python3.9/dist-packages (from requests>=2.19.0->pooch<1.7,>=1.0->librosa) (1.26.14)\n",
      "Requirement already satisfied: certifi>=2017.4.17 in /usr/lib/python3/dist-packages (from requests>=2.19.0->pooch<1.7,>=1.0->librosa) (2019.11.28)\n",
      "Building wheels for collected packages: audioread\n",
      "  Building wheel for audioread (setup.py) ... \u001b[?25ldone\n",
      "\u001b[?25h  Created wheel for audioread: filename=audioread-3.0.0-py3-none-any.whl size=23702 sha256=f1c506f912082ce785b21e7020bc6992249d106c84407351e74898684d182ae8\n",
      "  Stored in directory: /root/.cache/pip/wheels/7a/6a/b0/92760a6d6bc2bff5464970af910c0b0b921390993f3199cdf7\n",
      "Successfully built audioread\n",
      "Installing collected packages: soxr, llvmlite, lazy-loader, audioread, pooch, numba, librosa\n",
      "Successfully installed audioread-3.0.0 lazy-loader-0.3 librosa-0.10.0.post2 llvmlite-0.40.1 numba-0.57.1 pooch-1.6.0 soxr-0.3.5\n",
      "\u001b[33mWARNING: Running pip as the 'root' user can result in broken permissions and conflicting behaviour with the system package manager. It is recommended to use a virtual environment instead: https://pip.pypa.io/warnings/venv\u001b[0m\u001b[33m\n",
      "\u001b[0m"
     ]
    }
   ],
   "source": [
    "!pip install datasets\n",
    "!pip install soundfile\n",
    "!pip install librosa"
   ]
  },
  {
   "cell_type": "code",
   "execution_count": 3,
   "id": "908ceb10-79c0-48f9-91d7-4b5ed6443fb5",
   "metadata": {},
   "outputs": [
    {
     "name": "stdout",
     "output_type": "stream",
     "text": [
      "Collecting git+https://github.com/huggingface/transformers\n",
      "  Cloning https://github.com/huggingface/transformers to /tmp/pip-req-build-89k1tdzw\n",
      "  Running command git clone --filter=blob:none --quiet https://github.com/huggingface/transformers /tmp/pip-req-build-89k1tdzw\n",
      "  Resolved https://github.com/huggingface/transformers to commit 2489e380e45177eb3da108366f65b8108b2815c5\n",
      "  Installing build dependencies ... \u001b[?25ldone\n",
      "\u001b[?25h  Getting requirements to build wheel ... \u001b[?25ldone\n",
      "\u001b[?25h  Preparing metadata (pyproject.toml) ... \u001b[?25ldone\n",
      "\u001b[?25hRequirement already satisfied: tokenizers!=0.11.3,<0.14,>=0.11.1 in /usr/local/lib/python3.9/dist-packages (from transformers==4.31.0.dev0) (0.12.1)\n",
      "Requirement already satisfied: packaging>=20.0 in /usr/local/lib/python3.9/dist-packages (from transformers==4.31.0.dev0) (23.0)\n",
      "Requirement already satisfied: requests in /usr/local/lib/python3.9/dist-packages (from transformers==4.31.0.dev0) (2.28.2)\n",
      "Requirement already satisfied: pyyaml>=5.1 in /usr/local/lib/python3.9/dist-packages (from transformers==4.31.0.dev0) (5.4.1)\n",
      "Requirement already satisfied: tqdm>=4.27 in /usr/local/lib/python3.9/dist-packages (from transformers==4.31.0.dev0) (4.64.1)\n",
      "Requirement already satisfied: filelock in /usr/local/lib/python3.9/dist-packages (from transformers==4.31.0.dev0) (3.9.0)\n",
      "Requirement already satisfied: numpy>=1.17 in /usr/local/lib/python3.9/dist-packages (from transformers==4.31.0.dev0) (1.23.4)\n",
      "Requirement already satisfied: safetensors>=0.3.1 in /usr/local/lib/python3.9/dist-packages (from transformers==4.31.0.dev0) (0.3.1)\n",
      "Requirement already satisfied: regex!=2019.12.17 in /usr/local/lib/python3.9/dist-packages (from transformers==4.31.0.dev0) (2022.10.31)\n",
      "Requirement already satisfied: huggingface-hub<1.0,>=0.14.1 in /usr/local/lib/python3.9/dist-packages (from transformers==4.31.0.dev0) (0.16.4)\n",
      "Requirement already satisfied: typing-extensions>=3.7.4.3 in /usr/local/lib/python3.9/dist-packages (from huggingface-hub<1.0,>=0.14.1->transformers==4.31.0.dev0) (4.4.0)\n",
      "Requirement already satisfied: fsspec in /usr/local/lib/python3.9/dist-packages (from huggingface-hub<1.0,>=0.14.1->transformers==4.31.0.dev0) (2023.1.0)\n",
      "Requirement already satisfied: urllib3<1.27,>=1.21.1 in /usr/local/lib/python3.9/dist-packages (from requests->transformers==4.31.0.dev0) (1.26.14)\n",
      "Requirement already satisfied: idna<4,>=2.5 in /usr/lib/python3/dist-packages (from requests->transformers==4.31.0.dev0) (2.8)\n",
      "Requirement already satisfied: certifi>=2017.4.17 in /usr/lib/python3/dist-packages (from requests->transformers==4.31.0.dev0) (2019.11.28)\n",
      "Requirement already satisfied: charset-normalizer<4,>=2 in /usr/local/lib/python3.9/dist-packages (from requests->transformers==4.31.0.dev0) (2.1.1)\n",
      "Building wheels for collected packages: transformers\n",
      "  Building wheel for transformers (pyproject.toml) ... \u001b[?25ldone\n",
      "\u001b[?25h  Created wheel for transformers: filename=transformers-4.31.0.dev0-py3-none-any.whl size=7344228 sha256=66e2bc3b1f6a532312638ba5c10adbad6ee3eae1e028e20356dc0424dcd1e16a\n",
      "  Stored in directory: /tmp/pip-ephem-wheel-cache-ewe0kxcf/wheels/14/a0/7b/8f6b25ba4110aa215fcb8d6aedd6cd4f9b9b6619190999ac2b\n",
      "Successfully built transformers\n",
      "Installing collected packages: transformers\n",
      "  Attempting uninstall: transformers\n",
      "    Found existing installation: transformers 4.30.2\n",
      "    Uninstalling transformers-4.30.2:\n",
      "      Successfully uninstalled transformers-4.30.2\n",
      "Successfully installed transformers-4.31.0.dev0\n",
      "\u001b[33mWARNING: Running pip as the 'root' user can result in broken permissions and conflicting behaviour with the system package manager. It is recommended to use a virtual environment instead: https://pip.pypa.io/warnings/venv\u001b[0m\u001b[33m\n",
      "\u001b[0m"
     ]
    }
   ],
   "source": [
    "!pip install git+https://github.com/huggingface/transformers"
   ]
  },
  {
   "cell_type": "code",
   "execution_count": 4,
   "id": "1bf4fb4e-4c1f-48a7-953a-7d5091c4978c",
   "metadata": {},
   "outputs": [
    {
     "name": "stdout",
     "output_type": "stream",
     "text": [
      "Requirement already satisfied: speechbrain in /usr/local/lib/python3.9/dist-packages (0.5.14)\n",
      "Requirement already satisfied: accelerate in /usr/local/lib/python3.9/dist-packages (0.20.3)\n",
      "Requirement already satisfied: numpy in /usr/local/lib/python3.9/dist-packages (from speechbrain) (1.23.4)\n",
      "Requirement already satisfied: torchaudio in /usr/local/lib/python3.9/dist-packages (from speechbrain) (0.12.1+cu116)\n",
      "Requirement already satisfied: joblib in /usr/local/lib/python3.9/dist-packages (from speechbrain) (1.2.0)\n",
      "Requirement already satisfied: packaging in /usr/local/lib/python3.9/dist-packages (from speechbrain) (23.0)\n",
      "Requirement already satisfied: torch>=1.9 in /usr/local/lib/python3.9/dist-packages (from speechbrain) (1.12.1+cu116)\n",
      "Requirement already satisfied: tqdm in /usr/local/lib/python3.9/dist-packages (from speechbrain) (4.64.1)\n",
      "Requirement already satisfied: hyperpyyaml in /usr/local/lib/python3.9/dist-packages (from speechbrain) (1.2.1)\n",
      "Requirement already satisfied: sentencepiece in /usr/local/lib/python3.9/dist-packages (from speechbrain) (0.1.97)\n",
      "Requirement already satisfied: huggingface-hub in /usr/local/lib/python3.9/dist-packages (from speechbrain) (0.16.4)\n",
      "Requirement already satisfied: scipy in /usr/local/lib/python3.9/dist-packages (from speechbrain) (1.9.2)\n",
      "Requirement already satisfied: psutil in /usr/local/lib/python3.9/dist-packages (from accelerate) (5.9.4)\n",
      "Requirement already satisfied: pyyaml in /usr/local/lib/python3.9/dist-packages (from accelerate) (5.4.1)\n",
      "Requirement already satisfied: typing-extensions in /usr/local/lib/python3.9/dist-packages (from torch>=1.9->speechbrain) (4.4.0)\n",
      "Requirement already satisfied: requests in /usr/local/lib/python3.9/dist-packages (from huggingface-hub->speechbrain) (2.28.2)\n",
      "Requirement already satisfied: fsspec in /usr/local/lib/python3.9/dist-packages (from huggingface-hub->speechbrain) (2023.1.0)\n",
      "Requirement already satisfied: filelock in /usr/local/lib/python3.9/dist-packages (from huggingface-hub->speechbrain) (3.9.0)\n",
      "Requirement already satisfied: ruamel.yaml<=0.17.28,>=0.17.8 in /usr/local/lib/python3.9/dist-packages (from hyperpyyaml->speechbrain) (0.17.28)\n",
      "Requirement already satisfied: ruamel.yaml.clib>=0.2.7 in /usr/local/lib/python3.9/dist-packages (from ruamel.yaml<=0.17.28,>=0.17.8->hyperpyyaml->speechbrain) (0.2.7)\n",
      "Requirement already satisfied: charset-normalizer<4,>=2 in /usr/local/lib/python3.9/dist-packages (from requests->huggingface-hub->speechbrain) (2.1.1)\n",
      "Requirement already satisfied: urllib3<1.27,>=1.21.1 in /usr/local/lib/python3.9/dist-packages (from requests->huggingface-hub->speechbrain) (1.26.14)\n",
      "Requirement already satisfied: idna<4,>=2.5 in /usr/lib/python3/dist-packages (from requests->huggingface-hub->speechbrain) (2.8)\n",
      "Requirement already satisfied: certifi>=2017.4.17 in /usr/lib/python3/dist-packages (from requests->huggingface-hub->speechbrain) (2019.11.28)\n",
      "\u001b[33mWARNING: Running pip as the 'root' user can result in broken permissions and conflicting behaviour with the system package manager. It is recommended to use a virtual environment instead: https://pip.pypa.io/warnings/venv\u001b[0m\u001b[33m\n",
      "\u001b[0m"
     ]
    }
   ],
   "source": [
    "!pip install speechbrain accelerate"
   ]
  },
  {
   "cell_type": "code",
   "execution_count": 5,
   "id": "3139f33a-fca9-46e0-8c1e-705622d2253a",
   "metadata": {},
   "outputs": [
    {
     "name": "stdout",
     "output_type": "stream",
     "text": [
      "Reading package lists... Done\n",
      "Building dependency tree       \n",
      "Reading state information... Done\n",
      "The following NEW packages will be installed:\n",
      "  git-lfs\n",
      "0 upgraded, 1 newly installed, 0 to remove and 3 not upgraded.\n",
      "Need to get 3316 kB of archives.\n",
      "After this operation, 11.1 MB of additional disk space will be used.\n",
      "Get:1 http://archive.ubuntu.com/ubuntu focal/universe amd64 git-lfs amd64 2.9.2-1 [3316 kB]\n",
      "Fetched 3316 kB in 1s (3542 kB/s) \n",
      "Selecting previously unselected package git-lfs.\n",
      "(Reading database ... 69943 files and directories currently installed.)\n",
      "Preparing to unpack .../git-lfs_2.9.2-1_amd64.deb ...\n",
      "Unpacking git-lfs (2.9.2-1) ...\n",
      "Setting up git-lfs (2.9.2-1) ...\n",
      "Processing triggers for man-db (2.9.1-1) ...\n",
      "Updated git hooks.\n",
      "Git LFS initialized.\n"
     ]
    }
   ],
   "source": [
    "!apt-get install git-lfs\n",
    "!git lfs install"
   ]
  },
  {
   "cell_type": "code",
   "execution_count": 6,
   "id": "e46bab4e-1461-4fe4-a579-ff8983557b1f",
   "metadata": {},
   "outputs": [
    {
     "name": "stdout",
     "output_type": "stream",
     "text": [
      "Requirement already satisfied: wandb in /usr/local/lib/python3.9/dist-packages (0.13.4)\n",
      "Collecting wandb\n",
      "  Downloading wandb-0.15.5-py3-none-any.whl (2.1 MB)\n",
      "\u001b[2K     \u001b[90m━━━━━━━━━━━━━━━━━━━━━━━━━━━━━━━━━━━━━━━━\u001b[0m \u001b[32m2.1/2.1 MB\u001b[0m \u001b[31m8.7 MB/s\u001b[0m eta \u001b[36m0:00:00\u001b[0ma \u001b[36m0:00:01\u001b[0mm\n",
      "\u001b[?25hRequirement already satisfied: psutil>=5.0.0 in /usr/local/lib/python3.9/dist-packages (from wandb) (5.9.4)\n",
      "Requirement already satisfied: protobuf!=4.21.0,<5,>=3.15.0 in /usr/local/lib/python3.9/dist-packages (from wandb) (3.19.6)\n",
      "Requirement already satisfied: docker-pycreds>=0.4.0 in /usr/local/lib/python3.9/dist-packages (from wandb) (0.4.0)\n",
      "Requirement already satisfied: Click!=8.0.0,>=7.1 in /usr/local/lib/python3.9/dist-packages (from wandb) (8.1.3)\n",
      "Requirement already satisfied: sentry-sdk>=1.0.0 in /usr/local/lib/python3.9/dist-packages (from wandb) (1.14.0)\n",
      "Requirement already satisfied: setproctitle in /usr/local/lib/python3.9/dist-packages (from wandb) (1.3.2)\n",
      "Requirement already satisfied: PyYAML in /usr/local/lib/python3.9/dist-packages (from wandb) (5.4.1)\n",
      "Requirement already satisfied: pathtools in /usr/local/lib/python3.9/dist-packages (from wandb) (0.1.2)\n",
      "Requirement already satisfied: typing-extensions in /usr/local/lib/python3.9/dist-packages (from wandb) (4.4.0)\n",
      "Requirement already satisfied: GitPython!=3.1.29,>=1.0.0 in /usr/local/lib/python3.9/dist-packages (from wandb) (3.1.30)\n",
      "Collecting appdirs>=1.4.3\n",
      "  Downloading appdirs-1.4.4-py2.py3-none-any.whl (9.6 kB)\n",
      "Requirement already satisfied: requests<3,>=2.0.0 in /usr/local/lib/python3.9/dist-packages (from wandb) (2.28.2)\n",
      "Requirement already satisfied: setuptools in /usr/local/lib/python3.9/dist-packages (from wandb) (66.1.1)\n",
      "Requirement already satisfied: six>=1.4.0 in /usr/lib/python3/dist-packages (from docker-pycreds>=0.4.0->wandb) (1.14.0)\n",
      "Requirement already satisfied: gitdb<5,>=4.0.1 in /usr/local/lib/python3.9/dist-packages (from GitPython!=3.1.29,>=1.0.0->wandb) (4.0.10)\n",
      "Requirement already satisfied: certifi>=2017.4.17 in /usr/lib/python3/dist-packages (from requests<3,>=2.0.0->wandb) (2019.11.28)\n",
      "Requirement already satisfied: charset-normalizer<4,>=2 in /usr/local/lib/python3.9/dist-packages (from requests<3,>=2.0.0->wandb) (2.1.1)\n",
      "Requirement already satisfied: idna<4,>=2.5 in /usr/lib/python3/dist-packages (from requests<3,>=2.0.0->wandb) (2.8)\n",
      "Requirement already satisfied: urllib3<1.27,>=1.21.1 in /usr/local/lib/python3.9/dist-packages (from requests<3,>=2.0.0->wandb) (1.26.14)\n",
      "Requirement already satisfied: smmap<6,>=3.0.1 in /usr/local/lib/python3.9/dist-packages (from gitdb<5,>=4.0.1->GitPython!=3.1.29,>=1.0.0->wandb) (5.0.0)\n",
      "Installing collected packages: appdirs, wandb\n",
      "  Attempting uninstall: wandb\n",
      "    Found existing installation: wandb 0.13.4\n",
      "    Uninstalling wandb-0.13.4:\n",
      "      Successfully uninstalled wandb-0.13.4\n",
      "Successfully installed appdirs-1.4.4 wandb-0.15.5\n",
      "\u001b[33mWARNING: Running pip as the 'root' user can result in broken permissions and conflicting behaviour with the system package manager. It is recommended to use a virtual environment instead: https://pip.pypa.io/warnings/venv\u001b[0m\u001b[33m\n",
      "\u001b[0m"
     ]
    }
   ],
   "source": [
    "!pip install wandb --upgrade"
   ]
  },
  {
   "cell_type": "markdown",
   "id": "e0d2fe04-c01f-4774-9572-b290f428a933",
   "metadata": {},
   "source": [
    "## Fine-tuning SpeechT5\n"
   ]
  },
  {
   "cell_type": "markdown",
   "id": "ecd4f907-fb05-4b83-acd5-34594a0d3e0a",
   "metadata": {},
   "source": [
    "### Housekeeping"
   ]
  },
  {
   "cell_type": "code",
   "execution_count": 7,
   "id": "19849cd2-2af1-48e0-a61e-b25944e1189c",
   "metadata": {},
   "outputs": [
    {
     "data": {
      "application/vnd.jupyter.widget-view+json": {
       "model_id": "b559d8c9cbfa47c09486f9e29bed273a",
       "version_major": 2,
       "version_minor": 0
      },
      "text/plain": [
       "VBox(children=(HTML(value='<center> <img\\nsrc=https://huggingface.co/front/assets/huggingface_logo-noborder.sv…"
      ]
     },
     "metadata": {},
     "output_type": "display_data"
    }
   ],
   "source": [
    "from huggingface_hub import notebook_login\n",
    "\n",
    "notebook_login()"
   ]
  },
  {
   "cell_type": "markdown",
   "id": "8ffdf5e5-4ce4-496d-8eb0-d933323a5f2c",
   "metadata": {},
   "source": [
    "### The dataset"
   ]
  },
  {
   "cell_type": "code",
   "execution_count": 172,
   "id": "6ce64e6b-5aa8-4ddc-a3a1-a001052bb681",
   "metadata": {},
   "outputs": [
    {
     "name": "stderr",
     "output_type": "stream",
     "text": [
      "Reusing dataset voxpopuli (/root/.cache/huggingface/datasets/facebook___voxpopuli/es/1.3.0/b5ff837284f0778eefe0f642734e142d8c3f574eba8c9c8a4b13602297f73604)\n"
     ]
    }
   ],
   "source": [
    "from datasets import load_dataset, Audio\n",
    "\n",
    "dataset = load_dataset(\"facebook/voxpopuli\", \"es\", split=\"train\")"
   ]
  },
  {
   "cell_type": "code",
   "execution_count": 173,
   "id": "0be219c0-1954-440a-8605-95e532456bd3",
   "metadata": {},
   "outputs": [
    {
     "data": {
      "text/plain": [
       "50922"
      ]
     },
     "execution_count": 173,
     "metadata": {},
     "output_type": "execute_result"
    }
   ],
   "source": [
    "len(dataset)"
   ]
  },
  {
   "cell_type": "code",
   "execution_count": 174,
   "id": "46402a98-87e1-438b-8137-7f64cf7b1416",
   "metadata": {},
   "outputs": [],
   "source": [
    "dataset = dataset.cast_column(\"audio\", Audio(sampling_rate=16000))"
   ]
  },
  {
   "cell_type": "markdown",
   "id": "8dfd7f2d-70ea-4b19-a209-7310e8d997a9",
   "metadata": {},
   "source": [
    "### Preprocessing the data"
   ]
  },
  {
   "cell_type": "code",
   "execution_count": 175,
   "id": "124b32df-944e-4fec-8526-0e8c101d33c2",
   "metadata": {},
   "outputs": [],
   "source": [
    "from transformers import SpeechT5Processor\n",
    "checkpoint = \"microsoft/speecht5_tts\"\n",
    "processor = SpeechT5Processor.from_pretrained(checkpoint)"
   ]
  },
  {
   "cell_type": "markdown",
   "id": "75d15875-bea1-4098-8a6e-a5abc526b12a",
   "metadata": {},
   "source": [
    "#### Text cleanup for SpeechT5 tokenization"
   ]
  },
  {
   "cell_type": "code",
   "execution_count": 176,
   "id": "44c0b576-9272-4bd5-8bdf-32e9d4c1a91d",
   "metadata": {},
   "outputs": [],
   "source": [
    "tokenizer = processor.tokenizer"
   ]
  },
  {
   "cell_type": "code",
   "execution_count": 177,
   "id": "3978b54e-191a-49f0-bde5-31e0ae50f416",
   "metadata": {},
   "outputs": [
    {
     "data": {
      "text/plain": [
       "{'audio_id': '20200914-0900-PLENARY-es_20200914-17:23:57_4',\n",
       " 'language': 3,\n",
       " 'audio': {'path': '/root/.cache/huggingface/datasets/downloads/extracted/2fb3261dbf9ef7ba9a3acf70075ebdad88b9ffa07a75f71f1ba5635e36443a6d/train_part_0/20200914-0900-PLENARY-es_20200914-17:23:57_4.wav',\n",
       "  'array': array([ 0.00064087,  0.00039673, -0.00048828, ...,  0.00619507,\n",
       "         -0.00012207, -0.00494385], dtype=float32),\n",
       "  'sampling_rate': 16000},\n",
       " 'raw_text': 'Y, desde luego, esa razón no puede tener que ver con la explicación surrealista que hemos escuchado más de una vez de que se trata de una conspiración izquierdista.',\n",
       " 'normalized_text': 'y desde luego esa razón no puede tener que ver con la explicación surrealista que hemos escuchado más de una vez de que se trata de una conspiración izquierdista.',\n",
       " 'gender': 'male',\n",
       " 'speaker_id': '96812',\n",
       " 'is_gold_transcript': True,\n",
       " 'accent': 'None'}"
      ]
     },
     "execution_count": 177,
     "metadata": {},
     "output_type": "execute_result"
    }
   ],
   "source": [
    "dataset[0]"
   ]
  },
  {
   "cell_type": "code",
   "execution_count": 178,
   "id": "44ded927-9dfe-4e82-a376-4e5317fa4282",
   "metadata": {},
   "outputs": [],
   "source": [
    "def extract_all_chars(batch):\n",
    "    all_text = \" \".join(batch[\"normalized_text\"])\n",
    "    vocab = list(set(all_text))\n",
    "    return {\"vocab\":[vocab], \"all_text\": [all_text]}"
   ]
  },
  {
   "cell_type": "code",
   "execution_count": 179,
   "id": "ef587ea6-da78-49fb-bfbe-0b591dc1d841",
   "metadata": {},
   "outputs": [
    {
     "data": {
      "application/vnd.jupyter.widget-view+json": {
       "model_id": "6c396431d05746d686f91fe334ee5c30",
       "version_major": 2,
       "version_minor": 0
      },
      "text/plain": [
       "  0%|          | 0/1 [00:00<?, ?ba/s]"
      ]
     },
     "metadata": {},
     "output_type": "display_data"
    }
   ],
   "source": [
    "vocabs = dataset.map(extract_all_chars, batched=True, batch_size=-1, keep_in_memory=True, remove_columns=dataset.column_names)"
   ]
  },
  {
   "cell_type": "code",
   "execution_count": 180,
   "id": "7c1b3ffc-acf2-4a7f-b5a8-8de3fbeb2f2e",
   "metadata": {},
   "outputs": [],
   "source": [
    "dataset_vocab = set(vocabs[\"vocab\"][0])\n",
    "tokenizer_vocab = {k for k, _ in tokenizer.get_vocab().items()}"
   ]
  },
  {
   "cell_type": "code",
   "execution_count": 181,
   "id": "641d44a6-2e18-4995-bf7b-a4f2652af257",
   "metadata": {},
   "outputs": [
    {
     "data": {
      "text/plain": [
       "{'!',\n",
       " '\"',\n",
       " \"'\",\n",
       " '(',\n",
       " ')',\n",
       " ',',\n",
       " '-',\n",
       " '.',\n",
       " '/',\n",
       " ':',\n",
       " ';',\n",
       " '</s>',\n",
       " '<ctc_blank>',\n",
       " '<mask>',\n",
       " '<pad>',\n",
       " '<s>',\n",
       " '<unk>',\n",
       " '?',\n",
       " 'A',\n",
       " 'B',\n",
       " 'C',\n",
       " 'D',\n",
       " 'E',\n",
       " 'F',\n",
       " 'G',\n",
       " 'H',\n",
       " 'I',\n",
       " 'J',\n",
       " 'K',\n",
       " 'L',\n",
       " 'M',\n",
       " 'N',\n",
       " 'O',\n",
       " 'P',\n",
       " 'Q',\n",
       " 'R',\n",
       " 'S',\n",
       " 'T',\n",
       " 'U',\n",
       " 'V',\n",
       " 'W',\n",
       " 'X',\n",
       " 'Y',\n",
       " 'Z',\n",
       " '[',\n",
       " ']',\n",
       " 'a',\n",
       " 'b',\n",
       " 'c',\n",
       " 'd',\n",
       " 'e',\n",
       " 'f',\n",
       " 'g',\n",
       " 'h',\n",
       " 'i',\n",
       " 'j',\n",
       " 'k',\n",
       " 'l',\n",
       " 'm',\n",
       " 'n',\n",
       " 'o',\n",
       " 'p',\n",
       " 'q',\n",
       " 'r',\n",
       " 's',\n",
       " 't',\n",
       " 'u',\n",
       " 'v',\n",
       " 'w',\n",
       " 'x',\n",
       " 'y',\n",
       " 'z',\n",
       " '{',\n",
       " '}',\n",
       " 'æ',\n",
       " 'é',\n",
       " 'ê',\n",
       " 'œ',\n",
       " '̄',\n",
       " '—',\n",
       " '▁'}"
      ]
     },
     "execution_count": 181,
     "metadata": {},
     "output_type": "execute_result"
    }
   ],
   "source": [
    "tokenizer_vocab"
   ]
  },
  {
   "cell_type": "code",
   "execution_count": 182,
   "id": "418024be-113f-40a8-a373-3c19f7be34c9",
   "metadata": {},
   "outputs": [
    {
     "data": {
      "text/plain": [
       "{' ', '1', 'á', 'í', 'ñ', 'ó', 'ú', 'ü'}"
      ]
     },
     "execution_count": 182,
     "metadata": {},
     "output_type": "execute_result"
    }
   ],
   "source": [
    "# identify all special characters that tokenizer does not contain\n",
    "dataset_vocab - tokenizer_vocab"
   ]
  },
  {
   "cell_type": "code",
   "execution_count": 183,
   "id": "080e7e48-2e24-42c8-b7b7-91d1be1b5452",
   "metadata": {},
   "outputs": [],
   "source": [
    "replacements= [\n",
    "    ('á', 'a'),\n",
    "    ('í', 'i'),\n",
    "    ('ñ', 'n'),\n",
    "    ('ó', 'o'),\n",
    "    ('ú', 'u'),\n",
    "    ('ü', 'u'), \n",
    "    \n",
    "]"
   ]
  },
  {
   "cell_type": "code",
   "execution_count": 184,
   "id": "63969e1e-246b-41e2-9ee8-6efb1a550ba9",
   "metadata": {},
   "outputs": [
    {
     "name": "stderr",
     "output_type": "stream",
     "text": [
      "Loading cached processed dataset at /root/.cache/huggingface/datasets/facebook___voxpopuli/es/1.3.0/b5ff837284f0778eefe0f642734e142d8c3f574eba8c9c8a4b13602297f73604/cache-cd237bcae5918bae.arrow\n"
     ]
    }
   ],
   "source": [
    "# replace special characters\n",
    "def cleanup_text(inputs):\n",
    "    for src, dst in replacements:\n",
    "        inputs[\"normalized_text\"] = inputs[\"normalized_text\"].replace(src, dst)\n",
    "    return inputs\n",
    "\n",
    "dataset = dataset.map(cleanup_text)\n",
    "    "
   ]
  },
  {
   "cell_type": "code",
   "execution_count": 185,
   "id": "94ebf2a0-35f5-41d9-aaf0-f4e9b47f1c03",
   "metadata": {},
   "outputs": [
    {
     "data": {
      "text/plain": [
       "50922"
      ]
     },
     "execution_count": 185,
     "metadata": {},
     "output_type": "execute_result"
    }
   ],
   "source": [
    "len(dataset)"
   ]
  },
  {
   "cell_type": "markdown",
   "id": "3547680a-c6ba-4338-8e8c-d5326eaf5284",
   "metadata": {
    "tags": []
   },
   "source": [
    "#### Speakers"
   ]
  },
  {
   "cell_type": "code",
   "execution_count": 186,
   "id": "39dcd027-351a-457e-8100-6c8e37aeaa31",
   "metadata": {},
   "outputs": [],
   "source": [
    "from collections import defaultdict\n",
    "speaker_counts = defaultdict(int)\n",
    "for speaker_id in dataset[\"speaker_id\"]:\n",
    "    speaker_counts[speaker_id] += 1\n",
    "    "
   ]
  },
  {
   "cell_type": "code",
   "execution_count": 187,
   "id": "c8ce12a7-016e-4732-9bae-7200d1f9d13f",
   "metadata": {},
   "outputs": [
    {
     "data": {
      "image/png": "[encoded data removed]",
      "text/plain": [
       "<Figure size 640x480 with 1 Axes>"
      ]
     },
     "metadata": {},
     "output_type": "display_data"
    }
   ],
   "source": [
    "import matplotlib.pyplot as plt\n",
    "\n",
    "plt.figure()\n",
    "plt.hist(speaker_counts.values(), bins=20)\n",
    "plt.ylabel(\"Speakers\")\n",
    "plt.xlabel(\"Examples\")\n",
    "plt.show()"
   ]
  },
  {
   "cell_type": "code",
   "execution_count": 188,
   "id": "ed2ec3d0-cf70-47e7-b2a4-12448b58c266",
   "metadata": {},
   "outputs": [
    {
     "name": "stderr",
     "output_type": "stream",
     "text": [
      "Loading cached processed dataset at /root/.cache/huggingface/datasets/facebook___voxpopuli/es/1.3.0/b5ff837284f0778eefe0f642734e142d8c3f574eba8c9c8a4b13602297f73604/cache-f0d45b3ceea70178.arrow\n"
     ]
    }
   ],
   "source": [
    "# balance dataset by limiting speakers to middle\n",
    "def select_speaker(speaker_id):\n",
    "    return 50 <= speaker_counts[speaker_id] <= 700\n",
    "dataset = dataset.filter(select_speaker, input_columns=[\"speaker_id\"])"
   ]
  },
  {
   "cell_type": "code",
   "execution_count": 189,
   "id": "92591cbb-4ba7-4a18-af70-7af045798852",
   "metadata": {},
   "outputs": [
    {
     "data": {
      "text/plain": [
       "96"
      ]
     },
     "execution_count": 189,
     "metadata": {},
     "output_type": "execute_result"
    }
   ],
   "source": [
    "len(set(dataset[\"speaker_id\"]))"
   ]
  },
  {
   "cell_type": "code",
   "execution_count": 190,
   "id": "b04c4958-8355-4eaa-8c33-b21f36cb3664",
   "metadata": {
    "tags": []
   },
   "outputs": [
    {
     "data": {
      "text/plain": [
       "24459"
      ]
     },
     "execution_count": 190,
     "metadata": {},
     "output_type": "execute_result"
    }
   ],
   "source": [
    "len(dataset)"
   ]
  },
  {
   "cell_type": "markdown",
   "id": "f180e5ac-d51b-401a-ae39-3bad8c5e8fca",
   "metadata": {},
   "source": [
    "#### Speaker embeddings"
   ]
  },
  {
   "cell_type": "code",
   "execution_count": 191,
   "id": "79a60954-2dea-4e07-835a-1439cb32c68f",
   "metadata": {},
   "outputs": [],
   "source": [
    "# needed to differentiate between multiple speakers\n",
    "import os\n",
    "import torch\n",
    "from speechbrain.pretrained import EncoderClassifier\n",
    "\n",
    "spk_model_name = \"speechbrain/spkrec-xvect-voxceleb\"\n",
    "device = \"cuda\"\n",
    "speaker_model = EncoderClassifier.from_hparams(source=spk_model_name, run_opts={\"device\":device}, savedir=os.path.join(\"/tmp\", spk_model_name))"
   ]
  },
  {
   "cell_type": "code",
   "execution_count": 192,
   "id": "318d4930-1a7e-4356-b998-e653de7e551d",
   "metadata": {},
   "outputs": [],
   "source": [
    "def create_speaker_embedding(waveform):\n",
    "    with torch.no_grad():\n",
    "        speaker_embeddings = speaker_model.encode_batch(torch.tensor(waveform))\n",
    "        speaker_embeddings = torch.nn.functional.normalize(speaker_embeddings, dim=2)\n",
    "        speaker_embeddings = speaker_embeddings.squeeze().cpu().numpy()\n",
    "    return speaker_embeddings"
   ]
  },
  {
   "cell_type": "markdown",
   "id": "0c763a55-766e-46c9-b8ee-10fbf339d904",
   "metadata": {},
   "source": [
    "#### Processing the dataset"
   ]
  },
  {
   "cell_type": "code",
   "execution_count": 193,
   "id": "2ef8bb91-943c-420a-b654-a2841c077233",
   "metadata": {},
   "outputs": [],
   "source": [
    "def prepare_dataset(example):\n",
    "    audio = example[\"audio\"]\n",
    "    example = processor(text=example[\"normalized_text\"], audio_target=audio[\"array\"], sampling_rate=audio[\"sampling_rate\"], return_attention_mask=False)\n",
    "    # strip off batch dimension\n",
    "    example[\"labels\"] = example[\"labels\"][0]\n",
    "    \n",
    "    #use SpeechBrain to get x-vector\n",
    "    example[\"speaker_embeddings\"] = create_speaker_embedding(audio[\"array\"])\n",
    "    return example"
   ]
  },
  {
   "cell_type": "code",
   "execution_count": 194,
   "id": "0782d37c-5288-471a-ae55-b931e2110f3f",
   "metadata": {},
   "outputs": [
    {
     "data": {
      "text/plain": [
       "['input_ids', 'labels', 'speaker_embeddings']"
      ]
     },
     "execution_count": 194,
     "metadata": {},
     "output_type": "execute_result"
    }
   ],
   "source": [
    "# test with one example\n",
    "processed_example = prepare_dataset(dataset[0])\n",
    "list(processed_example.keys())"
   ]
  },
  {
   "cell_type": "code",
   "execution_count": 195,
   "id": "1f9075c3-a062-4a17-ad72-4b7cb5c3062a",
   "metadata": {},
   "outputs": [
    {
     "data": {
      "text/plain": [
       "(512,)"
      ]
     },
     "execution_count": 195,
     "metadata": {},
     "output_type": "execute_result"
    }
   ],
   "source": [
    "# check embeddings shape\n",
    "processed_example[\"speaker_embeddings\"].shape"
   ]
  },
  {
   "cell_type": "code",
   "execution_count": 196,
   "id": "68608f0d-a4c3-4205-ab8f-5daeec43c661",
   "metadata": {},
   "outputs": [
    {
     "data": {
      "image/png": "[encoded data removed]",
      "text/plain": [
       "<Figure size 640x480 with 1 Axes>"
      ]
     },
     "metadata": {},
     "output_type": "display_data"
    }
   ],
   "source": [
    "# check labels is log-mel spectrogram with 80 bins\n",
    "import matplotlib.pyplot as plt\n",
    "plt.figure()\n",
    "plt.imshow(processed_example[\"labels\"].T)\n",
    "plt.show()"
   ]
  },
  {
   "cell_type": "code",
   "execution_count": 200,
   "id": "003bdbd4-6a87-4afc-895d-61ea9623ad41",
   "metadata": {},
   "outputs": [
    {
     "data": {
      "text/plain": [
       "24459"
      ]
     },
     "execution_count": 200,
     "metadata": {},
     "output_type": "execute_result"
    }
   ],
   "source": [
    "len(dataset)"
   ]
  },
  {
   "cell_type": "code",
   "execution_count": 201,
   "id": "2f3a5276-c866-4f93-8d13-36a985112703",
   "metadata": {},
   "outputs": [
    {
     "data": {
      "application/vnd.jupyter.widget-view+json": {
       "model_id": "dce67dd592804201bec001fa7bc0ae02",
       "version_major": 2,
       "version_minor": 0
      },
      "text/plain": [
       "  0%|          | 0/24459 [00:00<?, ?ex/s]"
      ]
     },
     "metadata": {},
     "output_type": "display_data"
    },
    {
     "data": {
      "text/plain": [
       "Dataset({\n",
       "    features: ['input_ids', 'labels', 'speaker_embeddings'],\n",
       "    num_rows: 24459\n",
       "})"
      ]
     },
     "execution_count": 201,
     "metadata": {},
     "output_type": "execute_result"
    }
   ],
   "source": [
    "dataset = dataset.map(prepare_dataset, remove_columns=dataset.column_names, num_proc=1)\n",
    "dataset"
   ]
  },
  {
   "cell_type": "code",
   "execution_count": 202,
   "id": "2d4ba88f-0725-4695-b6f6-6df658ea4f3c",
   "metadata": {},
   "outputs": [
    {
     "data": {
      "text/plain": [
       "['input_ids', 'labels', 'speaker_embeddings']"
      ]
     },
     "execution_count": 202,
     "metadata": {},
     "output_type": "execute_result"
    }
   ],
   "source": [
    "dataset.column_names"
   ]
  },
  {
   "cell_type": "code",
   "execution_count": 203,
   "id": "4ab67cc6-da1a-4782-a196-84b5e822adca",
   "metadata": {},
   "outputs": [],
   "source": [
    "from collections import defaultdict\n",
    "lengths = defaultdict(int)\n",
    "for input_id in dataset[\"input_ids\"]:\n",
    "    lengths[len(input_id)] += 1"
   ]
  },
  {
   "cell_type": "code",
   "execution_count": 204,
   "id": "caf744c5-989f-428c-889b-0dd9dae8105d",
   "metadata": {},
   "outputs": [
    {
     "data": {
      "image/png": "[encoded data removed]",
      "text/plain": [
       "<Figure size 640x480 with 1 Axes>"
      ]
     },
     "metadata": {},
     "output_type": "display_data"
    }
   ],
   "source": [
    "import matplotlib.pyplot as plt\n",
    "\n",
    "plt.figure()\n",
    "plt.hist(lengths.values(), bins=20)\n",
    "plt.ylabel(\"Lengths\")\n",
    "plt.xlabel(\"Examples\")\n",
    "plt.show()"
   ]
  },
  {
   "cell_type": "code",
   "execution_count": 205,
   "id": "73020d92-4ece-4fd5-93dc-a863fc55c969",
   "metadata": {},
   "outputs": [
    {
     "data": {
      "text/plain": [
       "24459"
      ]
     },
     "execution_count": 205,
     "metadata": {},
     "output_type": "execute_result"
    }
   ],
   "source": [
    "len(dataset)"
   ]
  },
  {
   "cell_type": "code",
   "execution_count": 206,
   "id": "41fccb65-a660-47f8-af4b-3db60f7d3732",
   "metadata": {},
   "outputs": [
    {
     "data": {
      "application/vnd.jupyter.widget-view+json": {
       "model_id": "5cf600467fe9421eaaaca968a565a61f",
       "version_major": 2,
       "version_minor": 0
      },
      "text/plain": [
       "  0%|          | 0/25 [00:00<?, ?ba/s]"
      ]
     },
     "metadata": {},
     "output_type": "display_data"
    },
    {
     "data": {
      "text/plain": [
       "23745"
      ]
     },
     "execution_count": 206,
     "metadata": {},
     "output_type": "execute_result"
    }
   ],
   "source": [
    "def is_not_too_long(input_ids):\n",
    "    input_length = len(input_ids)\n",
    "    return input_length < 400\n",
    "dataset = dataset.filter(is_not_too_long, input_columns=[\"input_ids\"])\n",
    "len(dataset)"
   ]
  },
  {
   "cell_type": "code",
   "execution_count": 207,
   "id": "7ea327b6-c0b3-4983-85be-3eb48555037d",
   "metadata": {},
   "outputs": [
    {
     "data": {
      "text/plain": [
       "23745"
      ]
     },
     "execution_count": 207,
     "metadata": {},
     "output_type": "execute_result"
    }
   ],
   "source": [
    "len(dataset)"
   ]
  },
  {
   "cell_type": "code",
   "execution_count": 208,
   "id": "7f4fe037-b235-497b-9d6d-66f31d5429e3",
   "metadata": {},
   "outputs": [],
   "source": [
    "dataset = dataset.train_test_split(test_size=0.1)"
   ]
  },
  {
   "cell_type": "markdown",
   "id": "46a88b34-fba7-45f3-ac14-052efa8aa835",
   "metadata": {},
   "source": [
    "#### Data collator"
   ]
  },
  {
   "cell_type": "code",
   "execution_count": 209,
   "id": "c31b4727-ca12-491c-9367-19f656fb7be5",
   "metadata": {},
   "outputs": [],
   "source": [
    "# to combine multiple examples into a batch, you need to define a custom data collator. \n",
    "from dataclasses import dataclass\n",
    "from typing import Any, Dict, List, Union\n",
    "\n",
    "\n",
    "@dataclass\n",
    "class TTSDataCollatorWithPadding:\n",
    "    processor: Any\n",
    "\n",
    "    def __call__(\n",
    "        self, features: List[Dict[str, Union[List[int], torch.Tensor]]]\n",
    "    ) -> Dict[str, torch.Tensor]:\n",
    "        input_ids = [{\"input_ids\": feature[\"input_ids\"]} for feature in features]\n",
    "        label_features = [{\"input_values\": feature[\"labels\"]} for feature in features]\n",
    "        speaker_features = [feature[\"speaker_embeddings\"] for feature in features]\n",
    "\n",
    "        # collate the inputs and targets into a batch\n",
    "        batch = processor.pad(\n",
    "            input_ids=input_ids, labels=label_features, return_tensors=\"pt\"\n",
    "        )\n",
    "\n",
    "        # replace padding with -100 to ignore loss correctly\n",
    "        batch[\"labels\"] = batch[\"labels\"].masked_fill(\n",
    "            batch.decoder_attention_mask.unsqueeze(-1).ne(1), -100\n",
    "        )\n",
    "\n",
    "        # not used during fine-tuning\n",
    "        del batch[\"decoder_attention_mask\"]\n",
    "\n",
    "        # round down target lengths to multiple of reduction factor\n",
    "        if model.config.reduction_factor > 1:\n",
    "            target_lengths = torch.tensor(\n",
    "                [len(feature[\"input_values\"]) for feature in label_features]\n",
    "            )\n",
    "            target_lengths = target_lengths.new(\n",
    "                [\n",
    "                    length - length % model.config.reduction_factor\n",
    "                    for length in target_lengths\n",
    "                ]\n",
    "            )\n",
    "            max_length = max(target_lengths)\n",
    "            batch[\"labels\"] = batch[\"labels\"][:, :max_length]\n",
    "\n",
    "        # also add in the speaker embeddings\n",
    "        batch[\"speaker_embeddings\"] = torch.tensor(speaker_features)\n",
    "\n",
    "        return batch"
   ]
  },
  {
   "cell_type": "code",
   "execution_count": 210,
   "id": "7a029e4f-ecde-472c-9923-b32cbbb1c44c",
   "metadata": {},
   "outputs": [],
   "source": [
    "data_collator = TTSDataCollatorWithPadding(processor=processor)"
   ]
  },
  {
   "cell_type": "markdown",
   "id": "dd3625cb-8466-42d2-ad0c-726f11212451",
   "metadata": {},
   "source": [
    "### Train the model"
   ]
  },
  {
   "cell_type": "code",
   "execution_count": 211,
   "id": "27c327da-8030-4650-bf5d-570c4a48a219",
   "metadata": {},
   "outputs": [],
   "source": [
    "from transformers import SpeechT5ForTextToSpeech\n",
    "model = SpeechT5ForTextToSpeech.from_pretrained(checkpoint)"
   ]
  },
  {
   "cell_type": "code",
   "execution_count": 212,
   "id": "b94c4179-0c48-4d57-8f5b-36c4f95e1c8b",
   "metadata": {},
   "outputs": [],
   "source": [
    "from functools import partial\n",
    "\n",
    "# disable cache during training since it's incompatible with gradient checkpointing\n",
    "model.config.use_cache = False\n",
    "\n",
    "# set language and task for generation and re-enable cache\n",
    "model.generate = partial(model.generate, use_cache=True)"
   ]
  },
  {
   "cell_type": "code",
   "execution_count": 118,
   "id": "6ab04a73-a97b-4480-8607-dbf45af3eb55",
   "metadata": {},
   "outputs": [
    {
     "name": "stderr",
     "output_type": "stream",
     "text": [
      "\u001b[34m\u001b[1mwandb\u001b[0m: Logging into wandb.ai. (Learn how to deploy a W&B server locally: https://wandb.me/wandb-server)\n",
      "\u001b[34m\u001b[1mwandb\u001b[0m: You can find your API key in your browser here: https://wandb.ai/authorize\n",
      "\u001b[34m\u001b[1mwandb\u001b[0m: Paste an API key from your profile and hit enter, or press ctrl+c to quit:"
     ]
    },
    {
     "name": "stdin",
     "output_type": "stream",
     "text": [
      "  ········\n"
     ]
    },
    {
     "name": "stderr",
     "output_type": "stream",
     "text": [
      "\u001b[34m\u001b[1mwandb\u001b[0m: Appending key for api.wandb.ai to your netrc file: /root/.netrc\n"
     ]
    },
    {
     "data": {
      "text/plain": [
       "True"
      ]
     },
     "execution_count": 118,
     "metadata": {},
     "output_type": "execute_result"
    }
   ],
   "source": [
    "import wandb\n",
    "wandb.login()"
   ]
  },
  {
   "cell_type": "code",
   "execution_count": 213,
   "id": "d4ff2a10-d4cf-426f-bcbb-99909b6446d6",
   "metadata": {},
   "outputs": [
    {
     "data": {
      "text/html": [
       "Finishing last run (ID:uminvg6d) before initializing another..."
      ],
      "text/plain": [
       "<IPython.core.display.HTML object>"
      ]
     },
     "metadata": {},
     "output_type": "display_data"
    },
    {
     "data": {
      "text/html": [
       "Waiting for W&B process to finish... <strong style=\"color:green\">(success).</strong>"
      ],
      "text/plain": [
       "<IPython.core.display.HTML object>"
      ]
     },
     "metadata": {},
     "output_type": "display_data"
    },
    {
     "data": {
      "text/html": [
       "<style>\n",
       "    table.wandb td:nth-child(1) { padding: 0 10px; text-align: left ; width: auto;} td:nth-child(2) {text-align: left ; width: 100%}\n",
       "    .wandb-row { display: flex; flex-direction: row; flex-wrap: wrap; justify-content: flex-start; width: 100% }\n",
       "    .wandb-col { display: flex; flex-direction: column; flex-basis: 100%; flex: 1; padding: 10px; }\n",
       "    </style>\n",
       "<div class=\"wandb-row\"><div class=\"wandb-col\"><h3>Run history:</h3><br/><table class=\"wandb\"><tr><td>train/epoch</td><td>▁</td></tr><tr><td>train/global_step</td><td>▁</td></tr><tr><td>train/learning_rate</td><td>▁</td></tr><tr><td>train/loss</td><td>▁</td></tr></table><br/></div><div class=\"wandb-col\"><h3>Run summary:</h3><br/><table class=\"wandb\"><tr><td>train/epoch</td><td>0.07</td></tr><tr><td>train/global_step</td><td>25</td></tr><tr><td>train/learning_rate</td><td>0.0</td></tr><tr><td>train/loss</td><td>0.7141</td></tr></table><br/></div></div>"
      ],
      "text/plain": [
       "<IPython.core.display.HTML object>"
      ]
     },
     "metadata": {},
     "output_type": "display_data"
    },
    {
     "data": {
      "text/html": [
       " View run <strong style=\"color:#cdcd00\">dazzling-brook-1</strong> at: <a href='https://wandb.ai/ptah23/huggingface-audio-course-unit6-handson/runs/uminvg6d' target=\"_blank\">https://wandb.ai/ptah23/huggingface-audio-course-unit6-handson/runs/uminvg6d</a><br/>Synced 5 W&B file(s), 0 media file(s), 2 artifact file(s) and 0 other file(s)"
      ],
      "text/plain": [
       "<IPython.core.display.HTML object>"
      ]
     },
     "metadata": {},
     "output_type": "display_data"
    },
    {
     "data": {
      "text/html": [
       "Find logs at: <code>./wandb/run-20230712_231048-uminvg6d/logs</code>"
      ],
      "text/plain": [
       "<IPython.core.display.HTML object>"
      ]
     },
     "metadata": {},
     "output_type": "display_data"
    },
    {
     "data": {
      "text/html": [
       "Successfully finished last run (ID:uminvg6d). Initializing new run:<br/>"
      ],
      "text/plain": [
       "<IPython.core.display.HTML object>"
      ]
     },
     "metadata": {},
     "output_type": "display_data"
    },
    {
     "data": {
      "application/vnd.jupyter.widget-view+json": {
       "model_id": "410ce9106b6c48189068cd725de35d58",
       "version_major": 2,
       "version_minor": 0
      },
      "text/plain": [
       "VBox(children=(Label(value='Waiting for wandb.init()...\\r'), FloatProgress(value=0.016669898799833997, max=1.0…"
      ]
     },
     "metadata": {},
     "output_type": "display_data"
    },
    {
     "data": {
      "text/html": [
       "Tracking run with wandb version 0.15.5"
      ],
      "text/plain": [
       "<IPython.core.display.HTML object>"
      ]
     },
     "metadata": {},
     "output_type": "display_data"
    },
    {
     "data": {
      "text/html": [
       "Run data is saved locally in <code>/notebooks/wandb/run-20230713_002720-uminvg6d</code>"
      ],
      "text/plain": [
       "<IPython.core.display.HTML object>"
      ]
     },
     "metadata": {},
     "output_type": "display_data"
    },
    {
     "data": {
      "text/html": [
       "Resuming run <strong><a href='https://wandb.ai/ptah23/huggingface-audio-course-unit6-handson/runs/uminvg6d' target=\"_blank\">dazzling-brook-1</a></strong> to <a href='https://wandb.ai/ptah23/huggingface-audio-course-unit6-handson' target=\"_blank\">Weights & Biases</a> (<a href='https://wandb.me/run' target=\"_blank\">docs</a>)<br/>"
      ],
      "text/plain": [
       "<IPython.core.display.HTML object>"
      ]
     },
     "metadata": {},
     "output_type": "display_data"
    },
    {
     "data": {
      "text/html": [
       " View project at <a href='https://wandb.ai/ptah23/huggingface-audio-course-unit6-handson' target=\"_blank\">https://wandb.ai/ptah23/huggingface-audio-course-unit6-handson</a>"
      ],
      "text/plain": [
       "<IPython.core.display.HTML object>"
      ]
     },
     "metadata": {},
     "output_type": "display_data"
    },
    {
     "data": {
      "text/html": [
       " View run at <a href='https://wandb.ai/ptah23/huggingface-audio-course-unit6-handson/runs/uminvg6d' target=\"_blank\">https://wandb.ai/ptah23/huggingface-audio-course-unit6-handson/runs/uminvg6d</a>"
      ],
      "text/plain": [
       "<IPython.core.display.HTML object>"
      ]
     },
     "metadata": {},
     "output_type": "display_data"
    },
    {
     "data": {
      "text/html": [
       "<button onClick=\"this.nextSibling.style.display='block';this.style.display='none';\">Display W&B run</button><iframe src='https://wandb.ai/ptah23/huggingface-audio-course-unit6-handson/runs/uminvg6d?jupyter=true' style='border:none;width:100%;height:420px;display:none;'></iframe>"
      ],
      "text/plain": [
       "<wandb.sdk.wandb_run.Run at 0x7fc439884430>"
      ]
     },
     "execution_count": 213,
     "metadata": {},
     "output_type": "execute_result"
    }
   ],
   "source": [
    "wandb.init(project=\"huggingface-audio-course-unit6-handson\", resume=True)"
   ]
  },
  {
   "cell_type": "code",
   "execution_count": 214,
   "id": "f330a121-6d85-49c0-bb37-f9035bdbbac8",
   "metadata": {},
   "outputs": [],
   "source": [
    "from transformers import Seq2SeqTrainingArguments\n",
    "\n",
    "training_args = Seq2SeqTrainingArguments(\n",
    "    output_dir=\"speecht5_finetuned_voxpopuli_es\",  # change to a repo name of your choice\n",
    "    per_device_train_batch_size=4,\n",
    "    gradient_accumulation_steps=8,\n",
    "    learning_rate=1e-5,\n",
    "    warmup_steps=500,\n",
    "    max_steps=4000,\n",
    "    gradient_checkpointing=True,\n",
    "    fp16=True,\n",
    "    evaluation_strategy=\"steps\",\n",
    "    per_device_eval_batch_size=4,\n",
    "    save_steps=100,\n",
    "    eval_steps=100,\n",
    "    logging_steps=25,\n",
    "    report_to=[\"wandb\"],\n",
    "    load_best_model_at_end=True,\n",
    "    greater_is_better=False,\n",
    "    label_names=[\"labels\"],\n",
    "    push_to_hub=True,\n",
    ")"
   ]
  },
  {
   "cell_type": "code",
   "execution_count": 215,
   "id": "2bd04ff5-f13b-4d52-b22f-59cff74bb1a5",
   "metadata": {},
   "outputs": [
    {
     "name": "stderr",
     "output_type": "stream",
     "text": [
      "/notebooks/speecht5_finetuned_voxpopuli_es is already a clone of https://huggingface.co/ptah23/speecht5_finetuned_voxpopuli_es. Make sure you pull the latest changes with `repo.git_pull()`.\n"
     ]
    }
   ],
   "source": [
    "from transformers import Seq2SeqTrainer\n",
    "\n",
    "trainer = Seq2SeqTrainer(\n",
    "    args=training_args,\n",
    "    model=model,\n",
    "    train_dataset=dataset[\"train\"],\n",
    "    eval_dataset=dataset[\"test\"],\n",
    "    data_collator=data_collator,\n",
    "    tokenizer=processor,\n",
    ")"
   ]
  },
  {
   "cell_type": "code",
   "execution_count": null,
   "id": "acb4ca7e-a87e-4ba4-83c5-12ce48f81429",
   "metadata": {},
   "outputs": [
    {
     "name": "stderr",
     "output_type": "stream",
     "text": [
      "/usr/local/lib/python3.9/dist-packages/transformers/optimization.py:411: FutureWarning: This implementation of AdamW is deprecated and will be removed in a future version. Use the PyTorch implementation torch.optim.AdamW instead, or set `no_deprecation_warning=True` to disable this warning\n",
      "  warnings.warn(\n"
     ]
    },
    {
     "data": {
      "text/html": [
       "\n",
       "    <div>\n",
       "      \n",
       "      <progress value='201' max='4000' style='width:300px; height:20px; vertical-align: middle;'></progress>\n",
       "      [ 201/4000 08:53 < 2:49:49, 0.37 it/s, Epoch 0.30/6]\n",
       "    </div>\n",
       "    <table border=\"1\" class=\"dataframe\">\n",
       "  <thead>\n",
       " <tr style=\"text-align: left;\">\n",
       "      <th>Step</th>\n",
       "      <th>Training Loss</th>\n",
       "      <th>Validation Loss</th>\n",
       "    </tr>\n",
       "  </thead>\n",
       "  <tbody>\n",
       "    <tr>\n",
       "      <td>100</td>\n",
       "      <td>0.688300</td>\n",
       "      <td>0.607535</td>\n",
       "    </tr>\n",
       "  </tbody>\n",
       "</table><p>\n",
       "    <div>\n",
       "      \n",
       "      <progress value='436' max='594' style='width:300px; height:20px; vertical-align: middle;'></progress>\n",
       "      [436/594 01:02 < 00:22, 6.95 it/s]\n",
       "    </div>\n",
       "    "
      ],
      "text/plain": [
       "<IPython.core.display.HTML object>"
      ]
     },
     "metadata": {},
     "output_type": "display_data"
    },
    {
     "name": "stderr",
     "output_type": "stream",
     "text": [
      "Several commits (2) will be pushed upstream.\n"
     ]
    }
   ],
   "source": [
    "trainer.train()\n",
    "#trainer.train(resume_from_checkpoint=True)"
   ]
  },
  {
   "cell_type": "code",
   "execution_count": null,
   "id": "1f102b72-19f1-453f-8ea9-21034b557704",
   "metadata": {},
   "outputs": [],
   "source": [
    "kwargs = {\n",
    "    \"dataset_tags\": \"facebook/voxpopuli\",\n",
    "    \"dataset\": \"Vox Populi ES\",  # a 'pretty' name for the training dataset\n",
    "    \"language\": \"es\",\n",
    "    \"model_name\": \"speec T5 ES - Peter Gelderbloem\",  # a 'pretty' name for your model\n",
    "    \"finetuned_from\": \"microsoft/speecht5_tts\",\n",
    "    \"tasks\": \"text-to-speech\",\n",
    "}\n",
    "trainer.push_to_hub(**kwargs)"
   ]
  },
  {
   "cell_type": "markdown",
   "id": "ce2db2a9-14d6-4e81-a9be-c5902ddf217b",
   "metadata": {},
   "source": [
    "### Inference"
   ]
  },
  {
   "cell_type": "code",
   "execution_count": 52,
   "id": "c7e5008c-7182-48d6-822f-d4442f6233b7",
   "metadata": {},
   "outputs": [
    {
     "data": {
      "application/vnd.jupyter.widget-view+json": {
       "model_id": "caed0f0b2df149a0b0c8e8c122382822",
       "version_major": 2,
       "version_minor": 0
      },
      "text/plain": [
       "Downloading (…)lve/main/config.json:   0%|          | 0.00/2.11k [00:00<?, ?B/s]"
      ]
     },
     "metadata": {},
     "output_type": "display_data"
    },
    {
     "data": {
      "application/vnd.jupyter.widget-view+json": {
       "model_id": "efd246e6a0bb4b83b2c9fac7babb0f7a",
       "version_major": 2,
       "version_minor": 0
      },
      "text/plain": [
       "Downloading pytorch_model.bin:   0%|          | 0.00/578M [00:00<?, ?B/s]"
      ]
     },
     "metadata": {},
     "output_type": "display_data"
    }
   ],
   "source": [
    "model = SpeechT5ForTextToSpeech.from_pretrained(\"ptah23/speecht5_finetuned_voxpopuli_es\")"
   ]
  },
  {
   "cell_type": "code",
   "execution_count": 62,
   "id": "19a86618-df76-4e08-b2ba-4ff54b20443b",
   "metadata": {},
   "outputs": [],
   "source": [
    "example = dataset[\"test\"][122]\n",
    "speaker_embeddings = torch.tensor(example[\"speaker_embeddings\"]).unsqueeze(0)"
   ]
  },
  {
   "cell_type": "code",
   "execution_count": 66,
   "id": "29dd246e-3654-420f-a309-d73852245605",
   "metadata": {},
   "outputs": [],
   "source": [
    "text = \"ek praat afrikaans\"\n",
    "inputs = processor(text=text, return_tensors=\"pt\")"
   ]
  },
  {
   "cell_type": "code",
   "execution_count": 67,
   "id": "61af5bc3-cd55-4524-a232-8fab92dd7ccb",
   "metadata": {},
   "outputs": [],
   "source": [
    "# instantiate vocoder and generate\n",
    "from transformers import SpeechT5HifiGan\n",
    "vocoder = SpeechT5HifiGan.from_pretrained(\"microsoft/speecht5_hifigan\")\n",
    "speech = model.generate_speech(inputs[\"input_ids\"], speaker_embeddings, vocoder=vocoder)"
   ]
  },
  {
   "cell_type": "code",
   "execution_count": 68,
   "id": "95b92404-48dc-448c-8323-aca1bf0944d4",
   "metadata": {},
   "outputs": [
    {
     "data": {
      "text/html": [
       "\n",
       "                <audio  controls=\"controls\" >\n",
       "                    <source src=\"data:audio/wav;base64,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\" type=\"audio/wav\" />\n",
       "                    Your browser does not support the audio element.\n",
       "                </audio>\n",
       "              "
      ],
      "text/plain": [
       "<IPython.lib.display.Audio object>"
      ]
     },
     "execution_count": 68,
     "metadata": {},
     "output_type": "execute_result"
    }
   ],
   "source": [
    "import IPython\n",
    "IPython.display.Audio(speech.numpy(), rate=16000)"
   ]
  },
  {
   "cell_type": "code",
   "execution_count": null,
   "id": "67e2090b-5463-41c5-8e06-1294730586b4",
   "metadata": {},
   "outputs": [],
   "source": []
  }
 ],
 "metadata": {
  "kernelspec": {
   "display_name": "Python 3 (ipykernel)",
   "language": "python",
   "name": "python3"
  },
  "language_info": {
   "codemirror_mode": {
    "name": "ipython",
    "version": 3
   },
   "file_extension": ".py",
   "mimetype": "text/x-python",
   "name": "python",
   "nbconvert_exporter": "python",
   "pygments_lexer": "ipython3",
   "version": "3.9.16"
  }
 },
 "nbformat": 4,
 "nbformat_minor": 5
}
