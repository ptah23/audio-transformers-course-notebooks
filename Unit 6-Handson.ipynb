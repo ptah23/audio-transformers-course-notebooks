{
 "cells": [
  {
   "cell_type": "code",
   "execution_count": 1,
   "id": "a6239771-932a-40fa-a814-70b9c10105d6",
   "metadata": {},
   "outputs": [
    {
     "name": "stdout",
     "output_type": "stream",
     "text": [
      "Requirement already satisfied: transformers in /usr/local/lib/python3.9/dist-packages (4.21.3)\n",
      "Collecting transformers\n",
      "  Downloading transformers-4.30.2-py3-none-any.whl (7.2 MB)\n",
      "\u001b[2K     \u001b[90m━━━━━━━━━━━━━━━━━━━━━━━━━━━━━━━━━━━━━━━━\u001b[0m \u001b[32m7.2/7.2 MB\u001b[0m \u001b[31m92.7 MB/s\u001b[0m eta \u001b[36m0:00:00\u001b[0m:00:01\u001b[0m00:01\u001b[0m\n",
      "\u001b[?25hRequirement already satisfied: requests in /usr/local/lib/python3.9/dist-packages (from transformers) (2.28.2)\n",
      "Requirement already satisfied: pyyaml>=5.1 in /usr/local/lib/python3.9/dist-packages (from transformers) (5.4.1)\n",
      "Requirement already satisfied: numpy>=1.17 in /usr/local/lib/python3.9/dist-packages (from transformers) (1.23.4)\n",
      "Requirement already satisfied: tokenizers!=0.11.3,<0.14,>=0.11.1 in /usr/local/lib/python3.9/dist-packages (from transformers) (0.12.1)\n",
      "Collecting huggingface-hub<1.0,>=0.14.1\n",
      "  Downloading huggingface_hub-0.16.4-py3-none-any.whl (268 kB)\n",
      "\u001b[2K     \u001b[90m━━━━━━━━━━━━━━━━━━━━━━━━━━━━━━━━━━━━━━\u001b[0m \u001b[32m268.8/268.8 kB\u001b[0m \u001b[31m68.8 MB/s\u001b[0m eta \u001b[36m0:00:00\u001b[0m\n",
      "\u001b[?25hRequirement already satisfied: filelock in /usr/local/lib/python3.9/dist-packages (from transformers) (3.9.0)\n",
      "Requirement already satisfied: tqdm>=4.27 in /usr/local/lib/python3.9/dist-packages (from transformers) (4.64.1)\n",
      "Collecting safetensors>=0.3.1\n",
      "  Downloading safetensors-0.3.1-cp39-cp39-manylinux_2_17_x86_64.manylinux2014_x86_64.whl (1.3 MB)\n",
      "\u001b[2K     \u001b[90m━━━━━━━━━━━━━━━━━━━━━━━━━━━━━━━━━━━━━━━━\u001b[0m \u001b[32m1.3/1.3 MB\u001b[0m \u001b[31m96.8 MB/s\u001b[0m eta \u001b[36m0:00:00\u001b[0m\n",
      "\u001b[?25hRequirement already satisfied: regex!=2019.12.17 in /usr/local/lib/python3.9/dist-packages (from transformers) (2022.10.31)\n",
      "Requirement already satisfied: packaging>=20.0 in /usr/local/lib/python3.9/dist-packages (from transformers) (23.0)\n",
      "Requirement already satisfied: fsspec in /usr/local/lib/python3.9/dist-packages (from huggingface-hub<1.0,>=0.14.1->transformers) (2023.1.0)\n",
      "Requirement already satisfied: typing-extensions>=3.7.4.3 in /usr/local/lib/python3.9/dist-packages (from huggingface-hub<1.0,>=0.14.1->transformers) (4.4.0)\n",
      "Requirement already satisfied: certifi>=2017.4.17 in /usr/lib/python3/dist-packages (from requests->transformers) (2019.11.28)\n",
      "Requirement already satisfied: idna<4,>=2.5 in /usr/lib/python3/dist-packages (from requests->transformers) (2.8)\n",
      "Requirement already satisfied: urllib3<1.27,>=1.21.1 in /usr/local/lib/python3.9/dist-packages (from requests->transformers) (1.26.14)\n",
      "Requirement already satisfied: charset-normalizer<4,>=2 in /usr/local/lib/python3.9/dist-packages (from requests->transformers) (2.1.1)\n",
      "Installing collected packages: safetensors, huggingface-hub, transformers\n",
      "  Attempting uninstall: huggingface-hub\n",
      "    Found existing installation: huggingface-hub 0.12.0\n",
      "    Uninstalling huggingface-hub-0.12.0:\n",
      "      Successfully uninstalled huggingface-hub-0.12.0\n",
      "  Attempting uninstall: transformers\n",
      "    Found existing installation: transformers 4.21.3\n",
      "    Uninstalling transformers-4.21.3:\n",
      "      Successfully uninstalled transformers-4.21.3\n",
      "Successfully installed huggingface-hub-0.16.4 safetensors-0.3.1 transformers-4.30.2\n",
      "\u001b[33mWARNING: Running pip as the 'root' user can result in broken permissions and conflicting behaviour with the system package manager. It is recommended to use a virtual environment instead: https://pip.pypa.io/warnings/venv\u001b[0m\u001b[33m\n",
      "\u001b[0m"
     ]
    }
   ],
   "source": [
    "!pip install -U transformers\n"
   ]
  },
  {
   "cell_type": "code",
   "execution_count": 2,
   "id": "6f39dbd6-72d1-4654-bb69-434fa88e40db",
   "metadata": {},
   "outputs": [
    {
     "name": "stdout",
     "output_type": "stream",
     "text": [
      "Requirement already satisfied: datasets in /usr/local/lib/python3.9/dist-packages (2.4.0)\n",
      "Requirement already satisfied: huggingface-hub<1.0.0,>=0.1.0 in /usr/local/lib/python3.9/dist-packages (from datasets) (0.16.4)\n",
      "Requirement already satisfied: packaging in /usr/local/lib/python3.9/dist-packages (from datasets) (23.0)\n",
      "Requirement already satisfied: requests>=2.19.0 in /usr/local/lib/python3.9/dist-packages (from datasets) (2.28.2)\n",
      "Requirement already satisfied: fsspec[http]>=2021.11.1 in /usr/local/lib/python3.9/dist-packages (from datasets) (2023.1.0)\n",
      "Requirement already satisfied: responses<0.19 in /usr/local/lib/python3.9/dist-packages (from datasets) (0.18.0)\n",
      "Requirement already satisfied: pandas in /usr/local/lib/python3.9/dist-packages (from datasets) (1.5.0)\n",
      "Requirement already satisfied: multiprocess in /usr/local/lib/python3.9/dist-packages (from datasets) (0.70.13)\n",
      "Requirement already satisfied: xxhash in /usr/local/lib/python3.9/dist-packages (from datasets) (3.2.0)\n",
      "Requirement already satisfied: aiohttp in /usr/local/lib/python3.9/dist-packages (from datasets) (3.8.3)\n",
      "Requirement already satisfied: pyarrow>=6.0.0 in /usr/local/lib/python3.9/dist-packages (from datasets) (10.0.1)\n",
      "Requirement already satisfied: numpy>=1.17 in /usr/local/lib/python3.9/dist-packages (from datasets) (1.23.4)\n",
      "Requirement already satisfied: dill<0.3.6 in /usr/local/lib/python3.9/dist-packages (from datasets) (0.3.5.1)\n",
      "Requirement already satisfied: tqdm>=4.62.1 in /usr/local/lib/python3.9/dist-packages (from datasets) (4.64.1)\n",
      "Requirement already satisfied: multidict<7.0,>=4.5 in /usr/local/lib/python3.9/dist-packages (from aiohttp->datasets) (6.0.4)\n",
      "Requirement already satisfied: frozenlist>=1.1.1 in /usr/local/lib/python3.9/dist-packages (from aiohttp->datasets) (1.3.3)\n",
      "Requirement already satisfied: charset-normalizer<3.0,>=2.0 in /usr/local/lib/python3.9/dist-packages (from aiohttp->datasets) (2.1.1)\n",
      "Requirement already satisfied: attrs>=17.3.0 in /usr/local/lib/python3.9/dist-packages (from aiohttp->datasets) (18.2.0)\n",
      "Requirement already satisfied: aiosignal>=1.1.2 in /usr/local/lib/python3.9/dist-packages (from aiohttp->datasets) (1.3.1)\n",
      "Requirement already satisfied: yarl<2.0,>=1.0 in /usr/local/lib/python3.9/dist-packages (from aiohttp->datasets) (1.8.2)\n",
      "Requirement already satisfied: async-timeout<5.0,>=4.0.0a3 in /usr/local/lib/python3.9/dist-packages (from aiohttp->datasets) (4.0.2)\n",
      "Requirement already satisfied: pyyaml>=5.1 in /usr/local/lib/python3.9/dist-packages (from huggingface-hub<1.0.0,>=0.1.0->datasets) (5.4.1)\n",
      "Requirement already satisfied: filelock in /usr/local/lib/python3.9/dist-packages (from huggingface-hub<1.0.0,>=0.1.0->datasets) (3.9.0)\n",
      "Requirement already satisfied: typing-extensions>=3.7.4.3 in /usr/local/lib/python3.9/dist-packages (from huggingface-hub<1.0.0,>=0.1.0->datasets) (4.4.0)\n",
      "Requirement already satisfied: idna<4,>=2.5 in /usr/lib/python3/dist-packages (from requests>=2.19.0->datasets) (2.8)\n",
      "Requirement already satisfied: certifi>=2017.4.17 in /usr/lib/python3/dist-packages (from requests>=2.19.0->datasets) (2019.11.28)\n",
      "Requirement already satisfied: urllib3<1.27,>=1.21.1 in /usr/local/lib/python3.9/dist-packages (from requests>=2.19.0->datasets) (1.26.14)\n",
      "Requirement already satisfied: python-dateutil>=2.8.1 in /usr/local/lib/python3.9/dist-packages (from pandas->datasets) (2.8.2)\n",
      "Requirement already satisfied: pytz>=2020.1 in /usr/local/lib/python3.9/dist-packages (from pandas->datasets) (2022.7.1)\n",
      "Requirement already satisfied: six>=1.5 in /usr/lib/python3/dist-packages (from python-dateutil>=2.8.1->pandas->datasets) (1.14.0)\n",
      "\u001b[33mWARNING: Running pip as the 'root' user can result in broken permissions and conflicting behaviour with the system package manager. It is recommended to use a virtual environment instead: https://pip.pypa.io/warnings/venv\u001b[0m\u001b[33m\n",
      "\u001b[0mCollecting soundfile\n",
      "  Downloading soundfile-0.12.1-py2.py3-none-manylinux_2_31_x86_64.whl (1.2 MB)\n",
      "\u001b[2K     \u001b[90m━━━━━━━━━━━━━━━━━━━━━━━━━━━━━━━━━━━━━━━━\u001b[0m \u001b[32m1.2/1.2 MB\u001b[0m \u001b[31m36.3 MB/s\u001b[0m eta \u001b[36m0:00:00\u001b[0m\n",
      "\u001b[?25hRequirement already satisfied: cffi>=1.0 in /usr/local/lib/python3.9/dist-packages (from soundfile) (1.15.1)\n",
      "Requirement already satisfied: pycparser in /usr/local/lib/python3.9/dist-packages (from cffi>=1.0->soundfile) (2.21)\n",
      "Installing collected packages: soundfile\n",
      "Successfully installed soundfile-0.12.1\n",
      "\u001b[33mWARNING: Running pip as the 'root' user can result in broken permissions and conflicting behaviour with the system package manager. It is recommended to use a virtual environment instead: https://pip.pypa.io/warnings/venv\u001b[0m\u001b[33m\n",
      "\u001b[0mCollecting librosa\n",
      "  Downloading librosa-0.10.0.post2-py3-none-any.whl (253 kB)\n",
      "\u001b[2K     \u001b[90m━━━━━━━━━━━━━━━━━━━━━━━━━━━━━━━━━━━━━━\u001b[0m \u001b[32m253.0/253.0 kB\u001b[0m \u001b[31m35.1 MB/s\u001b[0m eta \u001b[36m0:00:00\u001b[0m\n",
      "\u001b[?25hCollecting audioread>=2.1.9\n",
      "  Downloading audioread-3.0.0.tar.gz (377 kB)\n",
      "\u001b[2K     \u001b[90m━━━━━━━━━━━━━━━━━━━━━━━━━━━━━━━━━━━━━━\u001b[0m \u001b[32m377.0/377.0 kB\u001b[0m \u001b[31m73.4 MB/s\u001b[0m eta \u001b[36m0:00:00\u001b[0m\n",
      "\u001b[?25h  Preparing metadata (setup.py) ... \u001b[?25ldone\n",
      "\u001b[?25hCollecting soxr>=0.3.2\n",
      "  Downloading soxr-0.3.5-cp39-cp39-manylinux_2_17_x86_64.manylinux2014_x86_64.whl (1.2 MB)\n",
      "\u001b[2K     \u001b[90m━━━━━━━━━━━━━━━━━━━━━━━━━━━━━━━━━━━━━━━━\u001b[0m \u001b[32m1.2/1.2 MB\u001b[0m \u001b[31m98.7 MB/s\u001b[0m eta \u001b[36m0:00:00\u001b[0m\n",
      "\u001b[?25hRequirement already satisfied: typing-extensions>=4.1.1 in /usr/local/lib/python3.9/dist-packages (from librosa) (4.4.0)\n",
      "Collecting pooch<1.7,>=1.0\n",
      "  Downloading pooch-1.6.0-py3-none-any.whl (56 kB)\n",
      "\u001b[2K     \u001b[90m━━━━━━━━━━━━━━━━━━━━━━━━━━━━━━━━━━━━━━━━\u001b[0m \u001b[32m56.3/56.3 kB\u001b[0m \u001b[31m19.5 MB/s\u001b[0m eta \u001b[36m0:00:00\u001b[0m\n",
      "\u001b[?25hCollecting lazy-loader>=0.1\n",
      "  Downloading lazy_loader-0.3-py3-none-any.whl (9.1 kB)\n",
      "Requirement already satisfied: scipy>=1.2.0 in /usr/local/lib/python3.9/dist-packages (from librosa) (1.9.2)\n",
      "Requirement already satisfied: joblib>=0.14 in /usr/local/lib/python3.9/dist-packages (from librosa) (1.2.0)\n",
      "Requirement already satisfied: numpy!=1.22.0,!=1.22.1,!=1.22.2,>=1.20.3 in /usr/local/lib/python3.9/dist-packages (from librosa) (1.23.4)\n",
      "Requirement already satisfied: scikit-learn>=0.20.0 in /usr/local/lib/python3.9/dist-packages (from librosa) (1.1.2)\n",
      "Requirement already satisfied: decorator>=4.3.0 in /usr/local/lib/python3.9/dist-packages (from librosa) (5.1.1)\n",
      "Collecting numba>=0.51.0\n",
      "  Downloading numba-0.57.1-cp39-cp39-manylinux2014_x86_64.manylinux_2_17_x86_64.whl (3.6 MB)\n",
      "\u001b[2K     \u001b[90m━━━━━━━━━━━━━━━━━━━━━━━━━━━━━━━━━━━━━━━━\u001b[0m \u001b[32m3.6/3.6 MB\u001b[0m \u001b[31m94.0 MB/s\u001b[0m eta \u001b[36m0:00:00\u001b[0m:00:01\u001b[0m\n",
      "\u001b[?25hRequirement already satisfied: soundfile>=0.12.1 in /usr/local/lib/python3.9/dist-packages (from librosa) (0.12.1)\n",
      "Requirement already satisfied: msgpack>=1.0 in /usr/local/lib/python3.9/dist-packages (from librosa) (1.0.4)\n",
      "Collecting llvmlite<0.41,>=0.40.0dev0\n",
      "  Downloading llvmlite-0.40.1-cp39-cp39-manylinux_2_17_x86_64.manylinux2014_x86_64.whl (42.1 MB)\n",
      "\u001b[2K     \u001b[90m━━━━━━━━━━━━━━━━━━━━━━━━━━━━━━━━━━━━━━━━\u001b[0m \u001b[32m42.1/42.1 MB\u001b[0m \u001b[31m36.2 MB/s\u001b[0m eta \u001b[36m0:00:00\u001b[0m00:01\u001b[0m00:01\u001b[0m\n",
      "\u001b[?25hCollecting appdirs>=1.3.0\n",
      "  Downloading appdirs-1.4.4-py2.py3-none-any.whl (9.6 kB)\n",
      "Requirement already satisfied: packaging>=20.0 in /usr/local/lib/python3.9/dist-packages (from pooch<1.7,>=1.0->librosa) (23.0)\n",
      "Requirement already satisfied: requests>=2.19.0 in /usr/local/lib/python3.9/dist-packages (from pooch<1.7,>=1.0->librosa) (2.28.2)\n",
      "Requirement already satisfied: threadpoolctl>=2.0.0 in /usr/local/lib/python3.9/dist-packages (from scikit-learn>=0.20.0->librosa) (3.1.0)\n",
      "Requirement already satisfied: cffi>=1.0 in /usr/local/lib/python3.9/dist-packages (from soundfile>=0.12.1->librosa) (1.15.1)\n",
      "Requirement already satisfied: pycparser in /usr/local/lib/python3.9/dist-packages (from cffi>=1.0->soundfile>=0.12.1->librosa) (2.21)\n",
      "Requirement already satisfied: certifi>=2017.4.17 in /usr/lib/python3/dist-packages (from requests>=2.19.0->pooch<1.7,>=1.0->librosa) (2019.11.28)\n",
      "Requirement already satisfied: urllib3<1.27,>=1.21.1 in /usr/local/lib/python3.9/dist-packages (from requests>=2.19.0->pooch<1.7,>=1.0->librosa) (1.26.14)\n",
      "Requirement already satisfied: charset-normalizer<4,>=2 in /usr/local/lib/python3.9/dist-packages (from requests>=2.19.0->pooch<1.7,>=1.0->librosa) (2.1.1)\n",
      "Requirement already satisfied: idna<4,>=2.5 in /usr/lib/python3/dist-packages (from requests>=2.19.0->pooch<1.7,>=1.0->librosa) (2.8)\n",
      "Building wheels for collected packages: audioread\n",
      "  Building wheel for audioread (setup.py) ... \u001b[?25ldone\n",
      "\u001b[?25h  Created wheel for audioread: filename=audioread-3.0.0-py3-none-any.whl size=23702 sha256=aec20998fbd9857eb9ea21cc035eab9491e37260bd53027e41753d712b3ed439\n",
      "  Stored in directory: /root/.cache/pip/wheels/7a/6a/b0/92760a6d6bc2bff5464970af910c0b0b921390993f3199cdf7\n",
      "Successfully built audioread\n",
      "Installing collected packages: appdirs, soxr, llvmlite, lazy-loader, audioread, pooch, numba, librosa\n",
      "Successfully installed appdirs-1.4.4 audioread-3.0.0 lazy-loader-0.3 librosa-0.10.0.post2 llvmlite-0.40.1 numba-0.57.1 pooch-1.6.0 soxr-0.3.5\n",
      "\u001b[33mWARNING: Running pip as the 'root' user can result in broken permissions and conflicting behaviour with the system package manager. It is recommended to use a virtual environment instead: https://pip.pypa.io/warnings/venv\u001b[0m\u001b[33m\n",
      "\u001b[0m"
     ]
    }
   ],
   "source": [
    "!pip install datasets\n",
    "!pip install soundfile\n",
    "!pip install librosa"
   ]
  },
  {
   "cell_type": "code",
   "execution_count": 3,
   "id": "908ceb10-79c0-48f9-91d7-4b5ed6443fb5",
   "metadata": {},
   "outputs": [],
   "source": [
    "# !pip install git+https://github.com/huggingface/transformers"
   ]
  },
  {
   "cell_type": "code",
   "execution_count": 4,
   "id": "1bf4fb4e-4c1f-48a7-953a-7d5091c4978c",
   "metadata": {},
   "outputs": [
    {
     "name": "stdout",
     "output_type": "stream",
     "text": [
      "Collecting speechbrain\n",
      "  Downloading speechbrain-0.5.14-py3-none-any.whl (519 kB)\n",
      "\u001b[2K     \u001b[90m━━━━━━━━━━━━━━━━━━━━━━━━━━━━━━━━━━━━━━\u001b[0m \u001b[32m519.0/519.0 kB\u001b[0m \u001b[31m35.1 MB/s\u001b[0m eta \u001b[36m0:00:00\u001b[0m\n",
      "\u001b[?25hCollecting accelerate\n",
      "  Downloading accelerate-0.20.3-py3-none-any.whl (227 kB)\n",
      "\u001b[2K     \u001b[90m━━━━━━━━━━━━━━━━━━━━━━━━━━━━━━━━━━━━━━\u001b[0m \u001b[32m227.6/227.6 kB\u001b[0m \u001b[31m45.1 MB/s\u001b[0m eta \u001b[36m0:00:00\u001b[0m\n",
      "\u001b[?25hRequirement already satisfied: torchaudio in /usr/local/lib/python3.9/dist-packages (from speechbrain) (0.12.1+cu116)\n",
      "Requirement already satisfied: sentencepiece in /usr/local/lib/python3.9/dist-packages (from speechbrain) (0.1.97)\n",
      "Requirement already satisfied: packaging in /usr/local/lib/python3.9/dist-packages (from speechbrain) (23.0)\n",
      "Requirement already satisfied: huggingface-hub in /usr/local/lib/python3.9/dist-packages (from speechbrain) (0.16.4)\n",
      "Requirement already satisfied: joblib in /usr/local/lib/python3.9/dist-packages (from speechbrain) (1.2.0)\n",
      "Requirement already satisfied: numpy in /usr/local/lib/python3.9/dist-packages (from speechbrain) (1.23.4)\n",
      "Collecting hyperpyyaml\n",
      "  Downloading HyperPyYAML-1.2.1-py3-none-any.whl (16 kB)\n",
      "Requirement already satisfied: torch>=1.9 in /usr/local/lib/python3.9/dist-packages (from speechbrain) (1.12.1+cu116)\n",
      "Requirement already satisfied: scipy in /usr/local/lib/python3.9/dist-packages (from speechbrain) (1.9.2)\n",
      "Requirement already satisfied: tqdm in /usr/local/lib/python3.9/dist-packages (from speechbrain) (4.64.1)\n",
      "Requirement already satisfied: psutil in /usr/local/lib/python3.9/dist-packages (from accelerate) (5.9.4)\n",
      "Requirement already satisfied: pyyaml in /usr/local/lib/python3.9/dist-packages (from accelerate) (5.4.1)\n",
      "Requirement already satisfied: typing-extensions in /usr/local/lib/python3.9/dist-packages (from torch>=1.9->speechbrain) (4.4.0)\n",
      "Requirement already satisfied: fsspec in /usr/local/lib/python3.9/dist-packages (from huggingface-hub->speechbrain) (2023.1.0)\n",
      "Requirement already satisfied: filelock in /usr/local/lib/python3.9/dist-packages (from huggingface-hub->speechbrain) (3.9.0)\n",
      "Requirement already satisfied: requests in /usr/local/lib/python3.9/dist-packages (from huggingface-hub->speechbrain) (2.28.2)\n",
      "Collecting ruamel.yaml<=0.17.28,>=0.17.8\n",
      "  Downloading ruamel.yaml-0.17.28-py3-none-any.whl (109 kB)\n",
      "\u001b[2K     \u001b[90m━━━━━━━━━━━━━━━━━━━━━━━━━━━━━━━━━━━━━━\u001b[0m \u001b[32m109.6/109.6 kB\u001b[0m \u001b[31m32.5 MB/s\u001b[0m eta \u001b[36m0:00:00\u001b[0m\n",
      "\u001b[?25hCollecting ruamel.yaml.clib>=0.2.7\n",
      "  Downloading ruamel.yaml.clib-0.2.7-cp39-cp39-manylinux_2_17_x86_64.manylinux2014_x86_64.manylinux_2_24_x86_64.whl (519 kB)\n",
      "\u001b[2K     \u001b[90m━━━━━━━━━━━━━━━━━━━━━━━━━━━━━━━━━━━━━━\u001b[0m \u001b[32m519.4/519.4 kB\u001b[0m \u001b[31m68.8 MB/s\u001b[0m eta \u001b[36m0:00:00\u001b[0m\n",
      "\u001b[?25hRequirement already satisfied: urllib3<1.27,>=1.21.1 in /usr/local/lib/python3.9/dist-packages (from requests->huggingface-hub->speechbrain) (1.26.14)\n",
      "Requirement already satisfied: idna<4,>=2.5 in /usr/lib/python3/dist-packages (from requests->huggingface-hub->speechbrain) (2.8)\n",
      "Requirement already satisfied: certifi>=2017.4.17 in /usr/lib/python3/dist-packages (from requests->huggingface-hub->speechbrain) (2019.11.28)\n",
      "Requirement already satisfied: charset-normalizer<4,>=2 in /usr/local/lib/python3.9/dist-packages (from requests->huggingface-hub->speechbrain) (2.1.1)\n",
      "Installing collected packages: ruamel.yaml.clib, ruamel.yaml, accelerate, hyperpyyaml, speechbrain\n",
      "Successfully installed accelerate-0.20.3 hyperpyyaml-1.2.1 ruamel.yaml-0.17.28 ruamel.yaml.clib-0.2.7 speechbrain-0.5.14\n",
      "\u001b[33mWARNING: Running pip as the 'root' user can result in broken permissions and conflicting behaviour with the system package manager. It is recommended to use a virtual environment instead: https://pip.pypa.io/warnings/venv\u001b[0m\u001b[33m\n",
      "\u001b[0m"
     ]
    }
   ],
   "source": [
    "!pip install speechbrain accelerate"
   ]
  },
  {
   "cell_type": "code",
   "execution_count": 5,
   "id": "3139f33a-fca9-46e0-8c1e-705622d2253a",
   "metadata": {},
   "outputs": [
    {
     "name": "stdout",
     "output_type": "stream",
     "text": [
      "Reading package lists... Done\n",
      "Building dependency tree       \n",
      "Reading state information... Done\n",
      "The following NEW packages will be installed:\n",
      "  git-lfs\n",
      "0 upgraded, 1 newly installed, 0 to remove and 3 not upgraded.\n",
      "Need to get 3316 kB of archives.\n",
      "After this operation, 11.1 MB of additional disk space will be used.\n",
      "Get:1 http://archive.ubuntu.com/ubuntu focal/universe amd64 git-lfs amd64 2.9.2-1 [3316 kB]\n",
      "Fetched 3316 kB in 0s (25.1 MB/s)\n",
      "Selecting previously unselected package git-lfs.\n",
      "(Reading database ... 69943 files and directories currently installed.)\n",
      "Preparing to unpack .../git-lfs_2.9.2-1_amd64.deb ...\n",
      "Unpacking git-lfs (2.9.2-1) ...\n",
      "Setting up git-lfs (2.9.2-1) ...\n",
      "Processing triggers for man-db (2.9.1-1) ...\n",
      "Updated git hooks.\n",
      "Git LFS initialized.\n"
     ]
    }
   ],
   "source": [
    "!apt-get install git-lfs\n",
    "!git lfs install"
   ]
  },
  {
   "cell_type": "code",
   "execution_count": 6,
   "id": "e46bab4e-1461-4fe4-a579-ff8983557b1f",
   "metadata": {},
   "outputs": [
    {
     "name": "stdout",
     "output_type": "stream",
     "text": [
      "Requirement already satisfied: wandb in /usr/local/lib/python3.9/dist-packages (0.13.4)\n",
      "Collecting wandb\n",
      "  Downloading wandb-0.15.5-py3-none-any.whl (2.1 MB)\n",
      "\u001b[2K     \u001b[90m━━━━━━━━━━━━━━━━━━━━━━━━━━━━━━━━━━━━━━━━\u001b[0m \u001b[32m2.1/2.1 MB\u001b[0m \u001b[31m68.3 MB/s\u001b[0m eta \u001b[36m0:00:00\u001b[0m\n",
      "\u001b[?25hRequirement already satisfied: requests<3,>=2.0.0 in /usr/local/lib/python3.9/dist-packages (from wandb) (2.28.2)\n",
      "Requirement already satisfied: typing-extensions in /usr/local/lib/python3.9/dist-packages (from wandb) (4.4.0)\n",
      "Requirement already satisfied: PyYAML in /usr/local/lib/python3.9/dist-packages (from wandb) (5.4.1)\n",
      "Requirement already satisfied: pathtools in /usr/local/lib/python3.9/dist-packages (from wandb) (0.1.2)\n",
      "Requirement already satisfied: Click!=8.0.0,>=7.1 in /usr/local/lib/python3.9/dist-packages (from wandb) (8.1.3)\n",
      "Requirement already satisfied: docker-pycreds>=0.4.0 in /usr/local/lib/python3.9/dist-packages (from wandb) (0.4.0)\n",
      "Requirement already satisfied: setproctitle in /usr/local/lib/python3.9/dist-packages (from wandb) (1.3.2)\n",
      "Requirement already satisfied: setuptools in /usr/local/lib/python3.9/dist-packages (from wandb) (66.1.1)\n",
      "Requirement already satisfied: appdirs>=1.4.3 in /usr/local/lib/python3.9/dist-packages (from wandb) (1.4.4)\n",
      "Requirement already satisfied: protobuf!=4.21.0,<5,>=3.15.0 in /usr/local/lib/python3.9/dist-packages (from wandb) (3.19.6)\n",
      "Requirement already satisfied: GitPython!=3.1.29,>=1.0.0 in /usr/local/lib/python3.9/dist-packages (from wandb) (3.1.30)\n",
      "Requirement already satisfied: sentry-sdk>=1.0.0 in /usr/local/lib/python3.9/dist-packages (from wandb) (1.14.0)\n",
      "Requirement already satisfied: psutil>=5.0.0 in /usr/local/lib/python3.9/dist-packages (from wandb) (5.9.4)\n",
      "Requirement already satisfied: six>=1.4.0 in /usr/lib/python3/dist-packages (from docker-pycreds>=0.4.0->wandb) (1.14.0)\n",
      "Requirement already satisfied: gitdb<5,>=4.0.1 in /usr/local/lib/python3.9/dist-packages (from GitPython!=3.1.29,>=1.0.0->wandb) (4.0.10)\n",
      "Requirement already satisfied: urllib3<1.27,>=1.21.1 in /usr/local/lib/python3.9/dist-packages (from requests<3,>=2.0.0->wandb) (1.26.14)\n",
      "Requirement already satisfied: idna<4,>=2.5 in /usr/lib/python3/dist-packages (from requests<3,>=2.0.0->wandb) (2.8)\n",
      "Requirement already satisfied: charset-normalizer<4,>=2 in /usr/local/lib/python3.9/dist-packages (from requests<3,>=2.0.0->wandb) (2.1.1)\n",
      "Requirement already satisfied: certifi>=2017.4.17 in /usr/lib/python3/dist-packages (from requests<3,>=2.0.0->wandb) (2019.11.28)\n",
      "Requirement already satisfied: smmap<6,>=3.0.1 in /usr/local/lib/python3.9/dist-packages (from gitdb<5,>=4.0.1->GitPython!=3.1.29,>=1.0.0->wandb) (5.0.0)\n",
      "Installing collected packages: wandb\n",
      "  Attempting uninstall: wandb\n",
      "    Found existing installation: wandb 0.13.4\n",
      "    Uninstalling wandb-0.13.4:\n",
      "      Successfully uninstalled wandb-0.13.4\n",
      "Successfully installed wandb-0.15.5\n",
      "\u001b[33mWARNING: Running pip as the 'root' user can result in broken permissions and conflicting behaviour with the system package manager. It is recommended to use a virtual environment instead: https://pip.pypa.io/warnings/venv\u001b[0m\u001b[33m\n",
      "\u001b[0m"
     ]
    }
   ],
   "source": [
    "!pip install wandb --upgrade"
   ]
  },
  {
   "cell_type": "markdown",
   "id": "e0d2fe04-c01f-4774-9572-b290f428a933",
   "metadata": {},
   "source": [
    "## Fine-tuning SpeechT5\n"
   ]
  },
  {
   "cell_type": "markdown",
   "id": "ecd4f907-fb05-4b83-acd5-34594a0d3e0a",
   "metadata": {},
   "source": [
    "### Housekeeping"
   ]
  },
  {
   "cell_type": "code",
   "execution_count": 7,
   "id": "19849cd2-2af1-48e0-a61e-b25944e1189c",
   "metadata": {},
   "outputs": [
    {
     "data": {
      "application/vnd.jupyter.widget-view+json": {
       "model_id": "67985ea5078e4db9a1ab60d67dfe953f",
       "version_major": 2,
       "version_minor": 0
      },
      "text/plain": [
       "VBox(children=(HTML(value='<center> <img\\nsrc=https://huggingface.co/front/assets/huggingface_logo-noborder.sv…"
      ]
     },
     "metadata": {},
     "output_type": "display_data"
    }
   ],
   "source": [
    "from huggingface_hub import notebook_login\n",
    "\n",
    "notebook_login()"
   ]
  },
  {
   "cell_type": "markdown",
   "id": "8ffdf5e5-4ce4-496d-8eb0-d933323a5f2c",
   "metadata": {},
   "source": [
    "### The dataset"
   ]
  },
  {
   "cell_type": "code",
   "execution_count": 8,
   "id": "6ce64e6b-5aa8-4ddc-a3a1-a001052bb681",
   "metadata": {},
   "outputs": [
    {
     "data": {
      "application/vnd.jupyter.widget-view+json": {
       "model_id": "03e39f6dc2cc4cd2ac59ad18cc233f09",
       "version_major": 2,
       "version_minor": 0
      },
      "text/plain": [
       "Downloading builder script:   0%|          | 0.00/8.84k [00:00<?, ?B/s]"
      ]
     },
     "metadata": {},
     "output_type": "display_data"
    },
    {
     "name": "stdout",
     "output_type": "stream",
     "text": [
      "Downloading and preparing dataset voxpopuli/es to /root/.cache/huggingface/datasets/facebook___voxpopuli/es/1.3.0/b5ff837284f0778eefe0f642734e142d8c3f574eba8c9c8a4b13602297f73604...\n"
     ]
    },
    {
     "data": {
      "application/vnd.jupyter.widget-view+json": {
       "model_id": "cb0db5da4b6c4d3397b512c835ab75f4",
       "version_major": 2,
       "version_minor": 0
      },
      "text/plain": [
       "Downloading data:   0%|          | 0.00/1.29k [00:00<?, ?B/s]"
      ]
     },
     "metadata": {},
     "output_type": "display_data"
    },
    {
     "data": {
      "application/vnd.jupyter.widget-view+json": {
       "model_id": "835b0b0aba5c4cca97d46cc4b7c20e81",
       "version_major": 2,
       "version_minor": 0
      },
      "text/plain": [
       "Downloading data files:   0%|          | 0/3 [00:00<?, ?it/s]"
      ]
     },
     "metadata": {},
     "output_type": "display_data"
    },
    {
     "data": {
      "application/vnd.jupyter.widget-view+json": {
       "model_id": "9d1861cc5a0a4f7cbc32906bd7bdd730",
       "version_major": 2,
       "version_minor": 0
      },
      "text/plain": [
       "Downloading data:   0%|          | 0.00/22.1M [00:00<?, ?B/s]"
      ]
     },
     "metadata": {},
     "output_type": "display_data"
    },
    {
     "data": {
      "application/vnd.jupyter.widget-view+json": {
       "model_id": "bd54c5b28fa7479a82e7a7893e86f6f3",
       "version_major": 2,
       "version_minor": 0
      },
      "text/plain": [
       "Downloading data:   0%|          | 0.00/722k [00:00<?, ?B/s]"
      ]
     },
     "metadata": {},
     "output_type": "display_data"
    },
    {
     "data": {
      "application/vnd.jupyter.widget-view+json": {
       "model_id": "5c6dd59b74934b4e996ebe24d2711fd4",
       "version_major": 2,
       "version_minor": 0
      },
      "text/plain": [
       "Downloading data:   0%|          | 0.00/706k [00:00<?, ?B/s]"
      ]
     },
     "metadata": {},
     "output_type": "display_data"
    },
    {
     "data": {
      "application/vnd.jupyter.widget-view+json": {
       "model_id": "19618600a50b449a99168a8cb187bf14",
       "version_major": 2,
       "version_minor": 0
      },
      "text/plain": [
       "Extracting data files:   0%|          | 0/3 [00:00<?, ?it/s]"
      ]
     },
     "metadata": {},
     "output_type": "display_data"
    },
    {
     "data": {
      "application/vnd.jupyter.widget-view+json": {
       "model_id": "2e36b31f25674539a428d1f1434e6e6e",
       "version_major": 2,
       "version_minor": 0
      },
      "text/plain": [
       "Downloading data files:   0%|          | 0/3 [00:00<?, ?it/s]"
      ]
     },
     "metadata": {},
     "output_type": "display_data"
    },
    {
     "data": {
      "application/vnd.jupyter.widget-view+json": {
       "model_id": "97fface3ef3e4300a35661ee108efa21",
       "version_major": 2,
       "version_minor": 0
      },
      "text/plain": [
       "Downloading data:   0%|          | 0.00/1.86G [00:00<?, ?B/s]"
      ]
     },
     "metadata": {},
     "output_type": "display_data"
    },
    {
     "data": {
      "application/vnd.jupyter.widget-view+json": {
       "model_id": "781a122c04c74a63940577df35b7f5fa",
       "version_major": 2,
       "version_minor": 0
      },
      "text/plain": [
       "Downloading data:   0%|          | 0.00/1.83G [00:00<?, ?B/s]"
      ]
     },
     "metadata": {},
     "output_type": "display_data"
    },
    {
     "data": {
      "application/vnd.jupyter.widget-view+json": {
       "model_id": "87dbd003f14f4adcbe6bde4da7c137ed",
       "version_major": 2,
       "version_minor": 0
      },
      "text/plain": [
       "Downloading data:   0%|          | 0.00/1.86G [00:00<?, ?B/s]"
      ]
     },
     "metadata": {},
     "output_type": "display_data"
    },
    {
     "data": {
      "application/vnd.jupyter.widget-view+json": {
       "model_id": "5c80ff19b46c4a788fc5714ae3338ba8",
       "version_major": 2,
       "version_minor": 0
      },
      "text/plain": [
       "Downloading data:   0%|          | 0.00/1.86G [00:00<?, ?B/s]"
      ]
     },
     "metadata": {},
     "output_type": "display_data"
    },
    {
     "data": {
      "application/vnd.jupyter.widget-view+json": {
       "model_id": "007fc6833a994edd9cd3801964ea3286",
       "version_major": 2,
       "version_minor": 0
      },
      "text/plain": [
       "Downloading data:   0%|          | 0.00/1.81G [00:00<?, ?B/s]"
      ]
     },
     "metadata": {},
     "output_type": "display_data"
    },
    {
     "data": {
      "application/vnd.jupyter.widget-view+json": {
       "model_id": "da5f70becd8a4894a3600ef52c3c65d3",
       "version_major": 2,
       "version_minor": 0
      },
      "text/plain": [
       "Downloading data:   0%|          | 0.00/1.87G [00:00<?, ?B/s]"
      ]
     },
     "metadata": {},
     "output_type": "display_data"
    },
    {
     "data": {
      "application/vnd.jupyter.widget-view+json": {
       "model_id": "103cfe7f6c4f4370b285c388a6c89aba",
       "version_major": 2,
       "version_minor": 0
      },
      "text/plain": [
       "Downloading data:   0%|          | 0.00/1.83G [00:00<?, ?B/s]"
      ]
     },
     "metadata": {},
     "output_type": "display_data"
    },
    {
     "data": {
      "application/vnd.jupyter.widget-view+json": {
       "model_id": "260eb872c72f4f518d2e23a1f932f2ef",
       "version_major": 2,
       "version_minor": 0
      },
      "text/plain": [
       "Downloading data:   0%|          | 0.00/1.85G [00:00<?, ?B/s]"
      ]
     },
     "metadata": {},
     "output_type": "display_data"
    },
    {
     "data": {
      "application/vnd.jupyter.widget-view+json": {
       "model_id": "1e35d30b760e46318cba7d28308b83c2",
       "version_major": 2,
       "version_minor": 0
      },
      "text/plain": [
       "Downloading data:   0%|          | 0.00/1.86G [00:00<?, ?B/s]"
      ]
     },
     "metadata": {},
     "output_type": "display_data"
    },
    {
     "data": {
      "application/vnd.jupyter.widget-view+json": {
       "model_id": "1f2b1b96e5164ecd94d719d0bfb43ad9",
       "version_major": 2,
       "version_minor": 0
      },
      "text/plain": [
       "Downloading data:   0%|          | 0.00/1.86G [00:00<?, ?B/s]"
      ]
     },
     "metadata": {},
     "output_type": "display_data"
    },
    {
     "data": {
      "application/vnd.jupyter.widget-view+json": {
       "model_id": "90310eb9c6854c929a3a8cf9bd7668a3",
       "version_major": 2,
       "version_minor": 0
      },
      "text/plain": [
       "Downloading data:   0%|          | 0.00/337M [00:00<?, ?B/s]"
      ]
     },
     "metadata": {},
     "output_type": "display_data"
    },
    {
     "data": {
      "application/vnd.jupyter.widget-view+json": {
       "model_id": "ad224506840b42418bc0ff5ea2df3d30",
       "version_major": 2,
       "version_minor": 0
      },
      "text/plain": [
       "Downloading data:   0%|          | 0.00/633M [00:00<?, ?B/s]"
      ]
     },
     "metadata": {},
     "output_type": "display_data"
    },
    {
     "data": {
      "application/vnd.jupyter.widget-view+json": {
       "model_id": "0482ff6017a54cc9a6a293be6cb78ad8",
       "version_major": 2,
       "version_minor": 0
      },
      "text/plain": [
       "Downloading data:   0%|          | 0.00/629M [00:00<?, ?B/s]"
      ]
     },
     "metadata": {},
     "output_type": "display_data"
    },
    {
     "data": {
      "application/vnd.jupyter.widget-view+json": {
       "model_id": "2ce9dc849aa943b8ac0a693940364ae0",
       "version_major": 2,
       "version_minor": 0
      },
      "text/plain": [
       "Extracting data files:   0%|          | 0/3 [00:00<?, ?it/s]"
      ]
     },
     "metadata": {},
     "output_type": "display_data"
    },
    {
     "data": {
      "application/vnd.jupyter.widget-view+json": {
       "model_id": "",
       "version_major": 2,
       "version_minor": 0
      },
      "text/plain": [
       "Generating train split: 0 examples [00:00, ? examples/s]"
      ]
     },
     "metadata": {},
     "output_type": "display_data"
    },
    {
     "data": {
      "application/vnd.jupyter.widget-view+json": {
       "model_id": "",
       "version_major": 2,
       "version_minor": 0
      },
      "text/plain": [
       "Generating validation split: 0 examples [00:00, ? examples/s]"
      ]
     },
     "metadata": {},
     "output_type": "display_data"
    },
    {
     "data": {
      "application/vnd.jupyter.widget-view+json": {
       "model_id": "",
       "version_major": 2,
       "version_minor": 0
      },
      "text/plain": [
       "Generating test split: 0 examples [00:00, ? examples/s]"
      ]
     },
     "metadata": {},
     "output_type": "display_data"
    },
    {
     "name": "stdout",
     "output_type": "stream",
     "text": [
      "Dataset voxpopuli downloaded and prepared to /root/.cache/huggingface/datasets/facebook___voxpopuli/es/1.3.0/b5ff837284f0778eefe0f642734e142d8c3f574eba8c9c8a4b13602297f73604. Subsequent calls will reuse this data.\n"
     ]
    }
   ],
   "source": [
    "from datasets import load_dataset, Audio\n",
    "\n",
    "dataset = load_dataset(\"facebook/voxpopuli\", \"es\", split=\"train+validation\")"
   ]
  },
  {
   "cell_type": "code",
   "execution_count": 9,
   "id": "0be219c0-1954-440a-8605-95e532456bd3",
   "metadata": {},
   "outputs": [
    {
     "data": {
      "text/plain": [
       "52553"
      ]
     },
     "execution_count": 9,
     "metadata": {},
     "output_type": "execute_result"
    }
   ],
   "source": [
    "len(dataset)"
   ]
  },
  {
   "cell_type": "code",
   "execution_count": 10,
   "id": "46402a98-87e1-438b-8137-7f64cf7b1416",
   "metadata": {},
   "outputs": [],
   "source": [
    "dataset = dataset.cast_column(\"audio\", Audio(sampling_rate=16000))"
   ]
  },
  {
   "cell_type": "markdown",
   "id": "8dfd7f2d-70ea-4b19-a209-7310e8d997a9",
   "metadata": {},
   "source": [
    "### Preprocessing the data"
   ]
  },
  {
   "cell_type": "code",
   "execution_count": 11,
   "id": "124b32df-944e-4fec-8526-0e8c101d33c2",
   "metadata": {},
   "outputs": [
    {
     "data": {
      "application/vnd.jupyter.widget-view+json": {
       "model_id": "9b6e0469756e4067b2f3092e3ae13fb9",
       "version_major": 2,
       "version_minor": 0
      },
      "text/plain": [
       "Downloading (…)rocessor_config.json:   0%|          | 0.00/433 [00:00<?, ?B/s]"
      ]
     },
     "metadata": {},
     "output_type": "display_data"
    },
    {
     "data": {
      "application/vnd.jupyter.widget-view+json": {
       "model_id": "13026770947e4cdd9c96bb782334dc3f",
       "version_major": 2,
       "version_minor": 0
      },
      "text/plain": [
       "Downloading spm_char.model:   0%|          | 0.00/238k [00:00<?, ?B/s]"
      ]
     },
     "metadata": {},
     "output_type": "display_data"
    },
    {
     "data": {
      "application/vnd.jupyter.widget-view+json": {
       "model_id": "f2c39212f05d487cb26880ae104ae3ca",
       "version_major": 2,
       "version_minor": 0
      },
      "text/plain": [
       "Downloading (…)in/added_tokens.json:   0%|          | 0.00/40.0 [00:00<?, ?B/s]"
      ]
     },
     "metadata": {},
     "output_type": "display_data"
    },
    {
     "data": {
      "application/vnd.jupyter.widget-view+json": {
       "model_id": "e0191dd2ea804a86af3055e7f5bb9303",
       "version_major": 2,
       "version_minor": 0
      },
      "text/plain": [
       "Downloading (…)cial_tokens_map.json:   0%|          | 0.00/234 [00:00<?, ?B/s]"
      ]
     },
     "metadata": {},
     "output_type": "display_data"
    },
    {
     "data": {
      "application/vnd.jupyter.widget-view+json": {
       "model_id": "83a0e7cc3d1f447b8122699b361c5606",
       "version_major": 2,
       "version_minor": 0
      },
      "text/plain": [
       "Downloading (…)okenizer_config.json:   0%|          | 0.00/232 [00:00<?, ?B/s]"
      ]
     },
     "metadata": {},
     "output_type": "display_data"
    }
   ],
   "source": [
    "from transformers import SpeechT5Processor\n",
    "checkpoint = \"microsoft/speecht5_tts\"\n",
    "processor = SpeechT5Processor.from_pretrained(checkpoint)"
   ]
  },
  {
   "cell_type": "markdown",
   "id": "75d15875-bea1-4098-8a6e-a5abc526b12a",
   "metadata": {},
   "source": [
    "#### Text cleanup for SpeechT5 tokenization"
   ]
  },
  {
   "cell_type": "code",
   "execution_count": 12,
   "id": "44c0b576-9272-4bd5-8bdf-32e9d4c1a91d",
   "metadata": {},
   "outputs": [],
   "source": [
    "tokenizer = processor.tokenizer"
   ]
  },
  {
   "cell_type": "code",
   "execution_count": 13,
   "id": "3978b54e-191a-49f0-bde5-31e0ae50f416",
   "metadata": {},
   "outputs": [
    {
     "data": {
      "text/plain": [
       "{'audio_id': '20200914-0900-PLENARY-es_20200914-17:23:57_4',\n",
       " 'language': 3,\n",
       " 'audio': {'path': '/root/.cache/huggingface/datasets/downloads/extracted/2fb3261dbf9ef7ba9a3acf70075ebdad88b9ffa07a75f71f1ba5635e36443a6d/train_part_0/20200914-0900-PLENARY-es_20200914-17:23:57_4.wav',\n",
       "  'array': array([ 0.00064087,  0.00039673, -0.00048828, ...,  0.00619507,\n",
       "         -0.00012207, -0.00494385], dtype=float32),\n",
       "  'sampling_rate': 16000},\n",
       " 'raw_text': 'Y, desde luego, esa razón no puede tener que ver con la explicación surrealista que hemos escuchado más de una vez de que se trata de una conspiración izquierdista.',\n",
       " 'normalized_text': 'y desde luego esa razón no puede tener que ver con la explicación surrealista que hemos escuchado más de una vez de que se trata de una conspiración izquierdista.',\n",
       " 'gender': 'male',\n",
       " 'speaker_id': '96812',\n",
       " 'is_gold_transcript': True,\n",
       " 'accent': 'None'}"
      ]
     },
     "execution_count": 13,
     "metadata": {},
     "output_type": "execute_result"
    }
   ],
   "source": [
    "dataset[0]"
   ]
  },
  {
   "cell_type": "code",
   "execution_count": 14,
   "id": "44ded927-9dfe-4e82-a376-4e5317fa4282",
   "metadata": {},
   "outputs": [],
   "source": [
    "def extract_all_chars(batch):\n",
    "    all_text = \" \".join(batch[\"normalized_text\"])\n",
    "    vocab = list(set(all_text))\n",
    "    return {\"vocab\":[vocab], \"all_text\": [all_text]}"
   ]
  },
  {
   "cell_type": "code",
   "execution_count": 15,
   "id": "ef587ea6-da78-49fb-bfbe-0b591dc1d841",
   "metadata": {},
   "outputs": [
    {
     "data": {
      "application/vnd.jupyter.widget-view+json": {
       "model_id": "4887b529d93c42029f2568caa56645c8",
       "version_major": 2,
       "version_minor": 0
      },
      "text/plain": [
       "  0%|          | 0/1 [00:00<?, ?ba/s]"
      ]
     },
     "metadata": {},
     "output_type": "display_data"
    }
   ],
   "source": [
    "vocabs = dataset.map(extract_all_chars, batched=True, batch_size=-1, keep_in_memory=True, remove_columns=dataset.column_names)"
   ]
  },
  {
   "cell_type": "code",
   "execution_count": 16,
   "id": "7c1b3ffc-acf2-4a7f-b5a8-8de3fbeb2f2e",
   "metadata": {},
   "outputs": [],
   "source": [
    "dataset_vocab = set(vocabs[\"vocab\"][0])\n",
    "tokenizer_vocab = {k for k, _ in tokenizer.get_vocab().items()}"
   ]
  },
  {
   "cell_type": "code",
   "execution_count": 17,
   "id": "641d44a6-2e18-4995-bf7b-a4f2652af257",
   "metadata": {},
   "outputs": [
    {
     "data": {
      "text/plain": [
       "{'!',\n",
       " '\"',\n",
       " \"'\",\n",
       " '(',\n",
       " ')',\n",
       " ',',\n",
       " '-',\n",
       " '.',\n",
       " '/',\n",
       " ':',\n",
       " ';',\n",
       " '</s>',\n",
       " '<ctc_blank>',\n",
       " '<mask>',\n",
       " '<pad>',\n",
       " '<s>',\n",
       " '<unk>',\n",
       " '?',\n",
       " 'A',\n",
       " 'B',\n",
       " 'C',\n",
       " 'D',\n",
       " 'E',\n",
       " 'F',\n",
       " 'G',\n",
       " 'H',\n",
       " 'I',\n",
       " 'J',\n",
       " 'K',\n",
       " 'L',\n",
       " 'M',\n",
       " 'N',\n",
       " 'O',\n",
       " 'P',\n",
       " 'Q',\n",
       " 'R',\n",
       " 'S',\n",
       " 'T',\n",
       " 'U',\n",
       " 'V',\n",
       " 'W',\n",
       " 'X',\n",
       " 'Y',\n",
       " 'Z',\n",
       " '[',\n",
       " ']',\n",
       " 'a',\n",
       " 'b',\n",
       " 'c',\n",
       " 'd',\n",
       " 'e',\n",
       " 'f',\n",
       " 'g',\n",
       " 'h',\n",
       " 'i',\n",
       " 'j',\n",
       " 'k',\n",
       " 'l',\n",
       " 'm',\n",
       " 'n',\n",
       " 'o',\n",
       " 'p',\n",
       " 'q',\n",
       " 'r',\n",
       " 's',\n",
       " 't',\n",
       " 'u',\n",
       " 'v',\n",
       " 'w',\n",
       " 'x',\n",
       " 'y',\n",
       " 'z',\n",
       " '{',\n",
       " '}',\n",
       " 'æ',\n",
       " 'é',\n",
       " 'ê',\n",
       " 'œ',\n",
       " '̄',\n",
       " '—',\n",
       " '▁'}"
      ]
     },
     "execution_count": 17,
     "metadata": {},
     "output_type": "execute_result"
    }
   ],
   "source": [
    "tokenizer_vocab"
   ]
  },
  {
   "cell_type": "code",
   "execution_count": 18,
   "id": "418024be-113f-40a8-a373-3c19f7be34c9",
   "metadata": {},
   "outputs": [
    {
     "data": {
      "text/plain": [
       "{' ', '1', 'á', 'í', 'ñ', 'ó', 'ú', 'ü'}"
      ]
     },
     "execution_count": 18,
     "metadata": {},
     "output_type": "execute_result"
    }
   ],
   "source": [
    "# identify all special characters that tokenizer does not contain\n",
    "dataset_vocab - tokenizer_vocab"
   ]
  },
  {
   "cell_type": "code",
   "execution_count": 19,
   "id": "080e7e48-2e24-42c8-b7b7-91d1be1b5452",
   "metadata": {},
   "outputs": [],
   "source": [
    "replacements= [\n",
    "    ('á', 'a'),\n",
    "    ('í', 'i'),\n",
    "    ('ñ', 'n'),\n",
    "    ('ó', 'o'),\n",
    "    ('ú', 'u'),\n",
    "    ('ü', 'u'), \n",
    "    \n",
    "]"
   ]
  },
  {
   "cell_type": "code",
   "execution_count": 20,
   "id": "63969e1e-246b-41e2-9ee8-6efb1a550ba9",
   "metadata": {},
   "outputs": [
    {
     "data": {
      "application/vnd.jupyter.widget-view+json": {
       "model_id": "83a4f9910fd14768aa2594687952f00f",
       "version_major": 2,
       "version_minor": 0
      },
      "text/plain": [
       "  0%|          | 0/52553 [00:00<?, ?ex/s]"
      ]
     },
     "metadata": {},
     "output_type": "display_data"
    }
   ],
   "source": [
    "# replace special characters\n",
    "def cleanup_text(inputs):\n",
    "    for src, dst in replacements:\n",
    "        inputs[\"normalized_text\"] = inputs[\"normalized_text\"].replace(src, dst)\n",
    "    return inputs\n",
    "\n",
    "dataset = dataset.map(cleanup_text)\n",
    "    "
   ]
  },
  {
   "cell_type": "code",
   "execution_count": 21,
   "id": "94ebf2a0-35f5-41d9-aaf0-f4e9b47f1c03",
   "metadata": {},
   "outputs": [
    {
     "data": {
      "text/plain": [
       "52553"
      ]
     },
     "execution_count": 21,
     "metadata": {},
     "output_type": "execute_result"
    }
   ],
   "source": [
    "len(dataset)"
   ]
  },
  {
   "cell_type": "markdown",
   "id": "3547680a-c6ba-4338-8e8c-d5326eaf5284",
   "metadata": {
    "tags": []
   },
   "source": [
    "#### Speakers"
   ]
  },
  {
   "cell_type": "code",
   "execution_count": 22,
   "id": "39dcd027-351a-457e-8100-6c8e37aeaa31",
   "metadata": {},
   "outputs": [],
   "source": [
    "from collections import defaultdict\n",
    "speaker_counts = defaultdict(int)\n",
    "for speaker_id in dataset[\"speaker_id\"]:\n",
    "    speaker_counts[speaker_id] += 1\n",
    "    "
   ]
  },
  {
   "cell_type": "code",
   "execution_count": 23,
   "id": "c8ce12a7-016e-4732-9bae-7200d1f9d13f",
   "metadata": {},
   "outputs": [
    {
     "data": {
      "image/png": "[encoded data removed]",
      "text/plain": [
       "<Figure size 640x480 with 1 Axes>"
      ]
     },
     "metadata": {},
     "output_type": "display_data"
    }
   ],
   "source": [
    "import matplotlib.pyplot as plt\n",
    "\n",
    "plt.figure()\n",
    "plt.hist(speaker_counts.values(), bins=20)\n",
    "plt.ylabel(\"Speakers\")\n",
    "plt.xlabel(\"Examples\")\n",
    "plt.show()"
   ]
  },
  {
   "cell_type": "code",
   "execution_count": 24,
   "id": "ed2ec3d0-cf70-47e7-b2a4-12448b58c266",
   "metadata": {},
   "outputs": [
    {
     "data": {
      "application/vnd.jupyter.widget-view+json": {
       "model_id": "0a89d4cb81ca4ddd941434e9cfb0d3ee",
       "version_major": 2,
       "version_minor": 0
      },
      "text/plain": [
       "  0%|          | 0/53 [00:00<?, ?ba/s]"
      ]
     },
     "metadata": {},
     "output_type": "display_data"
    }
   ],
   "source": [
    "# balance dataset by limiting speakers to middle\n",
    "def select_speaker(speaker_id):\n",
    "    return 50 <= speaker_counts[speaker_id] <= 700\n",
    "dataset = dataset.filter(select_speaker, input_columns=[\"speaker_id\"])"
   ]
  },
  {
   "cell_type": "code",
   "execution_count": 25,
   "id": "92591cbb-4ba7-4a18-af70-7af045798852",
   "metadata": {},
   "outputs": [
    {
     "data": {
      "text/plain": [
       "104"
      ]
     },
     "execution_count": 25,
     "metadata": {},
     "output_type": "execute_result"
    }
   ],
   "source": [
    "len(set(dataset[\"speaker_id\"]))"
   ]
  },
  {
   "cell_type": "code",
   "execution_count": 26,
   "id": "b04c4958-8355-4eaa-8c33-b21f36cb3664",
   "metadata": {
    "tags": []
   },
   "outputs": [
    {
     "data": {
      "text/plain": [
       "25823"
      ]
     },
     "execution_count": 26,
     "metadata": {},
     "output_type": "execute_result"
    }
   ],
   "source": [
    "len(dataset)"
   ]
  },
  {
   "cell_type": "markdown",
   "id": "f180e5ac-d51b-401a-ae39-3bad8c5e8fca",
   "metadata": {},
   "source": [
    "#### Speaker embeddings"
   ]
  },
  {
   "cell_type": "code",
   "execution_count": 27,
   "id": "79a60954-2dea-4e07-835a-1439cb32c68f",
   "metadata": {},
   "outputs": [
    {
     "data": {
      "application/vnd.jupyter.widget-view+json": {
       "model_id": "f90a89a9474a483ba70be9d2e263d15d",
       "version_major": 2,
       "version_minor": 0
      },
      "text/plain": [
       "Downloading (…)ain/hyperparams.yaml:   0%|          | 0.00/2.04k [00:00<?, ?B/s]"
      ]
     },
     "metadata": {},
     "output_type": "display_data"
    },
    {
     "data": {
      "application/vnd.jupyter.widget-view+json": {
       "model_id": "184cf0ab24204781a36e471271f70613",
       "version_major": 2,
       "version_minor": 0
      },
      "text/plain": [
       "Downloading embedding_model.ckpt:   0%|          | 0.00/16.9M [00:00<?, ?B/s]"
      ]
     },
     "metadata": {},
     "output_type": "display_data"
    },
    {
     "data": {
      "application/vnd.jupyter.widget-view+json": {
       "model_id": "9320776ca18c4881839646aa55285795",
       "version_major": 2,
       "version_minor": 0
      },
      "text/plain": [
       "Downloading mean_var_norm_emb.ckpt:   0%|          | 0.00/3.20k [00:00<?, ?B/s]"
      ]
     },
     "metadata": {},
     "output_type": "display_data"
    },
    {
     "data": {
      "application/vnd.jupyter.widget-view+json": {
       "model_id": "0f9a2e88ecd2498db184c18da2335caa",
       "version_major": 2,
       "version_minor": 0
      },
      "text/plain": [
       "Downloading classifier.ckpt:   0%|          | 0.00/15.9M [00:00<?, ?B/s]"
      ]
     },
     "metadata": {},
     "output_type": "display_data"
    },
    {
     "data": {
      "application/vnd.jupyter.widget-view+json": {
       "model_id": "1daab03c814e418bac5707794a56693e",
       "version_major": 2,
       "version_minor": 0
      },
      "text/plain": [
       "Downloading (…)in/label_encoder.txt:   0%|          | 0.00/129k [00:00<?, ?B/s]"
      ]
     },
     "metadata": {},
     "output_type": "display_data"
    }
   ],
   "source": [
    "# needed to differentiate between multiple speakers\n",
    "import os\n",
    "import torch\n",
    "from speechbrain.pretrained import EncoderClassifier\n",
    "\n",
    "spk_model_name = \"speechbrain/spkrec-xvect-voxceleb\"\n",
    "device = \"cuda\"\n",
    "speaker_model = EncoderClassifier.from_hparams(source=spk_model_name, run_opts={\"device\":device}, savedir=os.path.join(\"/tmp\", spk_model_name))"
   ]
  },
  {
   "cell_type": "code",
   "execution_count": 28,
   "id": "318d4930-1a7e-4356-b998-e653de7e551d",
   "metadata": {},
   "outputs": [],
   "source": [
    "def create_speaker_embedding(waveform):\n",
    "    with torch.no_grad():\n",
    "        speaker_embeddings = speaker_model.encode_batch(torch.tensor(waveform))\n",
    "        speaker_embeddings = torch.nn.functional.normalize(speaker_embeddings, dim=2)\n",
    "        speaker_embeddings = speaker_embeddings.squeeze().cpu().numpy()\n",
    "    return speaker_embeddings"
   ]
  },
  {
   "cell_type": "markdown",
   "id": "0c763a55-766e-46c9-b8ee-10fbf339d904",
   "metadata": {},
   "source": [
    "#### Processing the dataset"
   ]
  },
  {
   "cell_type": "code",
   "execution_count": 29,
   "id": "2ef8bb91-943c-420a-b654-a2841c077233",
   "metadata": {},
   "outputs": [],
   "source": [
    "def prepare_dataset(example):\n",
    "    audio = example[\"audio\"]\n",
    "    example = processor(text=example[\"normalized_text\"], audio_target=audio[\"array\"], sampling_rate=audio[\"sampling_rate\"], return_attention_mask=False)\n",
    "    # strip off batch dimension\n",
    "    example[\"labels\"] = example[\"labels\"][0]\n",
    "    \n",
    "    #use SpeechBrain to get x-vector\n",
    "    example[\"speaker_embeddings\"] = create_speaker_embedding(audio[\"array\"])\n",
    "    return example"
   ]
  },
  {
   "cell_type": "code",
   "execution_count": 30,
   "id": "0782d37c-5288-471a-ae55-b931e2110f3f",
   "metadata": {},
   "outputs": [
    {
     "data": {
      "text/plain": [
       "['input_ids', 'labels', 'speaker_embeddings']"
      ]
     },
     "execution_count": 30,
     "metadata": {},
     "output_type": "execute_result"
    }
   ],
   "source": [
    "# test with one example\n",
    "processed_example = prepare_dataset(dataset[0])\n",
    "list(processed_example.keys())"
   ]
  },
  {
   "cell_type": "code",
   "execution_count": 31,
   "id": "1f9075c3-a062-4a17-ad72-4b7cb5c3062a",
   "metadata": {},
   "outputs": [
    {
     "data": {
      "text/plain": [
       "(512,)"
      ]
     },
     "execution_count": 31,
     "metadata": {},
     "output_type": "execute_result"
    }
   ],
   "source": [
    "# check embeddings shape\n",
    "processed_example[\"speaker_embeddings\"].shape"
   ]
  },
  {
   "cell_type": "code",
   "execution_count": 32,
   "id": "68608f0d-a4c3-4205-ab8f-5daeec43c661",
   "metadata": {},
   "outputs": [
    {
     "data": {
      "image/png": "[encoded data removed]",
      "text/plain": [
       "<Figure size 640x480 with 1 Axes>"
      ]
     },
     "metadata": {},
     "output_type": "display_data"
    }
   ],
   "source": [
    "# check labels is log-mel spectrogram with 80 bins\n",
    "import matplotlib.pyplot as plt\n",
    "plt.figure()\n",
    "plt.imshow(processed_example[\"labels\"].T)\n",
    "plt.show()"
   ]
  },
  {
   "cell_type": "code",
   "execution_count": 33,
   "id": "003bdbd4-6a87-4afc-895d-61ea9623ad41",
   "metadata": {},
   "outputs": [
    {
     "data": {
      "text/plain": [
       "25823"
      ]
     },
     "execution_count": 33,
     "metadata": {},
     "output_type": "execute_result"
    }
   ],
   "source": [
    "len(dataset)"
   ]
  },
  {
   "cell_type": "code",
   "execution_count": 34,
   "id": "2f3a5276-c866-4f93-8d13-36a985112703",
   "metadata": {},
   "outputs": [
    {
     "data": {
      "application/vnd.jupyter.widget-view+json": {
       "model_id": "27573505e18f4636909f9d1b0a47c8fb",
       "version_major": 2,
       "version_minor": 0
      },
      "text/plain": [
       "  0%|          | 0/25823 [00:00<?, ?ex/s]"
      ]
     },
     "metadata": {},
     "output_type": "display_data"
    },
    {
     "name": "stderr",
     "output_type": "stream",
     "text": [
      "Token indices sequence length is longer than the specified maximum sequence length for this model (667 > 600). Running this sequence through the model will result in indexing errors\n"
     ]
    },
    {
     "data": {
      "text/plain": [
       "Dataset({\n",
       "    features: ['input_ids', 'labels', 'speaker_embeddings'],\n",
       "    num_rows: 25823\n",
       "})"
      ]
     },
     "execution_count": 34,
     "metadata": {},
     "output_type": "execute_result"
    }
   ],
   "source": [
    "dataset = dataset.map(prepare_dataset, remove_columns=dataset.column_names, num_proc=1)\n",
    "dataset"
   ]
  },
  {
   "cell_type": "code",
   "execution_count": 35,
   "id": "2d4ba88f-0725-4695-b6f6-6df658ea4f3c",
   "metadata": {},
   "outputs": [
    {
     "data": {
      "text/plain": [
       "['input_ids', 'labels', 'speaker_embeddings']"
      ]
     },
     "execution_count": 35,
     "metadata": {},
     "output_type": "execute_result"
    }
   ],
   "source": [
    "dataset.column_names"
   ]
  },
  {
   "cell_type": "code",
   "execution_count": 36,
   "id": "4ab67cc6-da1a-4782-a196-84b5e822adca",
   "metadata": {},
   "outputs": [],
   "source": [
    "from collections import defaultdict\n",
    "lengths = defaultdict(int)\n",
    "for input_id in dataset[\"input_ids\"]:\n",
    "    lengths[len(input_id)] += 1"
   ]
  },
  {
   "cell_type": "code",
   "execution_count": 37,
   "id": "caf744c5-989f-428c-889b-0dd9dae8105d",
   "metadata": {},
   "outputs": [
    {
     "data": {
      "image/png": "[encoded data removed]",
      "text/plain": [
       "<Figure size 640x480 with 1 Axes>"
      ]
     },
     "metadata": {},
     "output_type": "display_data"
    }
   ],
   "source": [
    "import matplotlib.pyplot as plt\n",
    "\n",
    "plt.figure()\n",
    "plt.hist(lengths.values(), bins=20)\n",
    "plt.ylabel(\"Lengths\")\n",
    "plt.xlabel(\"Examples\")\n",
    "plt.show()"
   ]
  },
  {
   "cell_type": "code",
   "execution_count": 38,
   "id": "73020d92-4ece-4fd5-93dc-a863fc55c969",
   "metadata": {},
   "outputs": [
    {
     "data": {
      "text/plain": [
       "25823"
      ]
     },
     "execution_count": 38,
     "metadata": {},
     "output_type": "execute_result"
    }
   ],
   "source": [
    "len(dataset)"
   ]
  },
  {
   "cell_type": "code",
   "execution_count": 39,
   "id": "41fccb65-a660-47f8-af4b-3db60f7d3732",
   "metadata": {},
   "outputs": [
    {
     "data": {
      "application/vnd.jupyter.widget-view+json": {
       "model_id": "31f5d019bca34bfc9fd823e3b8611611",
       "version_major": 2,
       "version_minor": 0
      },
      "text/plain": [
       "  0%|          | 0/26 [00:00<?, ?ba/s]"
      ]
     },
     "metadata": {},
     "output_type": "display_data"
    },
    {
     "data": {
      "text/plain": [
       "25060"
      ]
     },
     "execution_count": 39,
     "metadata": {},
     "output_type": "execute_result"
    }
   ],
   "source": [
    "def is_not_too_long(input_ids):\n",
    "    input_length = len(input_ids)\n",
    "    return input_length < 400\n",
    "dataset = dataset.filter(is_not_too_long, input_columns=[\"input_ids\"])\n",
    "len(dataset)"
   ]
  },
  {
   "cell_type": "code",
   "execution_count": 40,
   "id": "7ea327b6-c0b3-4983-85be-3eb48555037d",
   "metadata": {},
   "outputs": [
    {
     "data": {
      "text/plain": [
       "25060"
      ]
     },
     "execution_count": 40,
     "metadata": {},
     "output_type": "execute_result"
    }
   ],
   "source": [
    "len(dataset)"
   ]
  },
  {
   "cell_type": "code",
   "execution_count": 41,
   "id": "7f4fe037-b235-497b-9d6d-66f31d5429e3",
   "metadata": {},
   "outputs": [],
   "source": [
    "dataset = dataset.train_test_split(test_size=0.1)"
   ]
  },
  {
   "cell_type": "markdown",
   "id": "46a88b34-fba7-45f3-ac14-052efa8aa835",
   "metadata": {},
   "source": [
    "#### Data collator"
   ]
  },
  {
   "cell_type": "code",
   "execution_count": 42,
   "id": "c31b4727-ca12-491c-9367-19f656fb7be5",
   "metadata": {},
   "outputs": [],
   "source": [
    "# to combine multiple examples into a batch, you need to define a custom data collator. \n",
    "from dataclasses import dataclass\n",
    "from typing import Any, Dict, List, Union\n",
    "\n",
    "\n",
    "@dataclass\n",
    "class TTSDataCollatorWithPadding:\n",
    "    processor: Any\n",
    "\n",
    "    def __call__(\n",
    "        self, features: List[Dict[str, Union[List[int], torch.Tensor]]]\n",
    "    ) -> Dict[str, torch.Tensor]:\n",
    "        input_ids = [{\"input_ids\": feature[\"input_ids\"]} for feature in features]\n",
    "        label_features = [{\"input_values\": feature[\"labels\"]} for feature in features]\n",
    "        speaker_features = [feature[\"speaker_embeddings\"] for feature in features]\n",
    "\n",
    "        # collate the inputs and targets into a batch\n",
    "        batch = processor.pad(\n",
    "            input_ids=input_ids, labels=label_features, return_tensors=\"pt\"\n",
    "        )\n",
    "\n",
    "        # replace padding with -100 to ignore loss correctly\n",
    "        batch[\"labels\"] = batch[\"labels\"].masked_fill(\n",
    "            batch.decoder_attention_mask.unsqueeze(-1).ne(1), -100\n",
    "        )\n",
    "\n",
    "        # not used during fine-tuning\n",
    "        del batch[\"decoder_attention_mask\"]\n",
    "\n",
    "        # round down target lengths to multiple of reduction factor\n",
    "        if model.config.reduction_factor > 1:\n",
    "            target_lengths = torch.tensor(\n",
    "                [len(feature[\"input_values\"]) for feature in label_features]\n",
    "            )\n",
    "            target_lengths = target_lengths.new(\n",
    "                [\n",
    "                    length - length % model.config.reduction_factor\n",
    "                    for length in target_lengths\n",
    "                ]\n",
    "            )\n",
    "            max_length = max(target_lengths)\n",
    "            batch[\"labels\"] = batch[\"labels\"][:, :max_length]\n",
    "\n",
    "        # also add in the speaker embeddings\n",
    "        batch[\"speaker_embeddings\"] = torch.tensor(speaker_features)\n",
    "\n",
    "        return batch"
   ]
  },
  {
   "cell_type": "code",
   "execution_count": 43,
   "id": "7a029e4f-ecde-472c-9923-b32cbbb1c44c",
   "metadata": {},
   "outputs": [],
   "source": [
    "data_collator = TTSDataCollatorWithPadding(processor=processor)"
   ]
  },
  {
   "cell_type": "markdown",
   "id": "dd3625cb-8466-42d2-ad0c-726f11212451",
   "metadata": {},
   "source": [
    "### Train the model"
   ]
  },
  {
   "cell_type": "code",
   "execution_count": 44,
   "id": "27c327da-8030-4650-bf5d-570c4a48a219",
   "metadata": {},
   "outputs": [
    {
     "data": {
      "application/vnd.jupyter.widget-view+json": {
       "model_id": "c4456b9aa8414a308cbafaaeab2f4b23",
       "version_major": 2,
       "version_minor": 0
      },
      "text/plain": [
       "Downloading (…)lve/main/config.json:   0%|          | 0.00/2.06k [00:00<?, ?B/s]"
      ]
     },
     "metadata": {},
     "output_type": "display_data"
    },
    {
     "data": {
      "application/vnd.jupyter.widget-view+json": {
       "model_id": "06ef2ec51a0c4e0e8b0410335fdcd8b9",
       "version_major": 2,
       "version_minor": 0
      },
      "text/plain": [
       "Downloading pytorch_model.bin:   0%|          | 0.00/585M [00:00<?, ?B/s]"
      ]
     },
     "metadata": {},
     "output_type": "display_data"
    }
   ],
   "source": [
    "from transformers import SpeechT5ForTextToSpeech\n",
    "model = SpeechT5ForTextToSpeech.from_pretrained(checkpoint)"
   ]
  },
  {
   "cell_type": "code",
   "execution_count": 45,
   "id": "b94c4179-0c48-4d57-8f5b-36c4f95e1c8b",
   "metadata": {},
   "outputs": [],
   "source": [
    "from functools import partial\n",
    "\n",
    "# disable cache during training since it's incompatible with gradient checkpointing\n",
    "model.config.use_cache = False\n",
    "\n",
    "# set language and task for generation and re-enable cache\n",
    "model.generate = partial(model.generate, use_cache=True)"
   ]
  },
  {
   "cell_type": "code",
   "execution_count": 46,
   "id": "6ab04a73-a97b-4480-8607-dbf45af3eb55",
   "metadata": {},
   "outputs": [
    {
     "name": "stderr",
     "output_type": "stream",
     "text": [
      "\u001b[34m\u001b[1mwandb\u001b[0m: Logging into wandb.ai. (Learn how to deploy a W&B server locally: https://wandb.me/wandb-server)\n",
      "\u001b[34m\u001b[1mwandb\u001b[0m: You can find your API key in your browser here: https://wandb.ai/authorize\n",
      "\u001b[34m\u001b[1mwandb\u001b[0m: Paste an API key from your profile and hit enter, or press ctrl+c to quit:"
     ]
    },
    {
     "name": "stdin",
     "output_type": "stream",
     "text": [
      "  ········\n"
     ]
    },
    {
     "name": "stderr",
     "output_type": "stream",
     "text": [
      "\u001b[34m\u001b[1mwandb\u001b[0m: Appending key for api.wandb.ai to your netrc file: /root/.netrc\n"
     ]
    },
    {
     "data": {
      "text/plain": [
       "True"
      ]
     },
     "execution_count": 46,
     "metadata": {},
     "output_type": "execute_result"
    }
   ],
   "source": [
    "import wandb\n",
    "wandb.login()"
   ]
  },
  {
   "cell_type": "code",
   "execution_count": 47,
   "id": "d4ff2a10-d4cf-426f-bcbb-99909b6446d6",
   "metadata": {},
   "outputs": [
    {
     "name": "stderr",
     "output_type": "stream",
     "text": [
      "\u001b[34m\u001b[1mwandb\u001b[0m: Currently logged in as: \u001b[33mptah23\u001b[0m. Use \u001b[1m`wandb login --relogin`\u001b[0m to force relogin\n"
     ]
    },
    {
     "data": {
      "application/vnd.jupyter.widget-view+json": {
       "model_id": "764f9e0316b141e58352c225f80e61e3",
       "version_major": 2,
       "version_minor": 0
      },
      "text/plain": [
       "VBox(children=(Label(value='Waiting for wandb.init()...\\r'), FloatProgress(value=0.016668857266389146, max=1.0…"
      ]
     },
     "metadata": {},
     "output_type": "display_data"
    },
    {
     "data": {
      "text/html": [
       "Tracking run with wandb version 0.15.5"
      ],
      "text/plain": [
       "<IPython.core.display.HTML object>"
      ]
     },
     "metadata": {},
     "output_type": "display_data"
    },
    {
     "data": {
      "text/html": [
       "Run data is saved locally in <code>/notebooks/wandb/run-20230713_144909-lj5sy7ic</code>"
      ],
      "text/plain": [
       "<IPython.core.display.HTML object>"
      ]
     },
     "metadata": {},
     "output_type": "display_data"
    },
    {
     "data": {
      "text/html": [
       "Resuming run <strong><a href='https://wandb.ai/ptah23/huggingface-audio-course-unit6-handson/runs/lj5sy7ic' target=\"_blank\">dark-thunder-1</a></strong> to <a href='https://wandb.ai/ptah23/huggingface-audio-course-unit6-handson' target=\"_blank\">Weights & Biases</a> (<a href='https://wandb.me/run' target=\"_blank\">docs</a>)<br/>"
      ],
      "text/plain": [
       "<IPython.core.display.HTML object>"
      ]
     },
     "metadata": {},
     "output_type": "display_data"
    },
    {
     "data": {
      "text/html": [
       " View project at <a href='https://wandb.ai/ptah23/huggingface-audio-course-unit6-handson' target=\"_blank\">https://wandb.ai/ptah23/huggingface-audio-course-unit6-handson</a>"
      ],
      "text/plain": [
       "<IPython.core.display.HTML object>"
      ]
     },
     "metadata": {},
     "output_type": "display_data"
    },
    {
     "data": {
      "text/html": [
       " View run at <a href='https://wandb.ai/ptah23/huggingface-audio-course-unit6-handson/runs/lj5sy7ic' target=\"_blank\">https://wandb.ai/ptah23/huggingface-audio-course-unit6-handson/runs/lj5sy7ic</a>"
      ],
      "text/plain": [
       "<IPython.core.display.HTML object>"
      ]
     },
     "metadata": {},
     "output_type": "display_data"
    },
    {
     "data": {
      "text/html": [
       "<button onClick=\"this.nextSibling.style.display='block';this.style.display='none';\">Display W&B run</button><iframe src='https://wandb.ai/ptah23/huggingface-audio-course-unit6-handson/runs/lj5sy7ic?jupyter=true' style='border:none;width:100%;height:420px;display:none;'></iframe>"
      ],
      "text/plain": [
       "<wandb.sdk.wandb_run.Run at 0x7f4f398f8f40>"
      ]
     },
     "execution_count": 47,
     "metadata": {},
     "output_type": "execute_result"
    }
   ],
   "source": [
    "wandb.init(project=\"huggingface-audio-course-unit6-handson\", resume=True)"
   ]
  },
  {
   "cell_type": "code",
   "execution_count": 48,
   "id": "f330a121-6d85-49c0-bb37-f9035bdbbac8",
   "metadata": {},
   "outputs": [],
   "source": [
    "from transformers import Seq2SeqTrainingArguments\n",
    "\n",
    "training_args = Seq2SeqTrainingArguments(\n",
    "    output_dir=\"speecht5_finetuned_voxpopuli_es\",  # change to a repo name of your choice\n",
    "    per_device_train_batch_size=4,\n",
    "    gradient_accumulation_steps=8,\n",
    "    learning_rate=1e-5,\n",
    "    warmup_steps=500,\n",
    "    max_steps=4000,\n",
    "    gradient_checkpointing=True,\n",
    "    fp16=True,\n",
    "    evaluation_strategy=\"steps\",\n",
    "    per_device_eval_batch_size=4,\n",
    "    save_steps=100,\n",
    "    eval_steps=100,\n",
    "    logging_steps=25,\n",
    "    report_to=[\"wandb\"],\n",
    "    load_best_model_at_end=True,\n",
    "    greater_is_better=False,\n",
    "    label_names=[\"labels\"],\n",
    "    push_to_hub=True,\n",
    ")"
   ]
  },
  {
   "cell_type": "code",
   "execution_count": 49,
   "id": "2bd04ff5-f13b-4d52-b22f-59cff74bb1a5",
   "metadata": {},
   "outputs": [
    {
     "name": "stderr",
     "output_type": "stream",
     "text": [
      "/notebooks/speecht5_finetuned_voxpopuli_es is already a clone of https://huggingface.co/ptah23/speecht5_finetuned_voxpopuli_es. Make sure you pull the latest changes with `repo.git_pull()`.\n"
     ]
    }
   ],
   "source": [
    "from transformers import Seq2SeqTrainer\n",
    "\n",
    "trainer = Seq2SeqTrainer(\n",
    "    args=training_args,\n",
    "    model=model,\n",
    "    train_dataset=dataset[\"train\"],\n",
    "    eval_dataset=dataset[\"test\"],\n",
    "    data_collator=data_collator,\n",
    "    tokenizer=processor,\n",
    ")"
   ]
  },
  {
   "cell_type": "code",
   "execution_count": 50,
   "id": "acb4ca7e-a87e-4ba4-83c5-12ce48f81429",
   "metadata": {},
   "outputs": [
    {
     "name": "stderr",
     "output_type": "stream",
     "text": [
      "You are resuming training from a checkpoint trained with 4.31.0.dev0 of Transformers but your current version is 4.30.2. This is not recommended and could yield to errors or unwanted behaviors.\n",
      "There were missing keys in the checkpoint model loaded: ['speecht5.encoder.prenet.encode_positions.pe', 'speecht5.decoder.prenet.encode_positions.pe'].\n",
      "/usr/local/lib/python3.9/dist-packages/transformers/optimization.py:411: FutureWarning: This implementation of AdamW is deprecated and will be removed in a future version. Use the PyTorch implementation torch.optim.AdamW instead, or set `no_deprecation_warning=True` to disable this warning\n",
      "  warnings.warn(\n"
     ]
    },
    {
     "data": {
      "text/html": [
       "\n",
       "    <div>\n",
       "      \n",
       "      <progress value='4000' max='4000' style='width:300px; height:20px; vertical-align: middle;'></progress>\n",
       "      [4000/4000 1:25:08, Epoch 5/6]\n",
       "    </div>\n",
       "    <table border=\"1\" class=\"dataframe\">\n",
       "  <thead>\n",
       " <tr style=\"text-align: left;\">\n",
       "      <th>Step</th>\n",
       "      <th>Training Loss</th>\n",
       "      <th>Validation Loss</th>\n",
       "    </tr>\n",
       "  </thead>\n",
       "  <tbody>\n",
       "    <tr>\n",
       "      <td>2500</td>\n",
       "      <td>0.479900</td>\n",
       "      <td>0.442862</td>\n",
       "    </tr>\n",
       "    <tr>\n",
       "      <td>2600</td>\n",
       "      <td>0.480600</td>\n",
       "      <td>0.442916</td>\n",
       "    </tr>\n",
       "    <tr>\n",
       "      <td>2700</td>\n",
       "      <td>0.477700</td>\n",
       "      <td>0.441647</td>\n",
       "    </tr>\n",
       "    <tr>\n",
       "      <td>2800</td>\n",
       "      <td>0.478700</td>\n",
       "      <td>0.442325</td>\n",
       "    </tr>\n",
       "    <tr>\n",
       "      <td>2900</td>\n",
       "      <td>0.482300</td>\n",
       "      <td>0.441941</td>\n",
       "    </tr>\n",
       "    <tr>\n",
       "      <td>3000</td>\n",
       "      <td>0.482200</td>\n",
       "      <td>0.440869</td>\n",
       "    </tr>\n",
       "    <tr>\n",
       "      <td>3100</td>\n",
       "      <td>0.479600</td>\n",
       "      <td>0.440414</td>\n",
       "    </tr>\n",
       "    <tr>\n",
       "      <td>3200</td>\n",
       "      <td>0.480500</td>\n",
       "      <td>0.441790</td>\n",
       "    </tr>\n",
       "    <tr>\n",
       "      <td>3300</td>\n",
       "      <td>0.479500</td>\n",
       "      <td>0.440929</td>\n",
       "    </tr>\n",
       "    <tr>\n",
       "      <td>3400</td>\n",
       "      <td>0.478400</td>\n",
       "      <td>0.441062</td>\n",
       "    </tr>\n",
       "    <tr>\n",
       "      <td>3500</td>\n",
       "      <td>0.481200</td>\n",
       "      <td>0.440624</td>\n",
       "    </tr>\n",
       "    <tr>\n",
       "      <td>3600</td>\n",
       "      <td>0.478000</td>\n",
       "      <td>0.439868</td>\n",
       "    </tr>\n",
       "    <tr>\n",
       "      <td>3700</td>\n",
       "      <td>0.476600</td>\n",
       "      <td>0.439632</td>\n",
       "    </tr>\n",
       "    <tr>\n",
       "      <td>3800</td>\n",
       "      <td>0.482100</td>\n",
       "      <td>0.440652</td>\n",
       "    </tr>\n",
       "    <tr>\n",
       "      <td>3900</td>\n",
       "      <td>0.480000</td>\n",
       "      <td>0.439591</td>\n",
       "    </tr>\n",
       "    <tr>\n",
       "      <td>4000</td>\n",
       "      <td>0.479500</td>\n",
       "      <td>0.440001</td>\n",
       "    </tr>\n",
       "  </tbody>\n",
       "</table><p>"
      ],
      "text/plain": [
       "<IPython.core.display.HTML object>"
      ]
     },
     "metadata": {},
     "output_type": "display_data"
    },
    {
     "data": {
      "text/plain": [
       "TrainOutput(global_step=4000, training_loss=0.19185583806037904, metrics={'train_runtime': 5110.521, 'train_samples_per_second': 25.046, 'train_steps_per_second': 0.783, 'total_flos': 2.9313899856717696e+16, 'train_loss': 0.19185583806037904, 'epoch': 5.68})"
      ]
     },
     "execution_count": 50,
     "metadata": {},
     "output_type": "execute_result"
    }
   ],
   "source": [
    "#trainer.train()\n",
    "trainer.train(resume_from_checkpoint=True)"
   ]
  },
  {
   "cell_type": "code",
   "execution_count": 51,
   "id": "1f102b72-19f1-453f-8ea9-21034b557704",
   "metadata": {},
   "outputs": [
    {
     "name": "stderr",
     "output_type": "stream",
     "text": [
      "Several commits (2) will be pushed upstream.\n",
      "The progress bars may be unreliable.\n"
     ]
    },
    {
     "data": {
      "application/vnd.jupyter.widget-view+json": {
       "model_id": "9ef02bab5b004050ad399ec6c69bc0ee",
       "version_major": 2,
       "version_minor": 0
      },
      "text/plain": [
       "Upload file pytorch_model.bin:   0%|          | 1.00/558M [00:00<?, ?B/s]"
      ]
     },
     "metadata": {},
     "output_type": "display_data"
    },
    {
     "name": "stderr",
     "output_type": "stream",
     "text": [
      "To https://huggingface.co/ptah23/speecht5_finetuned_voxpopuli_es\n",
      "   6556257..d156f1e  main -> main\n",
      "\n",
      "To https://huggingface.co/ptah23/speecht5_finetuned_voxpopuli_es\n",
      "   d156f1e..b5748f6  main -> main\n",
      "\n"
     ]
    },
    {
     "data": {
      "text/plain": [
       "'https://huggingface.co/ptah23/speecht5_finetuned_voxpopuli_es/commit/d156f1e0e5f41a5f99d894bdf12d54e95967594e'"
      ]
     },
     "execution_count": 51,
     "metadata": {},
     "output_type": "execute_result"
    }
   ],
   "source": [
    "kwargs = {\n",
    "    \"dataset_tags\": \"facebook/voxpopuli\",\n",
    "    \"dataset\": \"Vox Populi ES\",  # a 'pretty' name for the training dataset\n",
    "    \"language\": \"es\",\n",
    "    \"model_name\": \"speec T5 ES - Peter Gelderbloem\",  # a 'pretty' name for your model\n",
    "    \"finetuned_from\": \"microsoft/speecht5_tts\",\n",
    "    \"tasks\": \"text-to-speech\",\n",
    "}\n",
    "trainer.push_to_hub(**kwargs)"
   ]
  },
  {
   "cell_type": "markdown",
   "id": "ce2db2a9-14d6-4e81-a9be-c5902ddf217b",
   "metadata": {},
   "source": [
    "### Inference"
   ]
  },
  {
   "cell_type": "code",
   "execution_count": 52,
   "id": "c7e5008c-7182-48d6-822f-d4442f6233b7",
   "metadata": {},
   "outputs": [
    {
     "data": {
      "application/vnd.jupyter.widget-view+json": {
       "model_id": "6bf1607fcb614414a0dac10d81bab401",
       "version_major": 2,
       "version_minor": 0
      },
      "text/plain": [
       "Downloading (…)lve/main/config.json:   0%|          | 0.00/2.10k [00:00<?, ?B/s]"
      ]
     },
     "metadata": {},
     "output_type": "display_data"
    },
    {
     "data": {
      "application/vnd.jupyter.widget-view+json": {
       "model_id": "36868755a1ea4c9e935cb1145cd5dc23",
       "version_major": 2,
       "version_minor": 0
      },
      "text/plain": [
       "Downloading pytorch_model.bin:   0%|          | 0.00/585M [00:00<?, ?B/s]"
      ]
     },
     "metadata": {},
     "output_type": "display_data"
    }
   ],
   "source": [
    "model = SpeechT5ForTextToSpeech.from_pretrained(\"ptah23/speecht5_finetuned_voxpopuli_es\")"
   ]
  },
  {
   "cell_type": "code",
   "execution_count": 55,
   "id": "19a86618-df76-4e08-b2ba-4ff54b20443b",
   "metadata": {},
   "outputs": [],
   "source": [
    "example = dataset[\"test\"][122]\n",
    "speaker_embeddings = torch.tensor(example[\"speaker_embeddings\"]).unsqueeze(0)"
   ]
  },
  {
   "cell_type": "code",
   "execution_count": 56,
   "id": "29dd246e-3654-420f-a309-d73852245605",
   "metadata": {},
   "outputs": [],
   "source": [
    "text = \"me gustas tu\"\n",
    "inputs = processor(text=text, return_tensors=\"pt\")"
   ]
  },
  {
   "cell_type": "code",
   "execution_count": 57,
   "id": "61af5bc3-cd55-4524-a232-8fab92dd7ccb",
   "metadata": {},
   "outputs": [],
   "source": [
    "# instantiate vocoder and generate\n",
    "from transformers import SpeechT5HifiGan\n",
    "vocoder = SpeechT5HifiGan.from_pretrained(\"microsoft/speecht5_hifigan\")\n",
    "speech = model.generate_speech(inputs[\"input_ids\"], speaker_embeddings, vocoder=vocoder)"
   ]
  },
  {
   "cell_type": "code",
   "execution_count": 58,
   "id": "95b92404-48dc-448c-8323-aca1bf0944d4",
   "metadata": {},
   "outputs": [
    {
     "data": {
      "text/html": [
       "\n",
       "                <audio  controls=\"controls\" >\n",
       "                    <source src=\"data:audio/wav;base64,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\" type=\"audio/wav\" />\n",
       "                    Your browser does not support the audio element.\n",
       "                </audio>\n",
       "              "
      ],
      "text/plain": [
       "<IPython.lib.display.Audio object>"
      ]
     },
     "execution_count": 58,
     "metadata": {},
     "output_type": "execute_result"
    }
   ],
   "source": [
    "import IPython\n",
    "IPython.display.Audio(speech.numpy(), rate=16000)"
   ]
  },
  {
   "cell_type": "code",
   "execution_count": null,
   "id": "67e2090b-5463-41c5-8e06-1294730586b4",
   "metadata": {},
   "outputs": [],
   "source": []
  }
 ],
 "metadata": {
  "kernelspec": {
   "display_name": "Python 3 (ipykernel)",
   "language": "python",
   "name": "python3"
  },
  "language_info": {
   "codemirror_mode": {
    "name": "ipython",
    "version": 3
   },
   "file_extension": ".py",
   "mimetype": "text/x-python",
   "name": "python",
   "nbconvert_exporter": "python",
   "pygments_lexer": "ipython3",
   "version": "3.9.16"
  }
 },
 "nbformat": 4,
 "nbformat_minor": 5
}
